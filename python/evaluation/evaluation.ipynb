{
 "cells": [
  {
   "cell_type": "markdown",
   "id": "7473bacd-9f0f-473f-916d-12d501dabd5c",
   "metadata": {},
   "source": [
    "# Trabajo evaluable de Python"
   ]
  },
  {
   "cell_type": "markdown",
   "id": "6f3f16a2",
   "metadata": {},
   "source": [
    "**Alumno**: Daniel Ranchal Parrado\n",
    "\n",
    "**Correo electrónico**: [danielranchal@correo.uco.es](mailto:danielranchal@correo.ugr.es)"
   ]
  },
  {
   "cell_type": "markdown",
   "id": "726d783d",
   "metadata": {},
   "source": [
    "## Descripción del dataset"
   ]
  },
  {
   "cell_type": "markdown",
   "id": "32bb7dfe-b28d-4ed5-be20-e0fdf8ed2b19",
   "metadata": {},
   "source": [
    "El dataset que se ha escogido para este trabajo es [Congressional Voting Records](https://archive.ics.uci.edu/ml/datasets/congressional+voting+records), que se encuentra en el repositorio de datasets de UCI. EL dataset recoge los votos de cada congresista del nonagésimo octavo congreso de los Estados Unidos sobre 16 elementos clave identificados por el Congressional Quarterly (CQA). El CQA identifica 9 tipos de votos: voto a favor, posición a favor, anunciado a favor (estos tres se han simplificado a \"yes\"), voto en contra, posición en contra, anunciado en contra (estos tres se han simplificado a \"no\"), vota abstención, vota abstención por conflicto de intereses y no vota o no se conoce la posición (estos últimos tres se simplifican a valor perdido).\n",
    "Los atributos de este dataset son los siguientes:\n",
    "- **handicapped-infants**. Variable binaria\n",
    "- **water-project-cost-sharing**. Variable binaria\n",
    "- **adoption-of-the-budget-resolution**. Variable binaria\n",
    "- **physician-fee-freeze**. Variable binaria\n",
    "- **el-salvador-aid**. Variable binaria\n",
    "- **religious-groups-in-schools**. Variable binaria\n",
    "- **anti-satellite-test-ban**. Variable binaria\n",
    "- **aid-to-nicaraguan-contras**. Variable binaria\n",
    "- **mx-missile**. Variable binaria\n",
    "- **immigration**. Variable binaria\n",
    "- **synfuels-corporation-cutback**. Variable binaria\n",
    "- **education-spending**. Variable binaria\n",
    "- **superfund-right-to-sue**. Variable binaria\n",
    "- **crime**. Variable binaria\n",
    "- **duty-free-exports**. Variable binaria\n",
    "- **export-administration-act-south-africa**. Variable binaria\n",
    "\n",
    "La variable a predecir es **Class** que toma los valores \"democrat\" o \"republican\""
   ]
  },
  {
   "cell_type": "markdown",
   "id": "1e501c4f",
   "metadata": {},
   "source": [
    "## Lectura y preprocesamiento del dataset"
   ]
  },
  {
   "cell_type": "code",
   "execution_count": 1,
   "id": "2a790805-823e-41ab-ada1-60da4e99196e",
   "metadata": {},
   "outputs": [],
   "source": [
    "%matplotlib inline\n",
    "import matplotlib.pyplot as plt\n",
    "import pandas as pd\n",
    "import seaborn as sns\n",
    "from scipy.stats import uniform\n",
    "from sklearn.decomposition import PCA\n",
    "from sklearn.model_selection import cross_val_score, GridSearchCV, RandomizedSearchCV, StratifiedKFold\n",
    "from sklearn.neighbors import KNeighborsClassifier\n",
    "from sklearn.preprocessing import OneHotEncoder\n",
    "from sklearn.svm import SVC\n",
    "from sklearn.tree import DecisionTreeClassifier, export_graphviz"
   ]
  },
  {
   "cell_type": "code",
   "execution_count": 2,
   "id": "1d1f4b48",
   "metadata": {},
   "outputs": [],
   "source": [
    "columns = [\n",
    "    \"handicapped-infants\",\n",
    "    \"water-project-cost-sharing\",\n",
    "    \"adoption-of-the-budget-resolution\",\n",
    "    \"physician-fee-freeze\",\n",
    "    \"el-salvador-aid\",\n",
    "    \"religious-groups-in-schools\",\n",
    "    \"anti-satellite-test-ban\",\n",
    "    \"aid-to-nicaraguan-contras\",\n",
    "    \"mx-missile\",\n",
    "    \"immigration\",\n",
    "    \"synfuels-corporation-cutback\",\n",
    "    \"education-spending\",\n",
    "    \"superfund-right-to-sue\",\n",
    "    \"crime\",\n",
    "    \"duty-free-exports\",\n",
    "    \"export-administration-act-south-africa\"\n",
    "]"
   ]
  },
  {
   "cell_type": "code",
   "execution_count": 3,
   "id": "0004a02f",
   "metadata": {},
   "outputs": [],
   "source": [
    "data = pd.read_csv(\n",
    "    \"https://archive.ics.uci.edu/ml/machine-learning-databases/voting-records/house-votes-84.data\",\n",
    "    header=None,\n",
    "    names=[\"Class\"] + columns\n",
    ")\n",
    "\n",
    "Class = data.pop(\"Class\")\n",
    "data[\"Class\"] = Class"
   ]
  },
  {
   "cell_type": "code",
   "execution_count": 4,
   "id": "eae0083e",
   "metadata": {},
   "outputs": [
    {
     "data": {
      "text/html": [
       "<div>\n",
       "<style scoped>\n",
       "    .dataframe tbody tr th:only-of-type {\n",
       "        vertical-align: middle;\n",
       "    }\n",
       "\n",
       "    .dataframe tbody tr th {\n",
       "        vertical-align: top;\n",
       "    }\n",
       "\n",
       "    .dataframe thead th {\n",
       "        text-align: right;\n",
       "    }\n",
       "</style>\n",
       "<table border=\"1\" class=\"dataframe\">\n",
       "  <thead>\n",
       "    <tr style=\"text-align: right;\">\n",
       "      <th></th>\n",
       "      <th>handicapped-infants</th>\n",
       "      <th>water-project-cost-sharing</th>\n",
       "      <th>adoption-of-the-budget-resolution</th>\n",
       "      <th>physician-fee-freeze</th>\n",
       "      <th>el-salvador-aid</th>\n",
       "      <th>religious-groups-in-schools</th>\n",
       "      <th>anti-satellite-test-ban</th>\n",
       "      <th>aid-to-nicaraguan-contras</th>\n",
       "      <th>mx-missile</th>\n",
       "      <th>immigration</th>\n",
       "      <th>synfuels-corporation-cutback</th>\n",
       "      <th>education-spending</th>\n",
       "      <th>superfund-right-to-sue</th>\n",
       "      <th>crime</th>\n",
       "      <th>duty-free-exports</th>\n",
       "      <th>export-administration-act-south-africa</th>\n",
       "      <th>Class</th>\n",
       "    </tr>\n",
       "  </thead>\n",
       "  <tbody>\n",
       "    <tr>\n",
       "      <th>0</th>\n",
       "      <td>n</td>\n",
       "      <td>y</td>\n",
       "      <td>n</td>\n",
       "      <td>y</td>\n",
       "      <td>y</td>\n",
       "      <td>y</td>\n",
       "      <td>n</td>\n",
       "      <td>n</td>\n",
       "      <td>n</td>\n",
       "      <td>y</td>\n",
       "      <td>?</td>\n",
       "      <td>y</td>\n",
       "      <td>y</td>\n",
       "      <td>y</td>\n",
       "      <td>n</td>\n",
       "      <td>y</td>\n",
       "      <td>republican</td>\n",
       "    </tr>\n",
       "    <tr>\n",
       "      <th>1</th>\n",
       "      <td>n</td>\n",
       "      <td>y</td>\n",
       "      <td>n</td>\n",
       "      <td>y</td>\n",
       "      <td>y</td>\n",
       "      <td>y</td>\n",
       "      <td>n</td>\n",
       "      <td>n</td>\n",
       "      <td>n</td>\n",
       "      <td>n</td>\n",
       "      <td>n</td>\n",
       "      <td>y</td>\n",
       "      <td>y</td>\n",
       "      <td>y</td>\n",
       "      <td>n</td>\n",
       "      <td>?</td>\n",
       "      <td>republican</td>\n",
       "    </tr>\n",
       "    <tr>\n",
       "      <th>2</th>\n",
       "      <td>?</td>\n",
       "      <td>y</td>\n",
       "      <td>y</td>\n",
       "      <td>?</td>\n",
       "      <td>y</td>\n",
       "      <td>y</td>\n",
       "      <td>n</td>\n",
       "      <td>n</td>\n",
       "      <td>n</td>\n",
       "      <td>n</td>\n",
       "      <td>y</td>\n",
       "      <td>n</td>\n",
       "      <td>y</td>\n",
       "      <td>y</td>\n",
       "      <td>n</td>\n",
       "      <td>n</td>\n",
       "      <td>democrat</td>\n",
       "    </tr>\n",
       "    <tr>\n",
       "      <th>3</th>\n",
       "      <td>n</td>\n",
       "      <td>y</td>\n",
       "      <td>y</td>\n",
       "      <td>n</td>\n",
       "      <td>?</td>\n",
       "      <td>y</td>\n",
       "      <td>n</td>\n",
       "      <td>n</td>\n",
       "      <td>n</td>\n",
       "      <td>n</td>\n",
       "      <td>y</td>\n",
       "      <td>n</td>\n",
       "      <td>y</td>\n",
       "      <td>n</td>\n",
       "      <td>n</td>\n",
       "      <td>y</td>\n",
       "      <td>democrat</td>\n",
       "    </tr>\n",
       "    <tr>\n",
       "      <th>4</th>\n",
       "      <td>y</td>\n",
       "      <td>y</td>\n",
       "      <td>y</td>\n",
       "      <td>n</td>\n",
       "      <td>y</td>\n",
       "      <td>y</td>\n",
       "      <td>n</td>\n",
       "      <td>n</td>\n",
       "      <td>n</td>\n",
       "      <td>n</td>\n",
       "      <td>y</td>\n",
       "      <td>?</td>\n",
       "      <td>y</td>\n",
       "      <td>y</td>\n",
       "      <td>y</td>\n",
       "      <td>y</td>\n",
       "      <td>democrat</td>\n",
       "    </tr>\n",
       "    <tr>\n",
       "      <th>...</th>\n",
       "      <td>...</td>\n",
       "      <td>...</td>\n",
       "      <td>...</td>\n",
       "      <td>...</td>\n",
       "      <td>...</td>\n",
       "      <td>...</td>\n",
       "      <td>...</td>\n",
       "      <td>...</td>\n",
       "      <td>...</td>\n",
       "      <td>...</td>\n",
       "      <td>...</td>\n",
       "      <td>...</td>\n",
       "      <td>...</td>\n",
       "      <td>...</td>\n",
       "      <td>...</td>\n",
       "      <td>...</td>\n",
       "      <td>...</td>\n",
       "    </tr>\n",
       "    <tr>\n",
       "      <th>430</th>\n",
       "      <td>n</td>\n",
       "      <td>n</td>\n",
       "      <td>y</td>\n",
       "      <td>y</td>\n",
       "      <td>y</td>\n",
       "      <td>y</td>\n",
       "      <td>n</td>\n",
       "      <td>n</td>\n",
       "      <td>y</td>\n",
       "      <td>y</td>\n",
       "      <td>n</td>\n",
       "      <td>y</td>\n",
       "      <td>y</td>\n",
       "      <td>y</td>\n",
       "      <td>n</td>\n",
       "      <td>y</td>\n",
       "      <td>republican</td>\n",
       "    </tr>\n",
       "    <tr>\n",
       "      <th>431</th>\n",
       "      <td>n</td>\n",
       "      <td>n</td>\n",
       "      <td>y</td>\n",
       "      <td>n</td>\n",
       "      <td>n</td>\n",
       "      <td>n</td>\n",
       "      <td>y</td>\n",
       "      <td>y</td>\n",
       "      <td>y</td>\n",
       "      <td>y</td>\n",
       "      <td>n</td>\n",
       "      <td>n</td>\n",
       "      <td>n</td>\n",
       "      <td>n</td>\n",
       "      <td>n</td>\n",
       "      <td>y</td>\n",
       "      <td>democrat</td>\n",
       "    </tr>\n",
       "    <tr>\n",
       "      <th>432</th>\n",
       "      <td>n</td>\n",
       "      <td>?</td>\n",
       "      <td>n</td>\n",
       "      <td>y</td>\n",
       "      <td>y</td>\n",
       "      <td>y</td>\n",
       "      <td>n</td>\n",
       "      <td>n</td>\n",
       "      <td>n</td>\n",
       "      <td>n</td>\n",
       "      <td>y</td>\n",
       "      <td>y</td>\n",
       "      <td>y</td>\n",
       "      <td>y</td>\n",
       "      <td>n</td>\n",
       "      <td>y</td>\n",
       "      <td>republican</td>\n",
       "    </tr>\n",
       "    <tr>\n",
       "      <th>433</th>\n",
       "      <td>n</td>\n",
       "      <td>n</td>\n",
       "      <td>n</td>\n",
       "      <td>y</td>\n",
       "      <td>y</td>\n",
       "      <td>y</td>\n",
       "      <td>?</td>\n",
       "      <td>?</td>\n",
       "      <td>?</td>\n",
       "      <td>?</td>\n",
       "      <td>n</td>\n",
       "      <td>y</td>\n",
       "      <td>y</td>\n",
       "      <td>y</td>\n",
       "      <td>n</td>\n",
       "      <td>y</td>\n",
       "      <td>republican</td>\n",
       "    </tr>\n",
       "    <tr>\n",
       "      <th>434</th>\n",
       "      <td>n</td>\n",
       "      <td>y</td>\n",
       "      <td>n</td>\n",
       "      <td>y</td>\n",
       "      <td>y</td>\n",
       "      <td>y</td>\n",
       "      <td>n</td>\n",
       "      <td>n</td>\n",
       "      <td>n</td>\n",
       "      <td>y</td>\n",
       "      <td>n</td>\n",
       "      <td>y</td>\n",
       "      <td>y</td>\n",
       "      <td>y</td>\n",
       "      <td>?</td>\n",
       "      <td>n</td>\n",
       "      <td>republican</td>\n",
       "    </tr>\n",
       "  </tbody>\n",
       "</table>\n",
       "<p>435 rows × 17 columns</p>\n",
       "</div>"
      ],
      "text/plain": [
       "    handicapped-infants water-project-cost-sharing  \\\n",
       "0                     n                          y   \n",
       "1                     n                          y   \n",
       "2                     ?                          y   \n",
       "3                     n                          y   \n",
       "4                     y                          y   \n",
       "..                  ...                        ...   \n",
       "430                   n                          n   \n",
       "431                   n                          n   \n",
       "432                   n                          ?   \n",
       "433                   n                          n   \n",
       "434                   n                          y   \n",
       "\n",
       "    adoption-of-the-budget-resolution physician-fee-freeze el-salvador-aid  \\\n",
       "0                                   n                    y               y   \n",
       "1                                   n                    y               y   \n",
       "2                                   y                    ?               y   \n",
       "3                                   y                    n               ?   \n",
       "4                                   y                    n               y   \n",
       "..                                ...                  ...             ...   \n",
       "430                                 y                    y               y   \n",
       "431                                 y                    n               n   \n",
       "432                                 n                    y               y   \n",
       "433                                 n                    y               y   \n",
       "434                                 n                    y               y   \n",
       "\n",
       "    religious-groups-in-schools anti-satellite-test-ban  \\\n",
       "0                             y                       n   \n",
       "1                             y                       n   \n",
       "2                             y                       n   \n",
       "3                             y                       n   \n",
       "4                             y                       n   \n",
       "..                          ...                     ...   \n",
       "430                           y                       n   \n",
       "431                           n                       y   \n",
       "432                           y                       n   \n",
       "433                           y                       ?   \n",
       "434                           y                       n   \n",
       "\n",
       "    aid-to-nicaraguan-contras mx-missile immigration  \\\n",
       "0                           n          n           y   \n",
       "1                           n          n           n   \n",
       "2                           n          n           n   \n",
       "3                           n          n           n   \n",
       "4                           n          n           n   \n",
       "..                        ...        ...         ...   \n",
       "430                         n          y           y   \n",
       "431                         y          y           y   \n",
       "432                         n          n           n   \n",
       "433                         ?          ?           ?   \n",
       "434                         n          n           y   \n",
       "\n",
       "    synfuels-corporation-cutback education-spending superfund-right-to-sue  \\\n",
       "0                              ?                  y                      y   \n",
       "1                              n                  y                      y   \n",
       "2                              y                  n                      y   \n",
       "3                              y                  n                      y   \n",
       "4                              y                  ?                      y   \n",
       "..                           ...                ...                    ...   \n",
       "430                            n                  y                      y   \n",
       "431                            n                  n                      n   \n",
       "432                            y                  y                      y   \n",
       "433                            n                  y                      y   \n",
       "434                            n                  y                      y   \n",
       "\n",
       "    crime duty-free-exports export-administration-act-south-africa       Class  \n",
       "0       y                 n                                      y  republican  \n",
       "1       y                 n                                      ?  republican  \n",
       "2       y                 n                                      n    democrat  \n",
       "3       n                 n                                      y    democrat  \n",
       "4       y                 y                                      y    democrat  \n",
       "..    ...               ...                                    ...         ...  \n",
       "430     y                 n                                      y  republican  \n",
       "431     n                 n                                      y    democrat  \n",
       "432     y                 n                                      y  republican  \n",
       "433     y                 n                                      y  republican  \n",
       "434     y                 ?                                      n  republican  \n",
       "\n",
       "[435 rows x 17 columns]"
      ]
     },
     "execution_count": 4,
     "metadata": {},
     "output_type": "execute_result"
    }
   ],
   "source": [
    "data"
   ]
  },
  {
   "cell_type": "markdown",
   "id": "033b6ddf",
   "metadata": {},
   "source": [
    "Como se observa, existen valores perdidos en las diferente columnas y esto se debe a que los autores de este dataset han identificado los votos de abstención como valores perdidos. Lo que se va a hacer es sustituir esos valores perdidos por el valor \"p\" (que viene de present cuyo significado es abstención) y por lo tanto, las columnas con valores binarios se convertirán en valores categóricos."
   ]
  },
  {
   "cell_type": "code",
   "execution_count": 5,
   "id": "612d3249",
   "metadata": {},
   "outputs": [],
   "source": [
    "data.where(data != '?', 'p', inplace=True)"
   ]
  },
  {
   "cell_type": "markdown",
   "id": "6900d3d9",
   "metadata": {},
   "source": [
    "Una vez hecho esto, separamos los predictores y la clase en diferentes variables"
   ]
  },
  {
   "cell_type": "code",
   "execution_count": 6,
   "id": "2d4e67b0",
   "metadata": {},
   "outputs": [],
   "source": [
    "X = data.iloc[:, :-1]\n",
    "Y = data.iloc[:, -1]"
   ]
  },
  {
   "cell_type": "code",
   "execution_count": 7,
   "id": "e93e1369",
   "metadata": {},
   "outputs": [
    {
     "data": {
      "text/html": [
       "<div>\n",
       "<style scoped>\n",
       "    .dataframe tbody tr th:only-of-type {\n",
       "        vertical-align: middle;\n",
       "    }\n",
       "\n",
       "    .dataframe tbody tr th {\n",
       "        vertical-align: top;\n",
       "    }\n",
       "\n",
       "    .dataframe thead th {\n",
       "        text-align: right;\n",
       "    }\n",
       "</style>\n",
       "<table border=\"1\" class=\"dataframe\">\n",
       "  <thead>\n",
       "    <tr style=\"text-align: right;\">\n",
       "      <th></th>\n",
       "      <th>handicapped-infants_n</th>\n",
       "      <th>handicapped-infants_p</th>\n",
       "      <th>handicapped-infants_y</th>\n",
       "      <th>water-project-cost-sharing_n</th>\n",
       "      <th>water-project-cost-sharing_p</th>\n",
       "      <th>water-project-cost-sharing_y</th>\n",
       "      <th>adoption-of-the-budget-resolution_n</th>\n",
       "      <th>adoption-of-the-budget-resolution_p</th>\n",
       "      <th>adoption-of-the-budget-resolution_y</th>\n",
       "      <th>physician-fee-freeze_n</th>\n",
       "      <th>...</th>\n",
       "      <th>superfund-right-to-sue_y</th>\n",
       "      <th>crime_n</th>\n",
       "      <th>crime_p</th>\n",
       "      <th>crime_y</th>\n",
       "      <th>duty-free-exports_n</th>\n",
       "      <th>duty-free-exports_p</th>\n",
       "      <th>duty-free-exports_y</th>\n",
       "      <th>export-administration-act-south-africa_n</th>\n",
       "      <th>export-administration-act-south-africa_p</th>\n",
       "      <th>export-administration-act-south-africa_y</th>\n",
       "    </tr>\n",
       "  </thead>\n",
       "  <tbody>\n",
       "    <tr>\n",
       "      <th>0</th>\n",
       "      <td>1.0</td>\n",
       "      <td>0.0</td>\n",
       "      <td>0.0</td>\n",
       "      <td>0.0</td>\n",
       "      <td>0.0</td>\n",
       "      <td>1.0</td>\n",
       "      <td>1.0</td>\n",
       "      <td>0.0</td>\n",
       "      <td>0.0</td>\n",
       "      <td>0.0</td>\n",
       "      <td>...</td>\n",
       "      <td>1.0</td>\n",
       "      <td>0.0</td>\n",
       "      <td>0.0</td>\n",
       "      <td>1.0</td>\n",
       "      <td>1.0</td>\n",
       "      <td>0.0</td>\n",
       "      <td>0.0</td>\n",
       "      <td>0.0</td>\n",
       "      <td>0.0</td>\n",
       "      <td>1.0</td>\n",
       "    </tr>\n",
       "    <tr>\n",
       "      <th>1</th>\n",
       "      <td>1.0</td>\n",
       "      <td>0.0</td>\n",
       "      <td>0.0</td>\n",
       "      <td>0.0</td>\n",
       "      <td>0.0</td>\n",
       "      <td>1.0</td>\n",
       "      <td>1.0</td>\n",
       "      <td>0.0</td>\n",
       "      <td>0.0</td>\n",
       "      <td>0.0</td>\n",
       "      <td>...</td>\n",
       "      <td>1.0</td>\n",
       "      <td>0.0</td>\n",
       "      <td>0.0</td>\n",
       "      <td>1.0</td>\n",
       "      <td>1.0</td>\n",
       "      <td>0.0</td>\n",
       "      <td>0.0</td>\n",
       "      <td>0.0</td>\n",
       "      <td>1.0</td>\n",
       "      <td>0.0</td>\n",
       "    </tr>\n",
       "    <tr>\n",
       "      <th>2</th>\n",
       "      <td>0.0</td>\n",
       "      <td>1.0</td>\n",
       "      <td>0.0</td>\n",
       "      <td>0.0</td>\n",
       "      <td>0.0</td>\n",
       "      <td>1.0</td>\n",
       "      <td>0.0</td>\n",
       "      <td>0.0</td>\n",
       "      <td>1.0</td>\n",
       "      <td>0.0</td>\n",
       "      <td>...</td>\n",
       "      <td>1.0</td>\n",
       "      <td>0.0</td>\n",
       "      <td>0.0</td>\n",
       "      <td>1.0</td>\n",
       "      <td>1.0</td>\n",
       "      <td>0.0</td>\n",
       "      <td>0.0</td>\n",
       "      <td>1.0</td>\n",
       "      <td>0.0</td>\n",
       "      <td>0.0</td>\n",
       "    </tr>\n",
       "    <tr>\n",
       "      <th>3</th>\n",
       "      <td>1.0</td>\n",
       "      <td>0.0</td>\n",
       "      <td>0.0</td>\n",
       "      <td>0.0</td>\n",
       "      <td>0.0</td>\n",
       "      <td>1.0</td>\n",
       "      <td>0.0</td>\n",
       "      <td>0.0</td>\n",
       "      <td>1.0</td>\n",
       "      <td>1.0</td>\n",
       "      <td>...</td>\n",
       "      <td>1.0</td>\n",
       "      <td>1.0</td>\n",
       "      <td>0.0</td>\n",
       "      <td>0.0</td>\n",
       "      <td>1.0</td>\n",
       "      <td>0.0</td>\n",
       "      <td>0.0</td>\n",
       "      <td>0.0</td>\n",
       "      <td>0.0</td>\n",
       "      <td>1.0</td>\n",
       "    </tr>\n",
       "    <tr>\n",
       "      <th>4</th>\n",
       "      <td>0.0</td>\n",
       "      <td>0.0</td>\n",
       "      <td>1.0</td>\n",
       "      <td>0.0</td>\n",
       "      <td>0.0</td>\n",
       "      <td>1.0</td>\n",
       "      <td>0.0</td>\n",
       "      <td>0.0</td>\n",
       "      <td>1.0</td>\n",
       "      <td>1.0</td>\n",
       "      <td>...</td>\n",
       "      <td>1.0</td>\n",
       "      <td>0.0</td>\n",
       "      <td>0.0</td>\n",
       "      <td>1.0</td>\n",
       "      <td>0.0</td>\n",
       "      <td>0.0</td>\n",
       "      <td>1.0</td>\n",
       "      <td>0.0</td>\n",
       "      <td>0.0</td>\n",
       "      <td>1.0</td>\n",
       "    </tr>\n",
       "    <tr>\n",
       "      <th>...</th>\n",
       "      <td>...</td>\n",
       "      <td>...</td>\n",
       "      <td>...</td>\n",
       "      <td>...</td>\n",
       "      <td>...</td>\n",
       "      <td>...</td>\n",
       "      <td>...</td>\n",
       "      <td>...</td>\n",
       "      <td>...</td>\n",
       "      <td>...</td>\n",
       "      <td>...</td>\n",
       "      <td>...</td>\n",
       "      <td>...</td>\n",
       "      <td>...</td>\n",
       "      <td>...</td>\n",
       "      <td>...</td>\n",
       "      <td>...</td>\n",
       "      <td>...</td>\n",
       "      <td>...</td>\n",
       "      <td>...</td>\n",
       "      <td>...</td>\n",
       "    </tr>\n",
       "    <tr>\n",
       "      <th>430</th>\n",
       "      <td>1.0</td>\n",
       "      <td>0.0</td>\n",
       "      <td>0.0</td>\n",
       "      <td>1.0</td>\n",
       "      <td>0.0</td>\n",
       "      <td>0.0</td>\n",
       "      <td>0.0</td>\n",
       "      <td>0.0</td>\n",
       "      <td>1.0</td>\n",
       "      <td>0.0</td>\n",
       "      <td>...</td>\n",
       "      <td>1.0</td>\n",
       "      <td>0.0</td>\n",
       "      <td>0.0</td>\n",
       "      <td>1.0</td>\n",
       "      <td>1.0</td>\n",
       "      <td>0.0</td>\n",
       "      <td>0.0</td>\n",
       "      <td>0.0</td>\n",
       "      <td>0.0</td>\n",
       "      <td>1.0</td>\n",
       "    </tr>\n",
       "    <tr>\n",
       "      <th>431</th>\n",
       "      <td>1.0</td>\n",
       "      <td>0.0</td>\n",
       "      <td>0.0</td>\n",
       "      <td>1.0</td>\n",
       "      <td>0.0</td>\n",
       "      <td>0.0</td>\n",
       "      <td>0.0</td>\n",
       "      <td>0.0</td>\n",
       "      <td>1.0</td>\n",
       "      <td>1.0</td>\n",
       "      <td>...</td>\n",
       "      <td>0.0</td>\n",
       "      <td>1.0</td>\n",
       "      <td>0.0</td>\n",
       "      <td>0.0</td>\n",
       "      <td>1.0</td>\n",
       "      <td>0.0</td>\n",
       "      <td>0.0</td>\n",
       "      <td>0.0</td>\n",
       "      <td>0.0</td>\n",
       "      <td>1.0</td>\n",
       "    </tr>\n",
       "    <tr>\n",
       "      <th>432</th>\n",
       "      <td>1.0</td>\n",
       "      <td>0.0</td>\n",
       "      <td>0.0</td>\n",
       "      <td>0.0</td>\n",
       "      <td>1.0</td>\n",
       "      <td>0.0</td>\n",
       "      <td>1.0</td>\n",
       "      <td>0.0</td>\n",
       "      <td>0.0</td>\n",
       "      <td>0.0</td>\n",
       "      <td>...</td>\n",
       "      <td>1.0</td>\n",
       "      <td>0.0</td>\n",
       "      <td>0.0</td>\n",
       "      <td>1.0</td>\n",
       "      <td>1.0</td>\n",
       "      <td>0.0</td>\n",
       "      <td>0.0</td>\n",
       "      <td>0.0</td>\n",
       "      <td>0.0</td>\n",
       "      <td>1.0</td>\n",
       "    </tr>\n",
       "    <tr>\n",
       "      <th>433</th>\n",
       "      <td>1.0</td>\n",
       "      <td>0.0</td>\n",
       "      <td>0.0</td>\n",
       "      <td>1.0</td>\n",
       "      <td>0.0</td>\n",
       "      <td>0.0</td>\n",
       "      <td>1.0</td>\n",
       "      <td>0.0</td>\n",
       "      <td>0.0</td>\n",
       "      <td>0.0</td>\n",
       "      <td>...</td>\n",
       "      <td>1.0</td>\n",
       "      <td>0.0</td>\n",
       "      <td>0.0</td>\n",
       "      <td>1.0</td>\n",
       "      <td>1.0</td>\n",
       "      <td>0.0</td>\n",
       "      <td>0.0</td>\n",
       "      <td>0.0</td>\n",
       "      <td>0.0</td>\n",
       "      <td>1.0</td>\n",
       "    </tr>\n",
       "    <tr>\n",
       "      <th>434</th>\n",
       "      <td>1.0</td>\n",
       "      <td>0.0</td>\n",
       "      <td>0.0</td>\n",
       "      <td>0.0</td>\n",
       "      <td>0.0</td>\n",
       "      <td>1.0</td>\n",
       "      <td>1.0</td>\n",
       "      <td>0.0</td>\n",
       "      <td>0.0</td>\n",
       "      <td>0.0</td>\n",
       "      <td>...</td>\n",
       "      <td>1.0</td>\n",
       "      <td>0.0</td>\n",
       "      <td>0.0</td>\n",
       "      <td>1.0</td>\n",
       "      <td>0.0</td>\n",
       "      <td>1.0</td>\n",
       "      <td>0.0</td>\n",
       "      <td>1.0</td>\n",
       "      <td>0.0</td>\n",
       "      <td>0.0</td>\n",
       "    </tr>\n",
       "  </tbody>\n",
       "</table>\n",
       "<p>435 rows × 48 columns</p>\n",
       "</div>"
      ],
      "text/plain": [
       "     handicapped-infants_n  handicapped-infants_p  handicapped-infants_y  \\\n",
       "0                      1.0                    0.0                    0.0   \n",
       "1                      1.0                    0.0                    0.0   \n",
       "2                      0.0                    1.0                    0.0   \n",
       "3                      1.0                    0.0                    0.0   \n",
       "4                      0.0                    0.0                    1.0   \n",
       "..                     ...                    ...                    ...   \n",
       "430                    1.0                    0.0                    0.0   \n",
       "431                    1.0                    0.0                    0.0   \n",
       "432                    1.0                    0.0                    0.0   \n",
       "433                    1.0                    0.0                    0.0   \n",
       "434                    1.0                    0.0                    0.0   \n",
       "\n",
       "     water-project-cost-sharing_n  water-project-cost-sharing_p  \\\n",
       "0                             0.0                           0.0   \n",
       "1                             0.0                           0.0   \n",
       "2                             0.0                           0.0   \n",
       "3                             0.0                           0.0   \n",
       "4                             0.0                           0.0   \n",
       "..                            ...                           ...   \n",
       "430                           1.0                           0.0   \n",
       "431                           1.0                           0.0   \n",
       "432                           0.0                           1.0   \n",
       "433                           1.0                           0.0   \n",
       "434                           0.0                           0.0   \n",
       "\n",
       "     water-project-cost-sharing_y  adoption-of-the-budget-resolution_n  \\\n",
       "0                             1.0                                  1.0   \n",
       "1                             1.0                                  1.0   \n",
       "2                             1.0                                  0.0   \n",
       "3                             1.0                                  0.0   \n",
       "4                             1.0                                  0.0   \n",
       "..                            ...                                  ...   \n",
       "430                           0.0                                  0.0   \n",
       "431                           0.0                                  0.0   \n",
       "432                           0.0                                  1.0   \n",
       "433                           0.0                                  1.0   \n",
       "434                           1.0                                  1.0   \n",
       "\n",
       "     adoption-of-the-budget-resolution_p  adoption-of-the-budget-resolution_y  \\\n",
       "0                                    0.0                                  0.0   \n",
       "1                                    0.0                                  0.0   \n",
       "2                                    0.0                                  1.0   \n",
       "3                                    0.0                                  1.0   \n",
       "4                                    0.0                                  1.0   \n",
       "..                                   ...                                  ...   \n",
       "430                                  0.0                                  1.0   \n",
       "431                                  0.0                                  1.0   \n",
       "432                                  0.0                                  0.0   \n",
       "433                                  0.0                                  0.0   \n",
       "434                                  0.0                                  0.0   \n",
       "\n",
       "     physician-fee-freeze_n  ...  superfund-right-to-sue_y  crime_n  crime_p  \\\n",
       "0                       0.0  ...                       1.0      0.0      0.0   \n",
       "1                       0.0  ...                       1.0      0.0      0.0   \n",
       "2                       0.0  ...                       1.0      0.0      0.0   \n",
       "3                       1.0  ...                       1.0      1.0      0.0   \n",
       "4                       1.0  ...                       1.0      0.0      0.0   \n",
       "..                      ...  ...                       ...      ...      ...   \n",
       "430                     0.0  ...                       1.0      0.0      0.0   \n",
       "431                     1.0  ...                       0.0      1.0      0.0   \n",
       "432                     0.0  ...                       1.0      0.0      0.0   \n",
       "433                     0.0  ...                       1.0      0.0      0.0   \n",
       "434                     0.0  ...                       1.0      0.0      0.0   \n",
       "\n",
       "     crime_y  duty-free-exports_n  duty-free-exports_p  duty-free-exports_y  \\\n",
       "0        1.0                  1.0                  0.0                  0.0   \n",
       "1        1.0                  1.0                  0.0                  0.0   \n",
       "2        1.0                  1.0                  0.0                  0.0   \n",
       "3        0.0                  1.0                  0.0                  0.0   \n",
       "4        1.0                  0.0                  0.0                  1.0   \n",
       "..       ...                  ...                  ...                  ...   \n",
       "430      1.0                  1.0                  0.0                  0.0   \n",
       "431      0.0                  1.0                  0.0                  0.0   \n",
       "432      1.0                  1.0                  0.0                  0.0   \n",
       "433      1.0                  1.0                  0.0                  0.0   \n",
       "434      1.0                  0.0                  1.0                  0.0   \n",
       "\n",
       "     export-administration-act-south-africa_n  \\\n",
       "0                                         0.0   \n",
       "1                                         0.0   \n",
       "2                                         1.0   \n",
       "3                                         0.0   \n",
       "4                                         0.0   \n",
       "..                                        ...   \n",
       "430                                       0.0   \n",
       "431                                       0.0   \n",
       "432                                       0.0   \n",
       "433                                       0.0   \n",
       "434                                       1.0   \n",
       "\n",
       "     export-administration-act-south-africa_p  \\\n",
       "0                                         0.0   \n",
       "1                                         1.0   \n",
       "2                                         0.0   \n",
       "3                                         0.0   \n",
       "4                                         0.0   \n",
       "..                                        ...   \n",
       "430                                       0.0   \n",
       "431                                       0.0   \n",
       "432                                       0.0   \n",
       "433                                       0.0   \n",
       "434                                       0.0   \n",
       "\n",
       "     export-administration-act-south-africa_y  \n",
       "0                                         1.0  \n",
       "1                                         0.0  \n",
       "2                                         0.0  \n",
       "3                                         1.0  \n",
       "4                                         1.0  \n",
       "..                                        ...  \n",
       "430                                       1.0  \n",
       "431                                       1.0  \n",
       "432                                       1.0  \n",
       "433                                       1.0  \n",
       "434                                       0.0  \n",
       "\n",
       "[435 rows x 48 columns]"
      ]
     },
     "execution_count": 7,
     "metadata": {},
     "output_type": "execute_result"
    }
   ],
   "source": [
    "enc = OneHotEncoder()\n",
    "X = enc.fit_transform(X).toarray()\n",
    "X = pd.DataFrame(X, columns=enc.get_feature_names_out())\n",
    "X"
   ]
  },
  {
   "cell_type": "code",
   "execution_count": 8,
   "id": "3adc471f",
   "metadata": {},
   "outputs": [
    {
     "data": {
      "text/plain": [
       "0      republican\n",
       "1      republican\n",
       "2        democrat\n",
       "3        democrat\n",
       "4        democrat\n",
       "          ...    \n",
       "430    republican\n",
       "431      democrat\n",
       "432    republican\n",
       "433    republican\n",
       "434    republican\n",
       "Name: Class, Length: 435, dtype: object"
      ]
     },
     "execution_count": 8,
     "metadata": {},
     "output_type": "execute_result"
    }
   ],
   "source": [
    "Y"
   ]
  },
  {
   "cell_type": "markdown",
   "id": "4cbe750b",
   "metadata": {},
   "source": [
    "## Visualización de los datos"
   ]
  },
  {
   "cell_type": "code",
   "execution_count": 9,
   "id": "964ecb28",
   "metadata": {},
   "outputs": [
    {
     "data": {
      "text/plain": [
       "<AxesSubplot:xlabel='handicapped-infants', ylabel='count'>"
      ]
     },
     "execution_count": 9,
     "metadata": {},
     "output_type": "execute_result"
    },
    {
     "data": {
      "image/png": "[encoded data removed]",
      "text/plain": [
       "<Figure size 432x288 with 1 Axes>"
      ]
     },
     "metadata": {
      "needs_background": "light"
     },
     "output_type": "display_data"
    }
   ],
   "source": [
    "sns.countplot(x=\"handicapped-infants\", hue=\"Class\", data=data)"
   ]
  },
  {
   "cell_type": "code",
   "execution_count": 10,
   "id": "03d32af8",
   "metadata": {},
   "outputs": [
    {
     "data": {
      "text/plain": [
       "<AxesSubplot:xlabel='water-project-cost-sharing', ylabel='count'>"
      ]
     },
     "execution_count": 10,
     "metadata": {},
     "output_type": "execute_result"
    },
    {
     "data": {
      "image/png": "[encoded data removed]",
      "text/plain": [
       "<Figure size 432x288 with 1 Axes>"
      ]
     },
     "metadata": {
      "needs_background": "light"
     },
     "output_type": "display_data"
    }
   ],
   "source": [
    "sns.countplot(x=\"water-project-cost-sharing\", hue=\"Class\", data=data)"
   ]
  },
  {
   "cell_type": "code",
   "execution_count": 11,
   "id": "a9db6217",
   "metadata": {},
   "outputs": [
    {
     "data": {
      "text/plain": [
       "<AxesSubplot:xlabel='adoption-of-the-budget-resolution', ylabel='count'>"
      ]
     },
     "execution_count": 11,
     "metadata": {},
     "output_type": "execute_result"
    },
    {
     "data": {
      "image/png": "[encoded data removed]",
      "text/plain": [
       "<Figure size 432x288 with 1 Axes>"
      ]
     },
     "metadata": {
      "needs_background": "light"
     },
     "output_type": "display_data"
    }
   ],
   "source": [
    "sns.countplot(x=\"adoption-of-the-budget-resolution\", hue=\"Class\", data=data)"
   ]
  },
  {
   "cell_type": "code",
   "execution_count": 12,
   "id": "1be0860e",
   "metadata": {},
   "outputs": [
    {
     "data": {
      "text/plain": [
       "<AxesSubplot:xlabel='physician-fee-freeze', ylabel='count'>"
      ]
     },
     "execution_count": 12,
     "metadata": {},
     "output_type": "execute_result"
    },
    {
     "data": {
      "image/png": "[encoded data removed]",
      "text/plain": [
       "<Figure size 432x288 with 1 Axes>"
      ]
     },
     "metadata": {
      "needs_background": "light"
     },
     "output_type": "display_data"
    }
   ],
   "source": [
    "sns.countplot(x=\"physician-fee-freeze\", hue=\"Class\", data=data)"
   ]
  },
  {
   "cell_type": "code",
   "execution_count": 13,
   "id": "a3fe2455",
   "metadata": {},
   "outputs": [
    {
     "data": {
      "text/plain": [
       "<AxesSubplot:xlabel='el-salvador-aid', ylabel='count'>"
      ]
     },
     "execution_count": 13,
     "metadata": {},
     "output_type": "execute_result"
    },
    {
     "data": {
      "image/png": "[encoded data removed]",
      "text/plain": [
       "<Figure size 432x288 with 1 Axes>"
      ]
     },
     "metadata": {
      "needs_background": "light"
     },
     "output_type": "display_data"
    }
   ],
   "source": [
    "sns.countplot(x=\"el-salvador-aid\", hue=\"Class\", data=data)"
   ]
  },
  {
   "cell_type": "code",
   "execution_count": 14,
   "id": "29733610",
   "metadata": {},
   "outputs": [
    {
     "data": {
      "text/plain": [
       "<AxesSubplot:xlabel='religious-groups-in-schools', ylabel='count'>"
      ]
     },
     "execution_count": 14,
     "metadata": {},
     "output_type": "execute_result"
    },
    {
     "data": {
      "image/png": "[encoded data removed]",
      "text/plain": [
       "<Figure size 432x288 with 1 Axes>"
      ]
     },
     "metadata": {
      "needs_background": "light"
     },
     "output_type": "display_data"
    }
   ],
   "source": [
    "sns.countplot(x=\"religious-groups-in-schools\", hue=\"Class\", data=data)"
   ]
  },
  {
   "cell_type": "code",
   "execution_count": 15,
   "id": "5cd41dfa",
   "metadata": {},
   "outputs": [
    {
     "data": {
      "text/plain": [
       "<AxesSubplot:xlabel='anti-satellite-test-ban', ylabel='count'>"
      ]
     },
     "execution_count": 15,
     "metadata": {},
     "output_type": "execute_result"
    },
    {
     "data": {
      "image/png": "[encoded data removed]",
      "text/plain": [
       "<Figure size 432x288 with 1 Axes>"
      ]
     },
     "metadata": {
      "needs_background": "light"
     },
     "output_type": "display_data"
    }
   ],
   "source": [
    "sns.countplot(x=\"anti-satellite-test-ban\", hue=\"Class\", data=data)"
   ]
  },
  {
   "cell_type": "code",
   "execution_count": 16,
   "id": "2b5b5dd9",
   "metadata": {},
   "outputs": [
    {
     "data": {
      "text/plain": [
       "<AxesSubplot:xlabel='aid-to-nicaraguan-contras', ylabel='count'>"
      ]
     },
     "execution_count": 16,
     "metadata": {},
     "output_type": "execute_result"
    },
    {
     "data": {
      "image/png": "[encoded data removed]",
      "text/plain": [
       "<Figure size 432x288 with 1 Axes>"
      ]
     },
     "metadata": {
      "needs_background": "light"
     },
     "output_type": "display_data"
    }
   ],
   "source": [
    "sns.countplot(x=\"aid-to-nicaraguan-contras\", hue=\"Class\", data=data)"
   ]
  },
  {
   "cell_type": "code",
   "execution_count": 17,
   "id": "3246c606",
   "metadata": {},
   "outputs": [
    {
     "data": {
      "text/plain": [
       "<AxesSubplot:xlabel='mx-missile', ylabel='count'>"
      ]
     },
     "execution_count": 17,
     "metadata": {},
     "output_type": "execute_result"
    },
    {
     "data": {
      "image/png": "[encoded data removed]",
      "text/plain": [
       "<Figure size 432x288 with 1 Axes>"
      ]
     },
     "metadata": {
      "needs_background": "light"
     },
     "output_type": "display_data"
    }
   ],
   "source": [
    "sns.countplot(x=\"mx-missile\", hue=\"Class\", data=data)"
   ]
  },
  {
   "cell_type": "code",
   "execution_count": 18,
   "id": "33f88830",
   "metadata": {},
   "outputs": [
    {
     "data": {
      "text/plain": [
       "<AxesSubplot:xlabel='immigration', ylabel='count'>"
      ]
     },
     "execution_count": 18,
     "metadata": {},
     "output_type": "execute_result"
    },
    {
     "data": {
      "image/png": "[encoded data removed]",
      "text/plain": [
       "<Figure size 432x288 with 1 Axes>"
      ]
     },
     "metadata": {
      "needs_background": "light"
     },
     "output_type": "display_data"
    }
   ],
   "source": [
    "sns.countplot(x=\"immigration\", hue=\"Class\", data=data)"
   ]
  },
  {
   "cell_type": "code",
   "execution_count": 19,
   "id": "2b247ed5",
   "metadata": {},
   "outputs": [
    {
     "data": {
      "text/plain": [
       "<AxesSubplot:xlabel='synfuels-corporation-cutback', ylabel='count'>"
      ]
     },
     "execution_count": 19,
     "metadata": {},
     "output_type": "execute_result"
    },
    {
     "data": {
      "image/png": "[encoded data removed]",
      "text/plain": [
       "<Figure size 432x288 with 1 Axes>"
      ]
     },
     "metadata": {
      "needs_background": "light"
     },
     "output_type": "display_data"
    }
   ],
   "source": [
    "sns.countplot(x=\"synfuels-corporation-cutback\", hue=\"Class\", data=data)"
   ]
  },
  {
   "cell_type": "code",
   "execution_count": 20,
   "id": "e8608a27",
   "metadata": {},
   "outputs": [
    {
     "data": {
      "text/plain": [
       "<AxesSubplot:xlabel='education-spending', ylabel='count'>"
      ]
     },
     "execution_count": 20,
     "metadata": {},
     "output_type": "execute_result"
    },
    {
     "data": {
      "image/png": "[encoded data removed]",
      "text/plain": [
       "<Figure size 432x288 with 1 Axes>"
      ]
     },
     "metadata": {
      "needs_background": "light"
     },
     "output_type": "display_data"
    }
   ],
   "source": [
    "sns.countplot(x=\"education-spending\", hue=\"Class\", data=data)"
   ]
  },
  {
   "cell_type": "code",
   "execution_count": 21,
   "id": "9fff6ed5",
   "metadata": {},
   "outputs": [
    {
     "data": {
      "text/plain": [
       "<AxesSubplot:xlabel='superfund-right-to-sue', ylabel='count'>"
      ]
     },
     "execution_count": 21,
     "metadata": {},
     "output_type": "execute_result"
    },
    {
     "data": {
      "image/png": "[encoded data removed]",
      "text/plain": [
       "<Figure size 432x288 with 1 Axes>"
      ]
     },
     "metadata": {
      "needs_background": "light"
     },
     "output_type": "display_data"
    }
   ],
   "source": [
    "sns.countplot(x=\"superfund-right-to-sue\", hue=\"Class\", data=data)"
   ]
  },
  {
   "cell_type": "code",
   "execution_count": 22,
   "id": "b79fac36",
   "metadata": {},
   "outputs": [
    {
     "data": {
      "text/plain": [
       "<AxesSubplot:xlabel='crime', ylabel='count'>"
      ]
     },
     "execution_count": 22,
     "metadata": {},
     "output_type": "execute_result"
    },
    {
     "data": {
      "image/png": "[encoded data removed]",
      "text/plain": [
       "<Figure size 432x288 with 1 Axes>"
      ]
     },
     "metadata": {
      "needs_background": "light"
     },
     "output_type": "display_data"
    }
   ],
   "source": [
    "sns.countplot(x=\"crime\", hue=\"Class\", data=data)"
   ]
  },
  {
   "cell_type": "code",
   "execution_count": 23,
   "id": "21299147",
   "metadata": {},
   "outputs": [
    {
     "data": {
      "text/plain": [
       "<AxesSubplot:xlabel='duty-free-exports', ylabel='count'>"
      ]
     },
     "execution_count": 23,
     "metadata": {},
     "output_type": "execute_result"
    },
    {
     "data": {
      "image/png": "[encoded data removed]",
      "text/plain": [
       "<Figure size 432x288 with 1 Axes>"
      ]
     },
     "metadata": {
      "needs_background": "light"
     },
     "output_type": "display_data"
    }
   ],
   "source": [
    "sns.countplot(x=\"duty-free-exports\", hue=\"Class\", data=data)"
   ]
  },
  {
   "cell_type": "code",
   "execution_count": 24,
   "id": "1992504c",
   "metadata": {},
   "outputs": [
    {
     "data": {
      "text/plain": [
       "<AxesSubplot:xlabel='export-administration-act-south-africa', ylabel='count'>"
      ]
     },
     "execution_count": 24,
     "metadata": {},
     "output_type": "execute_result"
    },
    {
     "data": {
      "image/png": "[encoded data removed]",
      "text/plain": [
       "<Figure size 432x288 with 1 Axes>"
      ]
     },
     "metadata": {
      "needs_background": "light"
     },
     "output_type": "display_data"
    }
   ],
   "source": [
    "sns.countplot(x=\"export-administration-act-south-africa\", hue=\"Class\", data=data)"
   ]
  },
  {
   "cell_type": "markdown",
   "id": "bbb6a66d",
   "metadata": {},
   "source": [
    "## Reducción de la dimensionalidad con PCA"
   ]
  },
  {
   "cell_type": "markdown",
   "id": "217f8156",
   "metadata": {},
   "source": [
    "A continuación se aplica una reducción de dimensionalidad utilizando PCA. Se va a probar a reducir a 2 y 3 dimensiones. Cada ejecución ira acompañado de un scatter plot."
   ]
  },
  {
   "cell_type": "code",
   "execution_count": 25,
   "id": "d97693ce",
   "metadata": {},
   "outputs": [
    {
     "data": {
      "image/png": "[encoded data removed]",
      "text/plain": [
       "<Figure size 432x288 with 1 Axes>"
      ]
     },
     "metadata": {
      "needs_background": "light"
     },
     "output_type": "display_data"
    }
   ],
   "source": [
    "pca = PCA(n_components=2)\n",
    "pca_x = pd.DataFrame(pca.fit_transform(X), columns=[\"PCA1\", \"PCA2\"])\n",
    "variance_ratio = pca.explained_variance_ratio_\n",
    "\n",
    "ax = sns.scatterplot(\n",
    "    data=pca_x,\n",
    "    x=\"PCA1\",\n",
    "    y=\"PCA2\",\n",
    "    hue=Y,\n",
    "    palette={\n",
    "        'republican': 'red',\n",
    "        'democrat': 'blue'\n",
    "    }\n",
    ")\n",
    "ax.set(\n",
    "    xlabel=f'PCA 1 ({round(variance_ratio[0]*100, 2)}%)',\n",
    "    ylabel=f'PCA 2 ({round(variance_ratio[1]*100, 2)}%)'\n",
    ")\n",
    "plt.show()"
   ]
  },
  {
   "cell_type": "code",
   "execution_count": 26,
   "id": "391057bc",
   "metadata": {},
   "outputs": [
    {
     "data": {
      "application/javascript": [
       "/* Put everything inside the global mpl namespace */\n",
       "/* global mpl */\n",
       "window.mpl = {};\n",
       "\n",
       "mpl.get_websocket_type = function () {\n",
       "    if (typeof WebSocket !== 'undefined') {\n",
       "        return WebSocket;\n",
       "    } else if (typeof MozWebSocket !== 'undefined') {\n",
       "        return MozWebSocket;\n",
       "    } else {\n",
       "        alert(\n",
       "            'Your browser does not have WebSocket support. ' +\n",
       "                'Please try Chrome, Safari or Firefox ≥ 6. ' +\n",
       "                'Firefox 4 and 5 are also supported but you ' +\n",
       "                'have to enable WebSockets in about:config.'\n",
       "        );\n",
       "    }\n",
       "};\n",
       "\n",
       "mpl.figure = function (figure_id, websocket, ondownload, parent_element) {\n",
       "    this.id = figure_id;\n",
       "\n",
       "    this.ws = websocket;\n",
       "\n",
       "    this.supports_binary = this.ws.binaryType !== undefined;\n",
       "\n",
       "    if (!this.supports_binary) {\n",
       "        var warnings = document.getElementById('mpl-warnings');\n",
       "        if (warnings) {\n",
       "            warnings.style.display = 'block';\n",
       "            warnings.textContent =\n",
       "                'This browser does not support binary websocket messages. ' +\n",
       "                'Performance may be slow.';\n",
       "        }\n",
       "    }\n",
       "\n",
       "    this.imageObj = new Image();\n",
       "\n",
       "    this.context = undefined;\n",
       "    this.message = undefined;\n",
       "    this.canvas = undefined;\n",
       "    this.rubberband_canvas = undefined;\n",
       "    this.rubberband_context = undefined;\n",
       "    this.format_dropdown = undefined;\n",
       "\n",
       "    this.image_mode = 'full';\n",
       "\n",
       "    this.root = document.createElement('div');\n",
       "    this.root.setAttribute('style', 'display: inline-block');\n",
       "    this._root_extra_style(this.root);\n",
       "\n",
       "    parent_element.appendChild(this.root);\n",
       "\n",
       "    this._init_header(this);\n",
       "    this._init_canvas(this);\n",
       "    this._init_toolbar(this);\n",
       "\n",
       "    var fig = this;\n",
       "\n",
       "    this.waiting = false;\n",
       "\n",
       "    this.ws.onopen = function () {\n",
       "        fig.send_message('supports_binary', { value: fig.supports_binary });\n",
       "        fig.send_message('send_image_mode', {});\n",
       "        if (fig.ratio !== 1) {\n",
       "            fig.send_message('set_device_pixel_ratio', {\n",
       "                device_pixel_ratio: fig.ratio,\n",
       "            });\n",
       "        }\n",
       "        fig.send_message('refresh', {});\n",
       "    };\n",
       "\n",
       "    this.imageObj.onload = function () {\n",
       "        if (fig.image_mode === 'full') {\n",
       "            // Full images could contain transparency (where diff images\n",
       "            // almost always do), so we need to clear the canvas so that\n",
       "            // there is no ghosting.\n",
       "            fig.context.clearRect(0, 0, fig.canvas.width, fig.canvas.height);\n",
       "        }\n",
       "        fig.context.drawImage(fig.imageObj, 0, 0);\n",
       "    };\n",
       "\n",
       "    this.imageObj.onunload = function () {\n",
       "        fig.ws.close();\n",
       "    };\n",
       "\n",
       "    this.ws.onmessage = this._make_on_message_function(this);\n",
       "\n",
       "    this.ondownload = ondownload;\n",
       "};\n",
       "\n",
       "mpl.figure.prototype._init_header = function () {\n",
       "    var titlebar = document.createElement('div');\n",
       "    titlebar.classList =\n",
       "        'ui-dialog-titlebar ui-widget-header ui-corner-all ui-helper-clearfix';\n",
       "    var titletext = document.createElement('div');\n",
       "    titletext.classList = 'ui-dialog-title';\n",
       "    titletext.setAttribute(\n",
       "        'style',\n",
       "        'width: 100%; text-align: center; padding: 3px;'\n",
       "    );\n",
       "    titlebar.appendChild(titletext);\n",
       "    this.root.appendChild(titlebar);\n",
       "    this.header = titletext;\n",
       "};\n",
       "\n",
       "mpl.figure.prototype._canvas_extra_style = function (_canvas_div) {};\n",
       "\n",
       "mpl.figure.prototype._root_extra_style = function (_canvas_div) {};\n",
       "\n",
       "mpl.figure.prototype._init_canvas = function () {\n",
       "    var fig = this;\n",
       "\n",
       "    var canvas_div = (this.canvas_div = document.createElement('div'));\n",
       "    canvas_div.setAttribute(\n",
       "        'style',\n",
       "        'border: 1px solid #ddd;' +\n",
       "            'box-sizing: content-box;' +\n",
       "            'clear: both;' +\n",
       "            'min-height: 1px;' +\n",
       "            'min-width: 1px;' +\n",
       "            'outline: 0;' +\n",
       "            'overflow: hidden;' +\n",
       "            'position: relative;' +\n",
       "            'resize: both;'\n",
       "    );\n",
       "\n",
       "    function on_keyboard_event_closure(name) {\n",
       "        return function (event) {\n",
       "            return fig.key_event(event, name);\n",
       "        };\n",
       "    }\n",
       "\n",
       "    canvas_div.addEventListener(\n",
       "        'keydown',\n",
       "        on_keyboard_event_closure('key_press')\n",
       "    );\n",
       "    canvas_div.addEventListener(\n",
       "        'keyup',\n",
       "        on_keyboard_event_closure('key_release')\n",
       "    );\n",
       "\n",
       "    this._canvas_extra_style(canvas_div);\n",
       "    this.root.appendChild(canvas_div);\n",
       "\n",
       "    var canvas = (this.canvas = document.createElement('canvas'));\n",
       "    canvas.classList.add('mpl-canvas');\n",
       "    canvas.setAttribute('style', 'box-sizing: content-box;');\n",
       "\n",
       "    this.context = canvas.getContext('2d');\n",
       "\n",
       "    var backingStore =\n",
       "        this.context.backingStorePixelRatio ||\n",
       "        this.context.webkitBackingStorePixelRatio ||\n",
       "        this.context.mozBackingStorePixelRatio ||\n",
       "        this.context.msBackingStorePixelRatio ||\n",
       "        this.context.oBackingStorePixelRatio ||\n",
       "        this.context.backingStorePixelRatio ||\n",
       "        1;\n",
       "\n",
       "    this.ratio = (window.devicePixelRatio || 1) / backingStore;\n",
       "\n",
       "    var rubberband_canvas = (this.rubberband_canvas = document.createElement(\n",
       "        'canvas'\n",
       "    ));\n",
       "    rubberband_canvas.setAttribute(\n",
       "        'style',\n",
       "        'box-sizing: content-box; position: absolute; left: 0; top: 0; z-index: 1;'\n",
       "    );\n",
       "\n",
       "    // Apply a ponyfill if ResizeObserver is not implemented by browser.\n",
       "    if (this.ResizeObserver === undefined) {\n",
       "        if (window.ResizeObserver !== undefined) {\n",
       "            this.ResizeObserver = window.ResizeObserver;\n",
       "        } else {\n",
       "            var obs = _JSXTOOLS_RESIZE_OBSERVER({});\n",
       "            this.ResizeObserver = obs.ResizeObserver;\n",
       "        }\n",
       "    }\n",
       "\n",
       "    this.resizeObserverInstance = new this.ResizeObserver(function (entries) {\n",
       "        var nentries = entries.length;\n",
       "        for (var i = 0; i < nentries; i++) {\n",
       "            var entry = entries[i];\n",
       "            var width, height;\n",
       "            if (entry.contentBoxSize) {\n",
       "                if (entry.contentBoxSize instanceof Array) {\n",
       "                    // Chrome 84 implements new version of spec.\n",
       "                    width = entry.contentBoxSize[0].inlineSize;\n",
       "                    height = entry.contentBoxSize[0].blockSize;\n",
       "                } else {\n",
       "                    // Firefox implements old version of spec.\n",
       "                    width = entry.contentBoxSize.inlineSize;\n",
       "                    height = entry.contentBoxSize.blockSize;\n",
       "                }\n",
       "            } else {\n",
       "                // Chrome <84 implements even older version of spec.\n",
       "                width = entry.contentRect.width;\n",
       "                height = entry.contentRect.height;\n",
       "            }\n",
       "\n",
       "            // Keep the size of the canvas and rubber band canvas in sync with\n",
       "            // the canvas container.\n",
       "            if (entry.devicePixelContentBoxSize) {\n",
       "                // Chrome 84 implements new version of spec.\n",
       "                canvas.setAttribute(\n",
       "                    'width',\n",
       "                    entry.devicePixelContentBoxSize[0].inlineSize\n",
       "                );\n",
       "                canvas.setAttribute(\n",
       "                    'height',\n",
       "                    entry.devicePixelContentBoxSize[0].blockSize\n",
       "                );\n",
       "            } else {\n",
       "                canvas.setAttribute('width', width * fig.ratio);\n",
       "                canvas.setAttribute('height', height * fig.ratio);\n",
       "            }\n",
       "            canvas.setAttribute(\n",
       "                'style',\n",
       "                'width: ' + width + 'px; height: ' + height + 'px;'\n",
       "            );\n",
       "\n",
       "            rubberband_canvas.setAttribute('width', width);\n",
       "            rubberband_canvas.setAttribute('height', height);\n",
       "\n",
       "            // And update the size in Python. We ignore the initial 0/0 size\n",
       "            // that occurs as the element is placed into the DOM, which should\n",
       "            // otherwise not happen due to the minimum size styling.\n",
       "            if (fig.ws.readyState == 1 && width != 0 && height != 0) {\n",
       "                fig.request_resize(width, height);\n",
       "            }\n",
       "        }\n",
       "    });\n",
       "    this.resizeObserverInstance.observe(canvas_div);\n",
       "\n",
       "    function on_mouse_event_closure(name) {\n",
       "        return function (event) {\n",
       "            return fig.mouse_event(event, name);\n",
       "        };\n",
       "    }\n",
       "\n",
       "    rubberband_canvas.addEventListener(\n",
       "        'mousedown',\n",
       "        on_mouse_event_closure('button_press')\n",
       "    );\n",
       "    rubberband_canvas.addEventListener(\n",
       "        'mouseup',\n",
       "        on_mouse_event_closure('button_release')\n",
       "    );\n",
       "    rubberband_canvas.addEventListener(\n",
       "        'dblclick',\n",
       "        on_mouse_event_closure('dblclick')\n",
       "    );\n",
       "    // Throttle sequential mouse events to 1 every 20ms.\n",
       "    rubberband_canvas.addEventListener(\n",
       "        'mousemove',\n",
       "        on_mouse_event_closure('motion_notify')\n",
       "    );\n",
       "\n",
       "    rubberband_canvas.addEventListener(\n",
       "        'mouseenter',\n",
       "        on_mouse_event_closure('figure_enter')\n",
       "    );\n",
       "    rubberband_canvas.addEventListener(\n",
       "        'mouseleave',\n",
       "        on_mouse_event_closure('figure_leave')\n",
       "    );\n",
       "\n",
       "    canvas_div.addEventListener('wheel', function (event) {\n",
       "        if (event.deltaY < 0) {\n",
       "            event.step = 1;\n",
       "        } else {\n",
       "            event.step = -1;\n",
       "        }\n",
       "        on_mouse_event_closure('scroll')(event);\n",
       "    });\n",
       "\n",
       "    canvas_div.appendChild(canvas);\n",
       "    canvas_div.appendChild(rubberband_canvas);\n",
       "\n",
       "    this.rubberband_context = rubberband_canvas.getContext('2d');\n",
       "    this.rubberband_context.strokeStyle = '#000000';\n",
       "\n",
       "    this._resize_canvas = function (width, height, forward) {\n",
       "        if (forward) {\n",
       "            canvas_div.style.width = width + 'px';\n",
       "            canvas_div.style.height = height + 'px';\n",
       "        }\n",
       "    };\n",
       "\n",
       "    // Disable right mouse context menu.\n",
       "    this.rubberband_canvas.addEventListener('contextmenu', function (_e) {\n",
       "        event.preventDefault();\n",
       "        return false;\n",
       "    });\n",
       "\n",
       "    function set_focus() {\n",
       "        canvas.focus();\n",
       "        canvas_div.focus();\n",
       "    }\n",
       "\n",
       "    window.setTimeout(set_focus, 100);\n",
       "};\n",
       "\n",
       "mpl.figure.prototype._init_toolbar = function () {\n",
       "    var fig = this;\n",
       "\n",
       "    var toolbar = document.createElement('div');\n",
       "    toolbar.classList = 'mpl-toolbar';\n",
       "    this.root.appendChild(toolbar);\n",
       "\n",
       "    function on_click_closure(name) {\n",
       "        return function (_event) {\n",
       "            return fig.toolbar_button_onclick(name);\n",
       "        };\n",
       "    }\n",
       "\n",
       "    function on_mouseover_closure(tooltip) {\n",
       "        return function (event) {\n",
       "            if (!event.currentTarget.disabled) {\n",
       "                return fig.toolbar_button_onmouseover(tooltip);\n",
       "            }\n",
       "        };\n",
       "    }\n",
       "\n",
       "    fig.buttons = {};\n",
       "    var buttonGroup = document.createElement('div');\n",
       "    buttonGroup.classList = 'mpl-button-group';\n",
       "    for (var toolbar_ind in mpl.toolbar_items) {\n",
       "        var name = mpl.toolbar_items[toolbar_ind][0];\n",
       "        var tooltip = mpl.toolbar_items[toolbar_ind][1];\n",
       "        var image = mpl.toolbar_items[toolbar_ind][2];\n",
       "        var method_name = mpl.toolbar_items[toolbar_ind][3];\n",
       "\n",
       "        if (!name) {\n",
       "            /* Instead of a spacer, we start a new button group. */\n",
       "            if (buttonGroup.hasChildNodes()) {\n",
       "                toolbar.appendChild(buttonGroup);\n",
       "            }\n",
       "            buttonGroup = document.createElement('div');\n",
       "            buttonGroup.classList = 'mpl-button-group';\n",
       "            continue;\n",
       "        }\n",
       "\n",
       "        var button = (fig.buttons[name] = document.createElement('button'));\n",
       "        button.classList = 'mpl-widget';\n",
       "        button.setAttribute('role', 'button');\n",
       "        button.setAttribute('aria-disabled', 'false');\n",
       "        button.addEventListener('click', on_click_closure(method_name));\n",
       "        button.addEventListener('mouseover', on_mouseover_closure(tooltip));\n",
       "\n",
       "        var icon_img = document.createElement('img');\n",
       "        icon_img.src = '_images/' + image + '.png';\n",
       "        icon_img.srcset = '_images/' + image + '_large.png 2x';\n",
       "        icon_img.alt = tooltip;\n",
       "        button.appendChild(icon_img);\n",
       "\n",
       "        buttonGroup.appendChild(button);\n",
       "    }\n",
       "\n",
       "    if (buttonGroup.hasChildNodes()) {\n",
       "        toolbar.appendChild(buttonGroup);\n",
       "    }\n",
       "\n",
       "    var fmt_picker = document.createElement('select');\n",
       "    fmt_picker.classList = 'mpl-widget';\n",
       "    toolbar.appendChild(fmt_picker);\n",
       "    this.format_dropdown = fmt_picker;\n",
       "\n",
       "    for (var ind in mpl.extensions) {\n",
       "        var fmt = mpl.extensions[ind];\n",
       "        var option = document.createElement('option');\n",
       "        option.selected = fmt === mpl.default_extension;\n",
       "        option.innerHTML = fmt;\n",
       "        fmt_picker.appendChild(option);\n",
       "    }\n",
       "\n",
       "    var status_bar = document.createElement('span');\n",
       "    status_bar.classList = 'mpl-message';\n",
       "    toolbar.appendChild(status_bar);\n",
       "    this.message = status_bar;\n",
       "};\n",
       "\n",
       "mpl.figure.prototype.request_resize = function (x_pixels, y_pixels) {\n",
       "    // Request matplotlib to resize the figure. Matplotlib will then trigger a resize in the client,\n",
       "    // which will in turn request a refresh of the image.\n",
       "    this.send_message('resize', { width: x_pixels, height: y_pixels });\n",
       "};\n",
       "\n",
       "mpl.figure.prototype.send_message = function (type, properties) {\n",
       "    properties['type'] = type;\n",
       "    properties['figure_id'] = this.id;\n",
       "    this.ws.send(JSON.stringify(properties));\n",
       "};\n",
       "\n",
       "mpl.figure.prototype.send_draw_message = function () {\n",
       "    if (!this.waiting) {\n",
       "        this.waiting = true;\n",
       "        this.ws.send(JSON.stringify({ type: 'draw', figure_id: this.id }));\n",
       "    }\n",
       "};\n",
       "\n",
       "mpl.figure.prototype.handle_save = function (fig, _msg) {\n",
       "    var format_dropdown = fig.format_dropdown;\n",
       "    var format = format_dropdown.options[format_dropdown.selectedIndex].value;\n",
       "    fig.ondownload(fig, format);\n",
       "};\n",
       "\n",
       "mpl.figure.prototype.handle_resize = function (fig, msg) {\n",
       "    var size = msg['size'];\n",
       "    if (size[0] !== fig.canvas.width || size[1] !== fig.canvas.height) {\n",
       "        fig._resize_canvas(size[0], size[1], msg['forward']);\n",
       "        fig.send_message('refresh', {});\n",
       "    }\n",
       "};\n",
       "\n",
       "mpl.figure.prototype.handle_rubberband = function (fig, msg) {\n",
       "    var x0 = msg['x0'] / fig.ratio;\n",
       "    var y0 = (fig.canvas.height - msg['y0']) / fig.ratio;\n",
       "    var x1 = msg['x1'] / fig.ratio;\n",
       "    var y1 = (fig.canvas.height - msg['y1']) / fig.ratio;\n",
       "    x0 = Math.floor(x0) + 0.5;\n",
       "    y0 = Math.floor(y0) + 0.5;\n",
       "    x1 = Math.floor(x1) + 0.5;\n",
       "    y1 = Math.floor(y1) + 0.5;\n",
       "    var min_x = Math.min(x0, x1);\n",
       "    var min_y = Math.min(y0, y1);\n",
       "    var width = Math.abs(x1 - x0);\n",
       "    var height = Math.abs(y1 - y0);\n",
       "\n",
       "    fig.rubberband_context.clearRect(\n",
       "        0,\n",
       "        0,\n",
       "        fig.canvas.width / fig.ratio,\n",
       "        fig.canvas.height / fig.ratio\n",
       "    );\n",
       "\n",
       "    fig.rubberband_context.strokeRect(min_x, min_y, width, height);\n",
       "};\n",
       "\n",
       "mpl.figure.prototype.handle_figure_label = function (fig, msg) {\n",
       "    // Updates the figure title.\n",
       "    fig.header.textContent = msg['label'];\n",
       "};\n",
       "\n",
       "mpl.figure.prototype.handle_cursor = function (fig, msg) {\n",
       "    fig.rubberband_canvas.style.cursor = msg['cursor'];\n",
       "};\n",
       "\n",
       "mpl.figure.prototype.handle_message = function (fig, msg) {\n",
       "    fig.message.textContent = msg['message'];\n",
       "};\n",
       "\n",
       "mpl.figure.prototype.handle_draw = function (fig, _msg) {\n",
       "    // Request the server to send over a new figure.\n",
       "    fig.send_draw_message();\n",
       "};\n",
       "\n",
       "mpl.figure.prototype.handle_image_mode = function (fig, msg) {\n",
       "    fig.image_mode = msg['mode'];\n",
       "};\n",
       "\n",
       "mpl.figure.prototype.handle_history_buttons = function (fig, msg) {\n",
       "    for (var key in msg) {\n",
       "        if (!(key in fig.buttons)) {\n",
       "            continue;\n",
       "        }\n",
       "        fig.buttons[key].disabled = !msg[key];\n",
       "        fig.buttons[key].setAttribute('aria-disabled', !msg[key]);\n",
       "    }\n",
       "};\n",
       "\n",
       "mpl.figure.prototype.handle_navigate_mode = function (fig, msg) {\n",
       "    if (msg['mode'] === 'PAN') {\n",
       "        fig.buttons['Pan'].classList.add('active');\n",
       "        fig.buttons['Zoom'].classList.remove('active');\n",
       "    } else if (msg['mode'] === 'ZOOM') {\n",
       "        fig.buttons['Pan'].classList.remove('active');\n",
       "        fig.buttons['Zoom'].classList.add('active');\n",
       "    } else {\n",
       "        fig.buttons['Pan'].classList.remove('active');\n",
       "        fig.buttons['Zoom'].classList.remove('active');\n",
       "    }\n",
       "};\n",
       "\n",
       "mpl.figure.prototype.updated_canvas_event = function () {\n",
       "    // Called whenever the canvas gets updated.\n",
       "    this.send_message('ack', {});\n",
       "};\n",
       "\n",
       "// A function to construct a web socket function for onmessage handling.\n",
       "// Called in the figure constructor.\n",
       "mpl.figure.prototype._make_on_message_function = function (fig) {\n",
       "    return function socket_on_message(evt) {\n",
       "        if (evt.data instanceof Blob) {\n",
       "            var img = evt.data;\n",
       "            if (img.type !== 'image/png') {\n",
       "                /* FIXME: We get \"Resource interpreted as Image but\n",
       "                 * transferred with MIME type text/plain:\" errors on\n",
       "                 * Chrome.  But how to set the MIME type?  It doesn't seem\n",
       "                 * to be part of the websocket stream */\n",
       "                img.type = 'image/png';\n",
       "            }\n",
       "\n",
       "            /* Free the memory for the previous frames */\n",
       "            if (fig.imageObj.src) {\n",
       "                (window.URL || window.webkitURL).revokeObjectURL(\n",
       "                    fig.imageObj.src\n",
       "                );\n",
       "            }\n",
       "\n",
       "            fig.imageObj.src = (window.URL || window.webkitURL).createObjectURL(\n",
       "                img\n",
       "            );\n",
       "            fig.updated_canvas_event();\n",
       "            fig.waiting = false;\n",
       "            return;\n",
       "        } else if (\n",
       "            typeof evt.data === 'string' &&\n",
       "            evt.data.slice(0, 21) === 'data:image/png;base64'\n",
       "        ) {\n",
       "            fig.imageObj.src = evt.data;\n",
       "            fig.updated_canvas_event();\n",
       "            fig.waiting = false;\n",
       "            return;\n",
       "        }\n",
       "\n",
       "        var msg = JSON.parse(evt.data);\n",
       "        var msg_type = msg['type'];\n",
       "\n",
       "        // Call the  \"handle_{type}\" callback, which takes\n",
       "        // the figure and JSON message as its only arguments.\n",
       "        try {\n",
       "            var callback = fig['handle_' + msg_type];\n",
       "        } catch (e) {\n",
       "            console.log(\n",
       "                \"No handler for the '\" + msg_type + \"' message type: \",\n",
       "                msg\n",
       "            );\n",
       "            return;\n",
       "        }\n",
       "\n",
       "        if (callback) {\n",
       "            try {\n",
       "                // console.log(\"Handling '\" + msg_type + \"' message: \", msg);\n",
       "                callback(fig, msg);\n",
       "            } catch (e) {\n",
       "                console.log(\n",
       "                    \"Exception inside the 'handler_\" + msg_type + \"' callback:\",\n",
       "                    e,\n",
       "                    e.stack,\n",
       "                    msg\n",
       "                );\n",
       "            }\n",
       "        }\n",
       "    };\n",
       "};\n",
       "\n",
       "// from https://stackoverflow.com/questions/1114465/getting-mouse-location-in-canvas\n",
       "mpl.findpos = function (e) {\n",
       "    //this section is from http://www.quirksmode.org/js/events_properties.html\n",
       "    var targ;\n",
       "    if (!e) {\n",
       "        e = window.event;\n",
       "    }\n",
       "    if (e.target) {\n",
       "        targ = e.target;\n",
       "    } else if (e.srcElement) {\n",
       "        targ = e.srcElement;\n",
       "    }\n",
       "    if (targ.nodeType === 3) {\n",
       "        // defeat Safari bug\n",
       "        targ = targ.parentNode;\n",
       "    }\n",
       "\n",
       "    // pageX,Y are the mouse positions relative to the document\n",
       "    var boundingRect = targ.getBoundingClientRect();\n",
       "    var x = e.pageX - (boundingRect.left + document.body.scrollLeft);\n",
       "    var y = e.pageY - (boundingRect.top + document.body.scrollTop);\n",
       "\n",
       "    return { x: x, y: y };\n",
       "};\n",
       "\n",
       "/*\n",
       " * return a copy of an object with only non-object keys\n",
       " * we need this to avoid circular references\n",
       " * https://stackoverflow.com/a/24161582/3208463\n",
       " */\n",
       "function simpleKeys(original) {\n",
       "    return Object.keys(original).reduce(function (obj, key) {\n",
       "        if (typeof original[key] !== 'object') {\n",
       "            obj[key] = original[key];\n",
       "        }\n",
       "        return obj;\n",
       "    }, {});\n",
       "}\n",
       "\n",
       "mpl.figure.prototype.mouse_event = function (event, name) {\n",
       "    var canvas_pos = mpl.findpos(event);\n",
       "\n",
       "    if (name === 'button_press') {\n",
       "        this.canvas.focus();\n",
       "        this.canvas_div.focus();\n",
       "    }\n",
       "\n",
       "    var x = canvas_pos.x * this.ratio;\n",
       "    var y = canvas_pos.y * this.ratio;\n",
       "\n",
       "    this.send_message(name, {\n",
       "        x: x,\n",
       "        y: y,\n",
       "        button: event.button,\n",
       "        step: event.step,\n",
       "        guiEvent: simpleKeys(event),\n",
       "    });\n",
       "\n",
       "    /* This prevents the web browser from automatically changing to\n",
       "     * the text insertion cursor when the button is pressed.  We want\n",
       "     * to control all of the cursor setting manually through the\n",
       "     * 'cursor' event from matplotlib */\n",
       "    event.preventDefault();\n",
       "    return false;\n",
       "};\n",
       "\n",
       "mpl.figure.prototype._key_event_extra = function (_event, _name) {\n",
       "    // Handle any extra behaviour associated with a key event\n",
       "};\n",
       "\n",
       "mpl.figure.prototype.key_event = function (event, name) {\n",
       "    // Prevent repeat events\n",
       "    if (name === 'key_press') {\n",
       "        if (event.key === this._key) {\n",
       "            return;\n",
       "        } else {\n",
       "            this._key = event.key;\n",
       "        }\n",
       "    }\n",
       "    if (name === 'key_release') {\n",
       "        this._key = null;\n",
       "    }\n",
       "\n",
       "    var value = '';\n",
       "    if (event.ctrlKey && event.key !== 'Control') {\n",
       "        value += 'ctrl+';\n",
       "    }\n",
       "    else if (event.altKey && event.key !== 'Alt') {\n",
       "        value += 'alt+';\n",
       "    }\n",
       "    else if (event.shiftKey && event.key !== 'Shift') {\n",
       "        value += 'shift+';\n",
       "    }\n",
       "\n",
       "    value += 'k' + event.key;\n",
       "\n",
       "    this._key_event_extra(event, name);\n",
       "\n",
       "    this.send_message(name, { key: value, guiEvent: simpleKeys(event) });\n",
       "    return false;\n",
       "};\n",
       "\n",
       "mpl.figure.prototype.toolbar_button_onclick = function (name) {\n",
       "    if (name === 'download') {\n",
       "        this.handle_save(this, null);\n",
       "    } else {\n",
       "        this.send_message('toolbar_button', { name: name });\n",
       "    }\n",
       "};\n",
       "\n",
       "mpl.figure.prototype.toolbar_button_onmouseover = function (tooltip) {\n",
       "    this.message.textContent = tooltip;\n",
       "};\n",
       "\n",
       "///////////////// REMAINING CONTENT GENERATED BY embed_js.py /////////////////\n",
       "// prettier-ignore\n",
       "var _JSXTOOLS_RESIZE_OBSERVER=function(A){var t,i=new WeakMap,n=new WeakMap,a=new WeakMap,r=new WeakMap,o=new Set;function s(e){if(!(this instanceof s))throw new TypeError(\"Constructor requires 'new' operator\");i.set(this,e)}function h(){throw new TypeError(\"Function is not a constructor\")}function c(e,t,i,n){e=0 in arguments?Number(arguments[0]):0,t=1 in arguments?Number(arguments[1]):0,i=2 in arguments?Number(arguments[2]):0,n=3 in arguments?Number(arguments[3]):0,this.right=(this.x=this.left=e)+(this.width=i),this.bottom=(this.y=this.top=t)+(this.height=n),Object.freeze(this)}function d(){t=requestAnimationFrame(d);var s=new WeakMap,p=new Set;o.forEach((function(t){r.get(t).forEach((function(i){var r=t instanceof window.SVGElement,o=a.get(t),d=r?0:parseFloat(o.paddingTop),f=r?0:parseFloat(o.paddingRight),l=r?0:parseFloat(o.paddingBottom),u=r?0:parseFloat(o.paddingLeft),g=r?0:parseFloat(o.borderTopWidth),m=r?0:parseFloat(o.borderRightWidth),w=r?0:parseFloat(o.borderBottomWidth),b=u+f,F=d+l,v=(r?0:parseFloat(o.borderLeftWidth))+m,W=g+w,y=r?0:t.offsetHeight-W-t.clientHeight,E=r?0:t.offsetWidth-v-t.clientWidth,R=b+v,z=F+W,M=r?t.width:parseFloat(o.width)-R-E,O=r?t.height:parseFloat(o.height)-z-y;if(n.has(t)){var k=n.get(t);if(k[0]===M&&k[1]===O)return}n.set(t,[M,O]);var S=Object.create(h.prototype);S.target=t,S.contentRect=new c(u,d,M,O),s.has(i)||(s.set(i,[]),p.add(i)),s.get(i).push(S)}))})),p.forEach((function(e){i.get(e).call(e,s.get(e),e)}))}return s.prototype.observe=function(i){if(i instanceof window.Element){r.has(i)||(r.set(i,new Set),o.add(i),a.set(i,window.getComputedStyle(i)));var n=r.get(i);n.has(this)||n.add(this),cancelAnimationFrame(t),t=requestAnimationFrame(d)}},s.prototype.unobserve=function(i){if(i instanceof window.Element&&r.has(i)){var n=r.get(i);n.has(this)&&(n.delete(this),n.size||(r.delete(i),o.delete(i))),n.size||r.delete(i),o.size||cancelAnimationFrame(t)}},A.DOMRectReadOnly=c,A.ResizeObserver=s,A.ResizeObserverEntry=h,A}; // eslint-disable-line\n",
       "mpl.toolbar_items = [[\"Home\", \"Reset original view\", \"fa fa-home icon-home\", \"home\"], [\"Back\", \"Back to previous view\", \"fa fa-arrow-left icon-arrow-left\", \"back\"], [\"Forward\", \"Forward to next view\", \"fa fa-arrow-right icon-arrow-right\", \"forward\"], [\"\", \"\", \"\", \"\"], [\"Pan\", \"Left button pans, Right button zooms\\nx/y fixes axis, CTRL fixes aspect\", \"fa fa-arrows icon-move\", \"pan\"], [\"Zoom\", \"Zoom to rectangle\\nx/y fixes axis\", \"fa fa-square-o icon-check-empty\", \"zoom\"], [\"\", \"\", \"\", \"\"], [\"Download\", \"Download plot\", \"fa fa-floppy-o icon-save\", \"download\"]];\n",
       "\n",
       "mpl.extensions = [\"eps\", \"jpeg\", \"pgf\", \"pdf\", \"png\", \"ps\", \"raw\", \"svg\", \"tif\"];\n",
       "\n",
       "mpl.default_extension = \"png\";/* global mpl */\n",
       "\n",
       "var comm_websocket_adapter = function (comm) {\n",
       "    // Create a \"websocket\"-like object which calls the given IPython comm\n",
       "    // object with the appropriate methods. Currently this is a non binary\n",
       "    // socket, so there is still some room for performance tuning.\n",
       "    var ws = {};\n",
       "\n",
       "    ws.binaryType = comm.kernel.ws.binaryType;\n",
       "    ws.readyState = comm.kernel.ws.readyState;\n",
       "    function updateReadyState(_event) {\n",
       "        if (comm.kernel.ws) {\n",
       "            ws.readyState = comm.kernel.ws.readyState;\n",
       "        } else {\n",
       "            ws.readyState = 3; // Closed state.\n",
       "        }\n",
       "    }\n",
       "    comm.kernel.ws.addEventListener('open', updateReadyState);\n",
       "    comm.kernel.ws.addEventListener('close', updateReadyState);\n",
       "    comm.kernel.ws.addEventListener('error', updateReadyState);\n",
       "\n",
       "    ws.close = function () {\n",
       "        comm.close();\n",
       "    };\n",
       "    ws.send = function (m) {\n",
       "        //console.log('sending', m);\n",
       "        comm.send(m);\n",
       "    };\n",
       "    // Register the callback with on_msg.\n",
       "    comm.on_msg(function (msg) {\n",
       "        //console.log('receiving', msg['content']['data'], msg);\n",
       "        var data = msg['content']['data'];\n",
       "        if (data['blob'] !== undefined) {\n",
       "            data = {\n",
       "                data: new Blob(msg['buffers'], { type: data['blob'] }),\n",
       "            };\n",
       "        }\n",
       "        // Pass the mpl event to the overridden (by mpl) onmessage function.\n",
       "        ws.onmessage(data);\n",
       "    });\n",
       "    return ws;\n",
       "};\n",
       "\n",
       "mpl.mpl_figure_comm = function (comm, msg) {\n",
       "    // This is the function which gets called when the mpl process\n",
       "    // starts-up an IPython Comm through the \"matplotlib\" channel.\n",
       "\n",
       "    var id = msg.content.data.id;\n",
       "    // Get hold of the div created by the display call when the Comm\n",
       "    // socket was opened in Python.\n",
       "    var element = document.getElementById(id);\n",
       "    var ws_proxy = comm_websocket_adapter(comm);\n",
       "\n",
       "    function ondownload(figure, _format) {\n",
       "        window.open(figure.canvas.toDataURL());\n",
       "    }\n",
       "\n",
       "    var fig = new mpl.figure(id, ws_proxy, ondownload, element);\n",
       "\n",
       "    // Call onopen now - mpl needs it, as it is assuming we've passed it a real\n",
       "    // web socket which is closed, not our websocket->open comm proxy.\n",
       "    ws_proxy.onopen();\n",
       "\n",
       "    fig.parent_element = element;\n",
       "    fig.cell_info = mpl.find_output_cell(\"<div id='\" + id + \"'></div>\");\n",
       "    if (!fig.cell_info) {\n",
       "        console.error('Failed to find cell for figure', id, fig);\n",
       "        return;\n",
       "    }\n",
       "    fig.cell_info[0].output_area.element.on(\n",
       "        'cleared',\n",
       "        { fig: fig },\n",
       "        fig._remove_fig_handler\n",
       "    );\n",
       "};\n",
       "\n",
       "mpl.figure.prototype.handle_close = function (fig, msg) {\n",
       "    var width = fig.canvas.width / fig.ratio;\n",
       "    fig.cell_info[0].output_area.element.off(\n",
       "        'cleared',\n",
       "        fig._remove_fig_handler\n",
       "    );\n",
       "    fig.resizeObserverInstance.unobserve(fig.canvas_div);\n",
       "\n",
       "    // Update the output cell to use the data from the current canvas.\n",
       "    fig.push_to_output();\n",
       "    var dataURL = fig.canvas.toDataURL();\n",
       "    // Re-enable the keyboard manager in IPython - without this line, in FF,\n",
       "    // the notebook keyboard shortcuts fail.\n",
       "    IPython.keyboard_manager.enable();\n",
       "    fig.parent_element.innerHTML =\n",
       "        '<img src=\"' + dataURL + '\" width=\"' + width + '\">';\n",
       "    fig.close_ws(fig, msg);\n",
       "};\n",
       "\n",
       "mpl.figure.prototype.close_ws = function (fig, msg) {\n",
       "    fig.send_message('closing', msg);\n",
       "    // fig.ws.close()\n",
       "};\n",
       "\n",
       "mpl.figure.prototype.push_to_output = function (_remove_interactive) {\n",
       "    // Turn the data on the canvas into data in the output cell.\n",
       "    var width = this.canvas.width / this.ratio;\n",
       "    var dataURL = this.canvas.toDataURL();\n",
       "    this.cell_info[1]['text/html'] =\n",
       "        '<img src=\"' + dataURL + '\" width=\"' + width + '\">';\n",
       "};\n",
       "\n",
       "mpl.figure.prototype.updated_canvas_event = function () {\n",
       "    // Tell IPython that the notebook contents must change.\n",
       "    IPython.notebook.set_dirty(true);\n",
       "    this.send_message('ack', {});\n",
       "    var fig = this;\n",
       "    // Wait a second, then push the new image to the DOM so\n",
       "    // that it is saved nicely (might be nice to debounce this).\n",
       "    setTimeout(function () {\n",
       "        fig.push_to_output();\n",
       "    }, 1000);\n",
       "};\n",
       "\n",
       "mpl.figure.prototype._init_toolbar = function () {\n",
       "    var fig = this;\n",
       "\n",
       "    var toolbar = document.createElement('div');\n",
       "    toolbar.classList = 'btn-toolbar';\n",
       "    this.root.appendChild(toolbar);\n",
       "\n",
       "    function on_click_closure(name) {\n",
       "        return function (_event) {\n",
       "            return fig.toolbar_button_onclick(name);\n",
       "        };\n",
       "    }\n",
       "\n",
       "    function on_mouseover_closure(tooltip) {\n",
       "        return function (event) {\n",
       "            if (!event.currentTarget.disabled) {\n",
       "                return fig.toolbar_button_onmouseover(tooltip);\n",
       "            }\n",
       "        };\n",
       "    }\n",
       "\n",
       "    fig.buttons = {};\n",
       "    var buttonGroup = document.createElement('div');\n",
       "    buttonGroup.classList = 'btn-group';\n",
       "    var button;\n",
       "    for (var toolbar_ind in mpl.toolbar_items) {\n",
       "        var name = mpl.toolbar_items[toolbar_ind][0];\n",
       "        var tooltip = mpl.toolbar_items[toolbar_ind][1];\n",
       "        var image = mpl.toolbar_items[toolbar_ind][2];\n",
       "        var method_name = mpl.toolbar_items[toolbar_ind][3];\n",
       "\n",
       "        if (!name) {\n",
       "            /* Instead of a spacer, we start a new button group. */\n",
       "            if (buttonGroup.hasChildNodes()) {\n",
       "                toolbar.appendChild(buttonGroup);\n",
       "            }\n",
       "            buttonGroup = document.createElement('div');\n",
       "            buttonGroup.classList = 'btn-group';\n",
       "            continue;\n",
       "        }\n",
       "\n",
       "        button = fig.buttons[name] = document.createElement('button');\n",
       "        button.classList = 'btn btn-default';\n",
       "        button.href = '#';\n",
       "        button.title = name;\n",
       "        button.innerHTML = '<i class=\"fa ' + image + ' fa-lg\"></i>';\n",
       "        button.addEventListener('click', on_click_closure(method_name));\n",
       "        button.addEventListener('mouseover', on_mouseover_closure(tooltip));\n",
       "        buttonGroup.appendChild(button);\n",
       "    }\n",
       "\n",
       "    if (buttonGroup.hasChildNodes()) {\n",
       "        toolbar.appendChild(buttonGroup);\n",
       "    }\n",
       "\n",
       "    // Add the status bar.\n",
       "    var status_bar = document.createElement('span');\n",
       "    status_bar.classList = 'mpl-message pull-right';\n",
       "    toolbar.appendChild(status_bar);\n",
       "    this.message = status_bar;\n",
       "\n",
       "    // Add the close button to the window.\n",
       "    var buttongrp = document.createElement('div');\n",
       "    buttongrp.classList = 'btn-group inline pull-right';\n",
       "    button = document.createElement('button');\n",
       "    button.classList = 'btn btn-mini btn-primary';\n",
       "    button.href = '#';\n",
       "    button.title = 'Stop Interaction';\n",
       "    button.innerHTML = '<i class=\"fa fa-power-off icon-remove icon-large\"></i>';\n",
       "    button.addEventListener('click', function (_evt) {\n",
       "        fig.handle_close(fig, {});\n",
       "    });\n",
       "    button.addEventListener(\n",
       "        'mouseover',\n",
       "        on_mouseover_closure('Stop Interaction')\n",
       "    );\n",
       "    buttongrp.appendChild(button);\n",
       "    var titlebar = this.root.querySelector('.ui-dialog-titlebar');\n",
       "    titlebar.insertBefore(buttongrp, titlebar.firstChild);\n",
       "};\n",
       "\n",
       "mpl.figure.prototype._remove_fig_handler = function (event) {\n",
       "    var fig = event.data.fig;\n",
       "    if (event.target !== this) {\n",
       "        // Ignore bubbled events from children.\n",
       "        return;\n",
       "    }\n",
       "    fig.close_ws(fig, {});\n",
       "};\n",
       "\n",
       "mpl.figure.prototype._root_extra_style = function (el) {\n",
       "    el.style.boxSizing = 'content-box'; // override notebook setting of border-box.\n",
       "};\n",
       "\n",
       "mpl.figure.prototype._canvas_extra_style = function (el) {\n",
       "    // this is important to make the div 'focusable\n",
       "    el.setAttribute('tabindex', 0);\n",
       "    // reach out to IPython and tell the keyboard manager to turn it's self\n",
       "    // off when our div gets focus\n",
       "\n",
       "    // location in version 3\n",
       "    if (IPython.notebook.keyboard_manager) {\n",
       "        IPython.notebook.keyboard_manager.register_events(el);\n",
       "    } else {\n",
       "        // location in version 2\n",
       "        IPython.keyboard_manager.register_events(el);\n",
       "    }\n",
       "};\n",
       "\n",
       "mpl.figure.prototype._key_event_extra = function (event, _name) {\n",
       "    // Check for shift+enter\n",
       "    if (event.shiftKey && event.which === 13) {\n",
       "        this.canvas_div.blur();\n",
       "        // select the cell after this one\n",
       "        var index = IPython.notebook.find_cell_index(this.cell_info[0]);\n",
       "        IPython.notebook.select(index + 1);\n",
       "    }\n",
       "};\n",
       "\n",
       "mpl.figure.prototype.handle_save = function (fig, _msg) {\n",
       "    fig.ondownload(fig, null);\n",
       "};\n",
       "\n",
       "mpl.find_output_cell = function (html_output) {\n",
       "    // Return the cell and output element which can be found *uniquely* in the notebook.\n",
       "    // Note - this is a bit hacky, but it is done because the \"notebook_saving.Notebook\"\n",
       "    // IPython event is triggered only after the cells have been serialised, which for\n",
       "    // our purposes (turning an active figure into a static one), is too late.\n",
       "    var cells = IPython.notebook.get_cells();\n",
       "    var ncells = cells.length;\n",
       "    for (var i = 0; i < ncells; i++) {\n",
       "        var cell = cells[i];\n",
       "        if (cell.cell_type === 'code') {\n",
       "            for (var j = 0; j < cell.output_area.outputs.length; j++) {\n",
       "                var data = cell.output_area.outputs[j];\n",
       "                if (data.data) {\n",
       "                    // IPython >= 3 moved mimebundle to data attribute of output\n",
       "                    data = data.data;\n",
       "                }\n",
       "                if (data['text/html'] === html_output) {\n",
       "                    return [cell, data, j];\n",
       "                }\n",
       "            }\n",
       "        }\n",
       "    }\n",
       "};\n",
       "\n",
       "// Register the function which deals with the matplotlib target/channel.\n",
       "// The kernel may be null if the page has been refreshed.\n",
       "if (IPython.notebook.kernel !== null) {\n",
       "    IPython.notebook.kernel.comm_manager.register_target(\n",
       "        'matplotlib',\n",
       "        mpl.mpl_figure_comm\n",
       "    );\n",
       "}\n"
      ],
      "text/plain": [
       "<IPython.core.display.Javascript object>"
      ]
     },
     "metadata": {},
     "output_type": "display_data"
    },
    {
     "data": {
      "text/html": [
       "<img src=\"data:image/png;base64,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\" width=\"432\">"
      ],
      "text/plain": [
       "<IPython.core.display.HTML object>"
      ]
     },
     "metadata": {},
     "output_type": "display_data"
    }
   ],
   "source": [
    "%matplotlib notebook\n",
    "pca_3_d = PCA(n_components=3)\n",
    "pca_x_3_d = pd.DataFrame(pca_3_d.fit_transform(X), columns=[\"PCA1\", \"PCA2\", \"PCA3\"])\n",
    "variance_ratio_3d = pca_3_d.explained_variance_ratio_\n",
    "\n",
    "fig1 = plt.figure()\n",
    "ax1 = fig1.add_subplot(projection='3d')\n",
    "\n",
    "for label, color in zip(['democrat', 'republican'], ['blue', 'red']):\n",
    "    ax1.scatter(\n",
    "        pca_x_3_d.iloc[(Y == label).values, 0],\n",
    "        pca_x_3_d.iloc[(Y == label).values, 1],\n",
    "        pca_x_3_d.iloc[(Y == label).values, 2],\n",
    "        c=color,\n",
    "        label=label\n",
    "    )\n",
    "ax1.set_xlabel(f'PCA 1 ({round(variance_ratio_3d[0]*100, 2)}%)')\n",
    "ax1.set_ylabel(f'PCA 2 ({round(variance_ratio_3d[1]*100, 2)}%)')\n",
    "ax1.set_zlabel(f'PCA 3 ({round(variance_ratio_3d[2]*100, 2)}%)')\n",
    "\n",
    "ax1.legend()\n",
    "plt.show()"
   ]
  },
  {
   "cell_type": "markdown",
   "id": "0edc99d4",
   "metadata": {},
   "source": [
    "Para que la reducción de componentes sea lo suficiente buena, la suma de la varianza explicada tendría que estar alrededor del 70%. Pero como se puede ver, la reducción a 2 y 3 componentes principales, que son las únicas que podemos representar gráficamente, no sería adecuada."
   ]
  },
  {
   "cell_type": "markdown",
   "id": "004babd1",
   "metadata": {},
   "source": [
    "## Estimación de parámetros con Grid Search y Random Search"
   ]
  },
  {
   "cell_type": "markdown",
   "id": "b41b0952",
   "metadata": {},
   "source": [
    "En este apartado se pretende buscar los mejores parámetros utilizando los estimadores Grid Search y Random search para los clasificadores **Decision Tree**, **SVM** y **kNN** de **scikit-learn**."
   ]
  },
  {
   "cell_type": "markdown",
   "id": "b6ffc6a0",
   "metadata": {},
   "source": [
    "### Grid Search"
   ]
  },
  {
   "cell_type": "markdown",
   "id": "265b92fc",
   "metadata": {},
   "source": [
    "Grid Search, o búsqueda por rejilla, se basa en probar todas las opciones posibles que se han definido en la rejilla y quedarse con la mejor combinación que suponga una mejor métrica. La métrica se puede definir al inicializar la búsqueda y en este caso se utilizará la tasa de acierto o CCR\n",
    "\n",
    "Primero se empieza con el clasificador de Decision Tree. Se han indicado varios valores para la máxima profundidad, el mínimo de instancias para hacer un split, y el mínimo de instancias en una hoja."
   ]
  },
  {
   "cell_type": "code",
   "execution_count": 27,
   "id": "00c3b3c5",
   "metadata": {},
   "outputs": [],
   "source": [
    "param_grid_tree = {\n",
    "    'max_depth': [3, 4, 5, 6, 7, 8],\n",
    "    'min_samples_split': [2, 3, 4, 5, 6],\n",
    "    'min_samples_leaf':  [1, 2, 3, 4, 5]\n",
    "}\n",
    "\n",
    "grid_search_tree_clf = GridSearchCV(\n",
    "    DecisionTreeClassifier(random_state=42),\n",
    "    param_grid=param_grid_tree,\n",
    "    scoring='accuracy',\n",
    "    n_jobs=-1\n",
    ")"
   ]
  },
  {
   "cell_type": "markdown",
   "id": "559edc1f",
   "metadata": {},
   "source": [
    "Se ejecuta el grid search con el dataset que tenemos y se obtiene que el mejor árbol de decisión con ese dataset y con los parámetros que se habían fijado anteriormente, tiene una profundidad máxima de 4, un mínimo de instancias por split de 2 y un mínimo de instancias por hoja de 1."
   ]
  },
  {
   "cell_type": "code",
   "execution_count": 28,
   "id": "a484705f",
   "metadata": {},
   "outputs": [
    {
     "data": {
      "text/plain": [
       "DecisionTreeClassifier(max_depth=4, random_state=42)"
      ]
     },
     "execution_count": 28,
     "metadata": {},
     "output_type": "execute_result"
    }
   ],
   "source": [
    "grid_search_tree_clf.fit(X, Y)\n",
    "grid_search_tree_clf.best_estimator_"
   ]
  },
  {
   "cell_type": "markdown",
   "id": "97dc2691",
   "metadata": {},
   "source": [
    "A continuación se utiliza SVM con Grid Search. Se ha indicado un rango de valores para el elemento de penalización C, el tipo de kernel, el grado del polinomio y el coeficiente gamma del kernel."
   ]
  },
  {
   "cell_type": "code",
   "execution_count": 29,
   "id": "40c86320",
   "metadata": {},
   "outputs": [],
   "source": [
    "param_grid_smv = {\n",
    "    'C': [1e-1, 1, 10, 25, 50, 100],\n",
    "    'kernel': ['poly', 'rbf'],\n",
    "    'degree': [2, 3, 4, 5, 6],\n",
    "    'gamma': [1e-1, 1, 10, 25, 50, 100]\n",
    "}\n",
    "\n",
    "grid_search_svm_clf = GridSearchCV(\n",
    "    SVC(random_state=42),\n",
    "    param_grid=param_grid_smv,\n",
    "    scoring='accuracy',\n",
    "    n_jobs=-1,\n",
    ")"
   ]
  },
  {
   "cell_type": "markdown",
   "id": "97855903",
   "metadata": {},
   "source": [
    "Se ejecuta el grid search con el dataset que tenemos y se obtiene que el mejor modelo de SVM con ese dataset y con los parámetros que se habían fijado anteriormente, tiene una penalización C de 0.1, un kernel polinomial, un grado polinomial de 5 y un coeficiente gamma de 0.1"
   ]
  },
  {
   "cell_type": "code",
   "execution_count": 30,
   "id": "2f3dceb0",
   "metadata": {},
   "outputs": [
    {
     "name": "stdout",
     "output_type": "stream",
     "text": [
      "SVC(C=0.1, degree=5, gamma=0.1, kernel='poly', random_state=42)\n"
     ]
    }
   ],
   "source": [
    "grid_search_svm_clf.fit(X, Y)\n",
    "print(grid_search_svm_clf.best_estimator_)"
   ]
  },
  {
   "cell_type": "markdown",
   "id": "b04f34d1",
   "metadata": {},
   "source": [
    "A continuación se utiliza kNN con Grid Search. Se ha indicado un rango de valores para el número de vecinos y el parámetro de la potencia para la métrica de Minkowski, donde 1 es la distancia de Manhattan y 2 la distancia euclídea"
   ]
  },
  {
   "cell_type": "code",
   "execution_count": 31,
   "id": "f72c5ed8",
   "metadata": {},
   "outputs": [],
   "source": [
    "param_grid_knn = {\n",
    "    'n_neighbors': [1, 3, 5, 7, 9, 11],\n",
    "    'p': [1, 2]\n",
    "}\n",
    "\n",
    "grid_search_knn_clf = GridSearchCV(\n",
    "    KNeighborsClassifier(),\n",
    "    param_grid=param_grid_knn,\n",
    "    scoring='accuracy',\n",
    "    n_jobs=-1\n",
    ")"
   ]
  },
  {
   "cell_type": "markdown",
   "id": "414b73aa",
   "metadata": {},
   "source": [
    "Se ejecuta el grid search con el dataset que tenemos y se obtiene que el mejor modelo de kNN con ese dataset y con los parámetros que se habían fijado anteriormente, el número de vecinos es de 2 y la métrica de distancia utilizada es la de Manhattan"
   ]
  },
  {
   "cell_type": "code",
   "execution_count": 32,
   "id": "393116a2",
   "metadata": {},
   "outputs": [
    {
     "name": "stdout",
     "output_type": "stream",
     "text": [
      "KNeighborsClassifier(p=1)\n"
     ]
    }
   ],
   "source": [
    "grid_search_knn_clf.fit(X, Y)\n",
    "print(grid_search_knn_clf.best_estimator_)"
   ]
  },
  {
   "cell_type": "markdown",
   "id": "63ec8ef6",
   "metadata": {},
   "source": [
    "### Random search"
   ]
  },
  {
   "cell_type": "markdown",
   "id": "58cb8980",
   "metadata": {},
   "source": [
    "Random search, o búsqueda aleatoria, se basa en probar x combinaciones de parámetros que se han escogido de manera pseudo-aleatoria y quedarse con la mejor combinación que suponga una mejor métrica. La métrica se puede definir al inicializar la búsqueda y en este caso se utilizará la tasa de acierto o CCR"
   ]
  },
  {
   "cell_type": "markdown",
   "id": "5576b2bd",
   "metadata": {},
   "source": [
    "Primero se empieza con el clasificador de Decision Tree. Se han indicado varios valores para la máxima profundidad, el mínimo de instancias para hacer un split, y el mínimo de instancias en una hoja."
   ]
  },
  {
   "cell_type": "code",
   "execution_count": 33,
   "id": "bc6cfcd9",
   "metadata": {},
   "outputs": [],
   "source": [
    "param_random_tree = {\n",
    "    'max_depth': [3, 4, 5, 6, 7, 8],\n",
    "    'min_samples_split': [2, 3, 4, 5, 6],\n",
    "    'min_samples_leaf':  [1, 2, 3, 4, 5]\n",
    "}\n",
    "\n",
    "random_search_tree_clf = RandomizedSearchCV(\n",
    "    DecisionTreeClassifier(random_state=42),\n",
    "    param_random_tree,\n",
    "    scoring='accuracy',\n",
    "    random_state=42,\n",
    "    n_jobs=-1\n",
    ")"
   ]
  },
  {
   "cell_type": "markdown",
   "id": "5e6ac72c",
   "metadata": {},
   "source": [
    "Se ejecuta el random search con el dataset que tenemos y se obtiene que el mejor árbol de decisión con ese dataset y con los parámetros que se habían fijado anteriormente, tiene una profundidad máxima de 4, un mínimo de instancias por split de 3 y un mínimo de instancias por hoja de 2."
   ]
  },
  {
   "cell_type": "code",
   "execution_count": 34,
   "id": "537ba83e",
   "metadata": {},
   "outputs": [
    {
     "name": "stdout",
     "output_type": "stream",
     "text": [
      "DecisionTreeClassifier(max_depth=4, min_samples_leaf=2, min_samples_split=3,\n",
      "                       random_state=42)\n"
     ]
    }
   ],
   "source": [
    "random_search_tree_clf.fit(X, Y)\n",
    "print(random_search_tree_clf.best_estimator_)"
   ]
  },
  {
   "cell_type": "markdown",
   "id": "2191cb8a",
   "metadata": {},
   "source": [
    "A continuación se utiliza SVM con Grid Search. Se ha indicado un rango de valores para el elemento de penalización C, el tipo de kernel, el grado del polinomio y el coeficiente gamma del kernel."
   ]
  },
  {
   "cell_type": "code",
   "execution_count": 35,
   "id": "e792f4f4",
   "metadata": {},
   "outputs": [],
   "source": [
    "param_random_smv = {\n",
    "    'C': uniform(1e-5, 100),\n",
    "    'kernel': ['poly', 'rbf'],\n",
    "    'degree': [2, 3, 4, 5, 6],\n",
    "    'gamma': uniform(1e-5, 100)\n",
    "}\n",
    "\n",
    "random_search_svm_clf = RandomizedSearchCV(\n",
    "    SVC(random_state=42),\n",
    "    param_random_smv,\n",
    "    scoring='accuracy',\n",
    "    random_state=42,\n",
    "    n_jobs=-1,\n",
    ")"
   ]
  },
  {
   "cell_type": "markdown",
   "id": "31d42883",
   "metadata": {},
   "source": [
    "Se ejecuta el random search con el dataset que tenemos y se obtiene que el mejor modelo de SVM con ese dataset y con los parámetros que se habían fijado anteriormente, tiene una penalización C de 59.24146688620425, un kernel polinomial, un grado polinomial de 4 y un coeficiente gamma de 85.99405067363206."
   ]
  },
  {
   "cell_type": "code",
   "execution_count": 36,
   "id": "8cccfc1f",
   "metadata": {},
   "outputs": [
    {
     "name": "stdout",
     "output_type": "stream",
     "text": [
      "SVC(C=59.24146688620425, degree=4, gamma=85.99405067363206, kernel='poly',\n",
      "    random_state=42)\n"
     ]
    }
   ],
   "source": [
    "random_search_svm_clf.fit(X, Y)\n",
    "print(random_search_svm_clf.best_estimator_)"
   ]
  },
  {
   "cell_type": "markdown",
   "id": "d2c32c55",
   "metadata": {},
   "source": [
    "Por último se utiliza kNN con Random Search. Se ha indicado un rango de valores para el número de vecinos y el parámetro de la potencia para la métrica de Minkowski, donde 1 es la distancia de Manhattan y 2 la distancia euclídea"
   ]
  },
  {
   "cell_type": "code",
   "execution_count": 37,
   "id": "c558fac3",
   "metadata": {},
   "outputs": [],
   "source": [
    "param_random_knn = {\n",
    "    'n_neighbors': [1, 3, 5, 7, 9, 11],\n",
    "    'p': [1, 2]\n",
    "}\n",
    "\n",
    "random_search_knn_clf = RandomizedSearchCV(\n",
    "    KNeighborsClassifier(),\n",
    "    param_random_knn,\n",
    "    scoring='accuracy',\n",
    "    random_state=42,\n",
    "    n_jobs=-1\n",
    ")"
   ]
  },
  {
   "cell_type": "markdown",
   "id": "475f5301",
   "metadata": {},
   "source": [
    "Se ejecuta el random search con el dataset que tenemos y se obtiene que el mejor modelo de kNN con ese dataset y con los parámetros que se habían fijado anteriormente, el número de vecinos es de 5 y la métrica de distancia utilizada es la euclídea."
   ]
  },
  {
   "cell_type": "code",
   "execution_count": 38,
   "id": "bfedea2f",
   "metadata": {},
   "outputs": [
    {
     "name": "stdout",
     "output_type": "stream",
     "text": [
      "KNeighborsClassifier()\n"
     ]
    }
   ],
   "source": [
    "random_search_knn_clf.fit(X, Y)\n",
    "print(random_search_knn_clf.best_estimator_)"
   ]
  },
  {
   "cell_type": "markdown",
   "id": "55bdd49e",
   "metadata": {},
   "source": [
    "## Validación cruzada"
   ]
  },
  {
   "cell_type": "markdown",
   "id": "fadb02ab",
   "metadata": {},
   "source": [
    "En este apartado se va a ejecutar una validación cruzada con 10 folds estratificados, ya que estamos ante dataset desbalanceado, y se van a utilizar los mejores parámetros obtenidos en el Grid Search."
   ]
  },
  {
   "cell_type": "code",
   "execution_count": 39,
   "id": "a874e9a7",
   "metadata": {},
   "outputs": [],
   "source": [
    "stratified_folds = StratifiedKFold(n_splits=10, shuffle=True, random_state=42)"
   ]
  },
  {
   "cell_type": "code",
   "execution_count": 40,
   "id": "a33f3e8d",
   "metadata": {},
   "outputs": [
    {
     "data": {
      "text/plain": [
       "array([0.95454545, 0.97727273, 0.95454545, 0.90909091, 0.93181818,\n",
       "       0.95348837, 1.        , 1.        , 0.97674419, 0.8372093 ])"
      ]
     },
     "execution_count": 40,
     "metadata": {},
     "output_type": "execute_result"
    }
   ],
   "source": [
    "tree_clf = DecisionTreeClassifier(\n",
    "    random_state=42,\n",
    "    max_depth=4,\n",
    "    min_samples_split=2,\n",
    "    min_samples_leaf=1\n",
    ")\n",
    "cross_val_tree = cross_val_score(\n",
    "    tree_clf,\n",
    "    X,\n",
    "    Y,\n",
    "    cv=stratified_folds,\n",
    "    scoring='accuracy',\n",
    "    n_jobs=-1\n",
    ")\n",
    "cross_val_tree"
   ]
  },
  {
   "cell_type": "code",
   "execution_count": 41,
   "id": "47f44fd4",
   "metadata": {},
   "outputs": [
    {
     "data": {
      "text/plain": [
       "array([0.95454545, 1.        , 0.97727273, 0.95454545, 0.93181818,\n",
       "       0.90697674, 1.        , 1.        , 1.        , 0.88372093])"
      ]
     },
     "execution_count": 41,
     "metadata": {},
     "output_type": "execute_result"
    }
   ],
   "source": [
    "svm_clf = SVC(\n",
    "    C=0.1,\n",
    "    degree=5,\n",
    "    gamma=0.1,\n",
    "    kernel='poly',\n",
    "    random_state=42\n",
    ")\n",
    "cross_val_svm = cross_val_score(\n",
    "    svm_clf,\n",
    "    X,\n",
    "    Y,\n",
    "    cv=stratified_folds,\n",
    "    scoring='accuracy',\n",
    "    n_jobs=-1\n",
    ")\n",
    "cross_val_svm"
   ]
  },
  {
   "cell_type": "code",
   "execution_count": 42,
   "id": "a5fd7fb9",
   "metadata": {},
   "outputs": [
    {
     "data": {
      "text/plain": [
       "array([0.88636364, 0.95454545, 0.97727273, 0.93181818, 0.93181818,\n",
       "       0.88372093, 1.        , 0.97674419, 0.97674419, 0.8372093 ])"
      ]
     },
     "execution_count": 42,
     "metadata": {},
     "output_type": "execute_result"
    }
   ],
   "source": [
    "knn_clf = KNeighborsClassifier(\n",
    "    n_neighbors=5,\n",
    "    p=1\n",
    ")\n",
    "cross_val_knn = cross_val_score(\n",
    "    knn_clf,\n",
    "    X,\n",
    "    Y,\n",
    "    cv=stratified_folds,\n",
    "    scoring='accuracy',\n",
    "    n_jobs=-1\n",
    ")\n",
    "cross_val_knn"
   ]
  }
 ],
 "metadata": {
  "kernelspec": {
   "display_name": "Python 3 (ipykernel)",
   "language": "python",
   "name": "python3"
  },
  "language_info": {
   "codemirror_mode": {
    "name": "ipython",
    "version": 3
   },
   "file_extension": ".py",
   "mimetype": "text/x-python",
   "name": "python",
   "nbconvert_exporter": "python",
   "pygments_lexer": "ipython3",
   "version": "3.9.0"
  }
 },
 "nbformat": 4,
 "nbformat_minor": 5
}
