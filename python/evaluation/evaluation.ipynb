{
 "cells": [
  {
   "cell_type": "markdown",
   "id": "7473bacd-9f0f-473f-916d-12d501dabd5c",
   "metadata": {},
   "source": [
    "# Trabajo evaluable de Python"
   ]
  },
  {
   "cell_type": "markdown",
   "id": "6f3f16a2",
   "metadata": {},
   "source": [
    "**Alumno**: Daniel Ranchal Parrado\n",
    "\n",
    "**Correo electrónico**: [danielranchal@correo.uco.es](mailto:danielranchal@correo.ugr.es)\n",
    "\n",
    "**Asignatura**: Introducción a la programación a la ciencia de datos\n",
    "\n",
    "**Curso**: 2021/2022"
   ]
  },
  {
   "cell_type": "markdown",
   "id": "726d783d",
   "metadata": {},
   "source": [
    "## Descripción del dataset"
   ]
  },
  {
   "cell_type": "markdown",
   "id": "32bb7dfe-b28d-4ed5-be20-e0fdf8ed2b19",
   "metadata": {},
   "source": [
    "El dataset que se ha escogido para este trabajo es [Congressional Voting Records](https://archive.ics.uci.edu/ml/datasets/congressional+voting+records), que se encuentra en el repositorio de datasets de UCI. EL dataset recoge los votos de cada congresista del nonagésimo octavo congreso de los Estados Unidos sobre 16 elementos clave identificados por el Congressional Quarterly (CQA). El CQA identifica 9 tipos de votos: voto a favor, posición a favor, anunciado a favor (estos tres se han simplificado a \"yes\"), voto en contra, posición en contra, anunciado en contra (estos tres se han simplificado a \"no\"), vota abstención, vota abstención por conflicto de intereses y no vota o no se conoce la posición (estos últimos tres se simplifican a valor perdido).\n",
    "Los atributos de este dataset son los siguientes:\n",
    "- **handicapped-infants**. Variable binaria\n",
    "- **water-project-cost-sharing**. Variable binaria\n",
    "- **adoption-of-the-budget-resolution**. Variable binaria\n",
    "- **physician-fee-freeze**. Variable binaria\n",
    "- **el-salvador-aid**. Variable binaria\n",
    "- **religious-groups-in-schools**. Variable binaria\n",
    "- **anti-satellite-test-ban**. Variable binaria\n",
    "- **aid-to-nicaraguan-contras**. Variable binaria\n",
    "- **mx-missile**. Variable binaria\n",
    "- **immigration**. Variable binaria\n",
    "- **synfuels-corporation-cutback**. Variable binaria\n",
    "- **education-spending**. Variable binaria\n",
    "- **superfund-right-to-sue**. Variable binaria\n",
    "- **crime**. Variable binaria\n",
    "- **duty-free-exports**. Variable binaria\n",
    "- **export-administration-act-south-africa**. Variable binaria\n",
    "\n",
    "La variable a predecir es **Class** que toma los valores \"democrat\" o \"republican\""
   ]
  },
  {
   "cell_type": "markdown",
   "id": "1e501c4f",
   "metadata": {},
   "source": [
    "## Lectura y preprocesamiento del dataset"
   ]
  },
  {
   "cell_type": "code",
   "execution_count": 1,
   "id": "2a790805-823e-41ab-ada1-60da4e99196e",
   "metadata": {},
   "outputs": [],
   "source": [
    "%matplotlib inline\n",
    "import matplotlib.pyplot as plt\n",
    "import pandas as pd\n",
    "import seaborn as sns\n",
    "from scipy.stats import uniform\n",
    "from sklearn.decomposition import PCA\n",
    "from sklearn.model_selection import cross_val_score, GridSearchCV, RandomizedSearchCV, StratifiedKFold\n",
    "from sklearn.neighbors import KNeighborsClassifier\n",
    "from sklearn.preprocessing import OneHotEncoder\n",
    "from sklearn.svm import SVC\n",
    "from sklearn.tree import DecisionTreeClassifier, export_graphviz"
   ]
  },
  {
   "cell_type": "code",
   "execution_count": 2,
   "id": "1d1f4b48",
   "metadata": {},
   "outputs": [],
   "source": [
    "columns = [\n",
    "    \"handicapped-infants\",\n",
    "    \"water-project-cost-sharing\",\n",
    "    \"adoption-of-the-budget-resolution\",\n",
    "    \"physician-fee-freeze\",\n",
    "    \"el-salvador-aid\",\n",
    "    \"religious-groups-in-schools\",\n",
    "    \"anti-satellite-test-ban\",\n",
    "    \"aid-to-nicaraguan-contras\",\n",
    "    \"mx-missile\",\n",
    "    \"immigration\",\n",
    "    \"synfuels-corporation-cutback\",\n",
    "    \"education-spending\",\n",
    "    \"superfund-right-to-sue\",\n",
    "    \"crime\",\n",
    "    \"duty-free-exports\",\n",
    "    \"export-administration-act-south-africa\"\n",
    "]"
   ]
  },
  {
   "cell_type": "code",
   "execution_count": 3,
   "id": "0004a02f",
   "metadata": {},
   "outputs": [],
   "source": [
    "data = pd.read_csv(\n",
    "    \"https://archive.ics.uci.edu/ml/machine-learning-databases/voting-records/house-votes-84.data\",\n",
    "    header=None,\n",
    "    names=[\"Class\"] + columns\n",
    ")\n",
    "\n",
    "Class = data.pop(\"Class\")\n",
    "data[\"Class\"] = Class"
   ]
  },
  {
   "cell_type": "code",
   "execution_count": 4,
   "id": "eae0083e",
   "metadata": {},
   "outputs": [
    {
     "data": {
      "text/html": [
       "<div>\n",
       "<style scoped>\n",
       "    .dataframe tbody tr th:only-of-type {\n",
       "        vertical-align: middle;\n",
       "    }\n",
       "\n",
       "    .dataframe tbody tr th {\n",
       "        vertical-align: top;\n",
       "    }\n",
       "\n",
       "    .dataframe thead th {\n",
       "        text-align: right;\n",
       "    }\n",
       "</style>\n",
       "<table border=\"1\" class=\"dataframe\">\n",
       "  <thead>\n",
       "    <tr style=\"text-align: right;\">\n",
       "      <th></th>\n",
       "      <th>handicapped-infants</th>\n",
       "      <th>water-project-cost-sharing</th>\n",
       "      <th>adoption-of-the-budget-resolution</th>\n",
       "      <th>physician-fee-freeze</th>\n",
       "      <th>el-salvador-aid</th>\n",
       "      <th>religious-groups-in-schools</th>\n",
       "      <th>anti-satellite-test-ban</th>\n",
       "      <th>aid-to-nicaraguan-contras</th>\n",
       "      <th>mx-missile</th>\n",
       "      <th>immigration</th>\n",
       "      <th>synfuels-corporation-cutback</th>\n",
       "      <th>education-spending</th>\n",
       "      <th>superfund-right-to-sue</th>\n",
       "      <th>crime</th>\n",
       "      <th>duty-free-exports</th>\n",
       "      <th>export-administration-act-south-africa</th>\n",
       "      <th>Class</th>\n",
       "    </tr>\n",
       "  </thead>\n",
       "  <tbody>\n",
       "    <tr>\n",
       "      <th>0</th>\n",
       "      <td>n</td>\n",
       "      <td>y</td>\n",
       "      <td>n</td>\n",
       "      <td>y</td>\n",
       "      <td>y</td>\n",
       "      <td>y</td>\n",
       "      <td>n</td>\n",
       "      <td>n</td>\n",
       "      <td>n</td>\n",
       "      <td>y</td>\n",
       "      <td>?</td>\n",
       "      <td>y</td>\n",
       "      <td>y</td>\n",
       "      <td>y</td>\n",
       "      <td>n</td>\n",
       "      <td>y</td>\n",
       "      <td>republican</td>\n",
       "    </tr>\n",
       "    <tr>\n",
       "      <th>1</th>\n",
       "      <td>n</td>\n",
       "      <td>y</td>\n",
       "      <td>n</td>\n",
       "      <td>y</td>\n",
       "      <td>y</td>\n",
       "      <td>y</td>\n",
       "      <td>n</td>\n",
       "      <td>n</td>\n",
       "      <td>n</td>\n",
       "      <td>n</td>\n",
       "      <td>n</td>\n",
       "      <td>y</td>\n",
       "      <td>y</td>\n",
       "      <td>y</td>\n",
       "      <td>n</td>\n",
       "      <td>?</td>\n",
       "      <td>republican</td>\n",
       "    </tr>\n",
       "    <tr>\n",
       "      <th>2</th>\n",
       "      <td>?</td>\n",
       "      <td>y</td>\n",
       "      <td>y</td>\n",
       "      <td>?</td>\n",
       "      <td>y</td>\n",
       "      <td>y</td>\n",
       "      <td>n</td>\n",
       "      <td>n</td>\n",
       "      <td>n</td>\n",
       "      <td>n</td>\n",
       "      <td>y</td>\n",
       "      <td>n</td>\n",
       "      <td>y</td>\n",
       "      <td>y</td>\n",
       "      <td>n</td>\n",
       "      <td>n</td>\n",
       "      <td>democrat</td>\n",
       "    </tr>\n",
       "    <tr>\n",
       "      <th>3</th>\n",
       "      <td>n</td>\n",
       "      <td>y</td>\n",
       "      <td>y</td>\n",
       "      <td>n</td>\n",
       "      <td>?</td>\n",
       "      <td>y</td>\n",
       "      <td>n</td>\n",
       "      <td>n</td>\n",
       "      <td>n</td>\n",
       "      <td>n</td>\n",
       "      <td>y</td>\n",
       "      <td>n</td>\n",
       "      <td>y</td>\n",
       "      <td>n</td>\n",
       "      <td>n</td>\n",
       "      <td>y</td>\n",
       "      <td>democrat</td>\n",
       "    </tr>\n",
       "    <tr>\n",
       "      <th>4</th>\n",
       "      <td>y</td>\n",
       "      <td>y</td>\n",
       "      <td>y</td>\n",
       "      <td>n</td>\n",
       "      <td>y</td>\n",
       "      <td>y</td>\n",
       "      <td>n</td>\n",
       "      <td>n</td>\n",
       "      <td>n</td>\n",
       "      <td>n</td>\n",
       "      <td>y</td>\n",
       "      <td>?</td>\n",
       "      <td>y</td>\n",
       "      <td>y</td>\n",
       "      <td>y</td>\n",
       "      <td>y</td>\n",
       "      <td>democrat</td>\n",
       "    </tr>\n",
       "    <tr>\n",
       "      <th>...</th>\n",
       "      <td>...</td>\n",
       "      <td>...</td>\n",
       "      <td>...</td>\n",
       "      <td>...</td>\n",
       "      <td>...</td>\n",
       "      <td>...</td>\n",
       "      <td>...</td>\n",
       "      <td>...</td>\n",
       "      <td>...</td>\n",
       "      <td>...</td>\n",
       "      <td>...</td>\n",
       "      <td>...</td>\n",
       "      <td>...</td>\n",
       "      <td>...</td>\n",
       "      <td>...</td>\n",
       "      <td>...</td>\n",
       "      <td>...</td>\n",
       "    </tr>\n",
       "    <tr>\n",
       "      <th>430</th>\n",
       "      <td>n</td>\n",
       "      <td>n</td>\n",
       "      <td>y</td>\n",
       "      <td>y</td>\n",
       "      <td>y</td>\n",
       "      <td>y</td>\n",
       "      <td>n</td>\n",
       "      <td>n</td>\n",
       "      <td>y</td>\n",
       "      <td>y</td>\n",
       "      <td>n</td>\n",
       "      <td>y</td>\n",
       "      <td>y</td>\n",
       "      <td>y</td>\n",
       "      <td>n</td>\n",
       "      <td>y</td>\n",
       "      <td>republican</td>\n",
       "    </tr>\n",
       "    <tr>\n",
       "      <th>431</th>\n",
       "      <td>n</td>\n",
       "      <td>n</td>\n",
       "      <td>y</td>\n",
       "      <td>n</td>\n",
       "      <td>n</td>\n",
       "      <td>n</td>\n",
       "      <td>y</td>\n",
       "      <td>y</td>\n",
       "      <td>y</td>\n",
       "      <td>y</td>\n",
       "      <td>n</td>\n",
       "      <td>n</td>\n",
       "      <td>n</td>\n",
       "      <td>n</td>\n",
       "      <td>n</td>\n",
       "      <td>y</td>\n",
       "      <td>democrat</td>\n",
       "    </tr>\n",
       "    <tr>\n",
       "      <th>432</th>\n",
       "      <td>n</td>\n",
       "      <td>?</td>\n",
       "      <td>n</td>\n",
       "      <td>y</td>\n",
       "      <td>y</td>\n",
       "      <td>y</td>\n",
       "      <td>n</td>\n",
       "      <td>n</td>\n",
       "      <td>n</td>\n",
       "      <td>n</td>\n",
       "      <td>y</td>\n",
       "      <td>y</td>\n",
       "      <td>y</td>\n",
       "      <td>y</td>\n",
       "      <td>n</td>\n",
       "      <td>y</td>\n",
       "      <td>republican</td>\n",
       "    </tr>\n",
       "    <tr>\n",
       "      <th>433</th>\n",
       "      <td>n</td>\n",
       "      <td>n</td>\n",
       "      <td>n</td>\n",
       "      <td>y</td>\n",
       "      <td>y</td>\n",
       "      <td>y</td>\n",
       "      <td>?</td>\n",
       "      <td>?</td>\n",
       "      <td>?</td>\n",
       "      <td>?</td>\n",
       "      <td>n</td>\n",
       "      <td>y</td>\n",
       "      <td>y</td>\n",
       "      <td>y</td>\n",
       "      <td>n</td>\n",
       "      <td>y</td>\n",
       "      <td>republican</td>\n",
       "    </tr>\n",
       "    <tr>\n",
       "      <th>434</th>\n",
       "      <td>n</td>\n",
       "      <td>y</td>\n",
       "      <td>n</td>\n",
       "      <td>y</td>\n",
       "      <td>y</td>\n",
       "      <td>y</td>\n",
       "      <td>n</td>\n",
       "      <td>n</td>\n",
       "      <td>n</td>\n",
       "      <td>y</td>\n",
       "      <td>n</td>\n",
       "      <td>y</td>\n",
       "      <td>y</td>\n",
       "      <td>y</td>\n",
       "      <td>?</td>\n",
       "      <td>n</td>\n",
       "      <td>republican</td>\n",
       "    </tr>\n",
       "  </tbody>\n",
       "</table>\n",
       "<p>435 rows × 17 columns</p>\n",
       "</div>"
      ],
      "text/plain": [
       "    handicapped-infants water-project-cost-sharing  \\\n",
       "0                     n                          y   \n",
       "1                     n                          y   \n",
       "2                     ?                          y   \n",
       "3                     n                          y   \n",
       "4                     y                          y   \n",
       "..                  ...                        ...   \n",
       "430                   n                          n   \n",
       "431                   n                          n   \n",
       "432                   n                          ?   \n",
       "433                   n                          n   \n",
       "434                   n                          y   \n",
       "\n",
       "    adoption-of-the-budget-resolution physician-fee-freeze el-salvador-aid  \\\n",
       "0                                   n                    y               y   \n",
       "1                                   n                    y               y   \n",
       "2                                   y                    ?               y   \n",
       "3                                   y                    n               ?   \n",
       "4                                   y                    n               y   \n",
       "..                                ...                  ...             ...   \n",
       "430                                 y                    y               y   \n",
       "431                                 y                    n               n   \n",
       "432                                 n                    y               y   \n",
       "433                                 n                    y               y   \n",
       "434                                 n                    y               y   \n",
       "\n",
       "    religious-groups-in-schools anti-satellite-test-ban  \\\n",
       "0                             y                       n   \n",
       "1                             y                       n   \n",
       "2                             y                       n   \n",
       "3                             y                       n   \n",
       "4                             y                       n   \n",
       "..                          ...                     ...   \n",
       "430                           y                       n   \n",
       "431                           n                       y   \n",
       "432                           y                       n   \n",
       "433                           y                       ?   \n",
       "434                           y                       n   \n",
       "\n",
       "    aid-to-nicaraguan-contras mx-missile immigration  \\\n",
       "0                           n          n           y   \n",
       "1                           n          n           n   \n",
       "2                           n          n           n   \n",
       "3                           n          n           n   \n",
       "4                           n          n           n   \n",
       "..                        ...        ...         ...   \n",
       "430                         n          y           y   \n",
       "431                         y          y           y   \n",
       "432                         n          n           n   \n",
       "433                         ?          ?           ?   \n",
       "434                         n          n           y   \n",
       "\n",
       "    synfuels-corporation-cutback education-spending superfund-right-to-sue  \\\n",
       "0                              ?                  y                      y   \n",
       "1                              n                  y                      y   \n",
       "2                              y                  n                      y   \n",
       "3                              y                  n                      y   \n",
       "4                              y                  ?                      y   \n",
       "..                           ...                ...                    ...   \n",
       "430                            n                  y                      y   \n",
       "431                            n                  n                      n   \n",
       "432                            y                  y                      y   \n",
       "433                            n                  y                      y   \n",
       "434                            n                  y                      y   \n",
       "\n",
       "    crime duty-free-exports export-administration-act-south-africa       Class  \n",
       "0       y                 n                                      y  republican  \n",
       "1       y                 n                                      ?  republican  \n",
       "2       y                 n                                      n    democrat  \n",
       "3       n                 n                                      y    democrat  \n",
       "4       y                 y                                      y    democrat  \n",
       "..    ...               ...                                    ...         ...  \n",
       "430     y                 n                                      y  republican  \n",
       "431     n                 n                                      y    democrat  \n",
       "432     y                 n                                      y  republican  \n",
       "433     y                 n                                      y  republican  \n",
       "434     y                 ?                                      n  republican  \n",
       "\n",
       "[435 rows x 17 columns]"
      ]
     },
     "execution_count": 4,
     "metadata": {},
     "output_type": "execute_result"
    }
   ],
   "source": [
    "data"
   ]
  },
  {
   "cell_type": "markdown",
   "id": "033b6ddf",
   "metadata": {},
   "source": [
    "Como se observa, existen valores perdidos en las diferente columnas y esto se debe a que los autores de este dataset han identificado los votos de abstención como valores perdidos. Lo que se va a hacer es sustituir esos valores perdidos por el valor \"p\" (que viene de present cuyo significado es abstención) y por lo tanto, las columnas con valores binarios se convertirán en valores categóricos."
   ]
  },
  {
   "cell_type": "code",
   "execution_count": 5,
   "id": "612d3249",
   "metadata": {},
   "outputs": [],
   "source": [
    "data.where(data != '?', 'p', inplace=True)"
   ]
  },
  {
   "cell_type": "markdown",
   "id": "6900d3d9",
   "metadata": {},
   "source": [
    "Una vez hecho esto, separamos los predictores y la clase en diferentes variables"
   ]
  },
  {
   "cell_type": "code",
   "execution_count": 6,
   "id": "2d4e67b0",
   "metadata": {},
   "outputs": [],
   "source": [
    "X = data.iloc[:, :-1]\n",
    "Y = data.iloc[:, -1]"
   ]
  },
  {
   "cell_type": "code",
   "execution_count": 7,
   "id": "e93e1369",
   "metadata": {},
   "outputs": [
    {
     "data": {
      "text/html": [
       "<div>\n",
       "<style scoped>\n",
       "    .dataframe tbody tr th:only-of-type {\n",
       "        vertical-align: middle;\n",
       "    }\n",
       "\n",
       "    .dataframe tbody tr th {\n",
       "        vertical-align: top;\n",
       "    }\n",
       "\n",
       "    .dataframe thead th {\n",
       "        text-align: right;\n",
       "    }\n",
       "</style>\n",
       "<table border=\"1\" class=\"dataframe\">\n",
       "  <thead>\n",
       "    <tr style=\"text-align: right;\">\n",
       "      <th></th>\n",
       "      <th>handicapped-infants_n</th>\n",
       "      <th>handicapped-infants_p</th>\n",
       "      <th>handicapped-infants_y</th>\n",
       "      <th>water-project-cost-sharing_n</th>\n",
       "      <th>water-project-cost-sharing_p</th>\n",
       "      <th>water-project-cost-sharing_y</th>\n",
       "      <th>adoption-of-the-budget-resolution_n</th>\n",
       "      <th>adoption-of-the-budget-resolution_p</th>\n",
       "      <th>adoption-of-the-budget-resolution_y</th>\n",
       "      <th>physician-fee-freeze_n</th>\n",
       "      <th>...</th>\n",
       "      <th>superfund-right-to-sue_y</th>\n",
       "      <th>crime_n</th>\n",
       "      <th>crime_p</th>\n",
       "      <th>crime_y</th>\n",
       "      <th>duty-free-exports_n</th>\n",
       "      <th>duty-free-exports_p</th>\n",
       "      <th>duty-free-exports_y</th>\n",
       "      <th>export-administration-act-south-africa_n</th>\n",
       "      <th>export-administration-act-south-africa_p</th>\n",
       "      <th>export-administration-act-south-africa_y</th>\n",
       "    </tr>\n",
       "  </thead>\n",
       "  <tbody>\n",
       "    <tr>\n",
       "      <th>0</th>\n",
       "      <td>1.0</td>\n",
       "      <td>0.0</td>\n",
       "      <td>0.0</td>\n",
       "      <td>0.0</td>\n",
       "      <td>0.0</td>\n",
       "      <td>1.0</td>\n",
       "      <td>1.0</td>\n",
       "      <td>0.0</td>\n",
       "      <td>0.0</td>\n",
       "      <td>0.0</td>\n",
       "      <td>...</td>\n",
       "      <td>1.0</td>\n",
       "      <td>0.0</td>\n",
       "      <td>0.0</td>\n",
       "      <td>1.0</td>\n",
       "      <td>1.0</td>\n",
       "      <td>0.0</td>\n",
       "      <td>0.0</td>\n",
       "      <td>0.0</td>\n",
       "      <td>0.0</td>\n",
       "      <td>1.0</td>\n",
       "    </tr>\n",
       "    <tr>\n",
       "      <th>1</th>\n",
       "      <td>1.0</td>\n",
       "      <td>0.0</td>\n",
       "      <td>0.0</td>\n",
       "      <td>0.0</td>\n",
       "      <td>0.0</td>\n",
       "      <td>1.0</td>\n",
       "      <td>1.0</td>\n",
       "      <td>0.0</td>\n",
       "      <td>0.0</td>\n",
       "      <td>0.0</td>\n",
       "      <td>...</td>\n",
       "      <td>1.0</td>\n",
       "      <td>0.0</td>\n",
       "      <td>0.0</td>\n",
       "      <td>1.0</td>\n",
       "      <td>1.0</td>\n",
       "      <td>0.0</td>\n",
       "      <td>0.0</td>\n",
       "      <td>0.0</td>\n",
       "      <td>1.0</td>\n",
       "      <td>0.0</td>\n",
       "    </tr>\n",
       "    <tr>\n",
       "      <th>2</th>\n",
       "      <td>0.0</td>\n",
       "      <td>1.0</td>\n",
       "      <td>0.0</td>\n",
       "      <td>0.0</td>\n",
       "      <td>0.0</td>\n",
       "      <td>1.0</td>\n",
       "      <td>0.0</td>\n",
       "      <td>0.0</td>\n",
       "      <td>1.0</td>\n",
       "      <td>0.0</td>\n",
       "      <td>...</td>\n",
       "      <td>1.0</td>\n",
       "      <td>0.0</td>\n",
       "      <td>0.0</td>\n",
       "      <td>1.0</td>\n",
       "      <td>1.0</td>\n",
       "      <td>0.0</td>\n",
       "      <td>0.0</td>\n",
       "      <td>1.0</td>\n",
       "      <td>0.0</td>\n",
       "      <td>0.0</td>\n",
       "    </tr>\n",
       "    <tr>\n",
       "      <th>3</th>\n",
       "      <td>1.0</td>\n",
       "      <td>0.0</td>\n",
       "      <td>0.0</td>\n",
       "      <td>0.0</td>\n",
       "      <td>0.0</td>\n",
       "      <td>1.0</td>\n",
       "      <td>0.0</td>\n",
       "      <td>0.0</td>\n",
       "      <td>1.0</td>\n",
       "      <td>1.0</td>\n",
       "      <td>...</td>\n",
       "      <td>1.0</td>\n",
       "      <td>1.0</td>\n",
       "      <td>0.0</td>\n",
       "      <td>0.0</td>\n",
       "      <td>1.0</td>\n",
       "      <td>0.0</td>\n",
       "      <td>0.0</td>\n",
       "      <td>0.0</td>\n",
       "      <td>0.0</td>\n",
       "      <td>1.0</td>\n",
       "    </tr>\n",
       "    <tr>\n",
       "      <th>4</th>\n",
       "      <td>0.0</td>\n",
       "      <td>0.0</td>\n",
       "      <td>1.0</td>\n",
       "      <td>0.0</td>\n",
       "      <td>0.0</td>\n",
       "      <td>1.0</td>\n",
       "      <td>0.0</td>\n",
       "      <td>0.0</td>\n",
       "      <td>1.0</td>\n",
       "      <td>1.0</td>\n",
       "      <td>...</td>\n",
       "      <td>1.0</td>\n",
       "      <td>0.0</td>\n",
       "      <td>0.0</td>\n",
       "      <td>1.0</td>\n",
       "      <td>0.0</td>\n",
       "      <td>0.0</td>\n",
       "      <td>1.0</td>\n",
       "      <td>0.0</td>\n",
       "      <td>0.0</td>\n",
       "      <td>1.0</td>\n",
       "    </tr>\n",
       "    <tr>\n",
       "      <th>...</th>\n",
       "      <td>...</td>\n",
       "      <td>...</td>\n",
       "      <td>...</td>\n",
       "      <td>...</td>\n",
       "      <td>...</td>\n",
       "      <td>...</td>\n",
       "      <td>...</td>\n",
       "      <td>...</td>\n",
       "      <td>...</td>\n",
       "      <td>...</td>\n",
       "      <td>...</td>\n",
       "      <td>...</td>\n",
       "      <td>...</td>\n",
       "      <td>...</td>\n",
       "      <td>...</td>\n",
       "      <td>...</td>\n",
       "      <td>...</td>\n",
       "      <td>...</td>\n",
       "      <td>...</td>\n",
       "      <td>...</td>\n",
       "      <td>...</td>\n",
       "    </tr>\n",
       "    <tr>\n",
       "      <th>430</th>\n",
       "      <td>1.0</td>\n",
       "      <td>0.0</td>\n",
       "      <td>0.0</td>\n",
       "      <td>1.0</td>\n",
       "      <td>0.0</td>\n",
       "      <td>0.0</td>\n",
       "      <td>0.0</td>\n",
       "      <td>0.0</td>\n",
       "      <td>1.0</td>\n",
       "      <td>0.0</td>\n",
       "      <td>...</td>\n",
       "      <td>1.0</td>\n",
       "      <td>0.0</td>\n",
       "      <td>0.0</td>\n",
       "      <td>1.0</td>\n",
       "      <td>1.0</td>\n",
       "      <td>0.0</td>\n",
       "      <td>0.0</td>\n",
       "      <td>0.0</td>\n",
       "      <td>0.0</td>\n",
       "      <td>1.0</td>\n",
       "    </tr>\n",
       "    <tr>\n",
       "      <th>431</th>\n",
       "      <td>1.0</td>\n",
       "      <td>0.0</td>\n",
       "      <td>0.0</td>\n",
       "      <td>1.0</td>\n",
       "      <td>0.0</td>\n",
       "      <td>0.0</td>\n",
       "      <td>0.0</td>\n",
       "      <td>0.0</td>\n",
       "      <td>1.0</td>\n",
       "      <td>1.0</td>\n",
       "      <td>...</td>\n",
       "      <td>0.0</td>\n",
       "      <td>1.0</td>\n",
       "      <td>0.0</td>\n",
       "      <td>0.0</td>\n",
       "      <td>1.0</td>\n",
       "      <td>0.0</td>\n",
       "      <td>0.0</td>\n",
       "      <td>0.0</td>\n",
       "      <td>0.0</td>\n",
       "      <td>1.0</td>\n",
       "    </tr>\n",
       "    <tr>\n",
       "      <th>432</th>\n",
       "      <td>1.0</td>\n",
       "      <td>0.0</td>\n",
       "      <td>0.0</td>\n",
       "      <td>0.0</td>\n",
       "      <td>1.0</td>\n",
       "      <td>0.0</td>\n",
       "      <td>1.0</td>\n",
       "      <td>0.0</td>\n",
       "      <td>0.0</td>\n",
       "      <td>0.0</td>\n",
       "      <td>...</td>\n",
       "      <td>1.0</td>\n",
       "      <td>0.0</td>\n",
       "      <td>0.0</td>\n",
       "      <td>1.0</td>\n",
       "      <td>1.0</td>\n",
       "      <td>0.0</td>\n",
       "      <td>0.0</td>\n",
       "      <td>0.0</td>\n",
       "      <td>0.0</td>\n",
       "      <td>1.0</td>\n",
       "    </tr>\n",
       "    <tr>\n",
       "      <th>433</th>\n",
       "      <td>1.0</td>\n",
       "      <td>0.0</td>\n",
       "      <td>0.0</td>\n",
       "      <td>1.0</td>\n",
       "      <td>0.0</td>\n",
       "      <td>0.0</td>\n",
       "      <td>1.0</td>\n",
       "      <td>0.0</td>\n",
       "      <td>0.0</td>\n",
       "      <td>0.0</td>\n",
       "      <td>...</td>\n",
       "      <td>1.0</td>\n",
       "      <td>0.0</td>\n",
       "      <td>0.0</td>\n",
       "      <td>1.0</td>\n",
       "      <td>1.0</td>\n",
       "      <td>0.0</td>\n",
       "      <td>0.0</td>\n",
       "      <td>0.0</td>\n",
       "      <td>0.0</td>\n",
       "      <td>1.0</td>\n",
       "    </tr>\n",
       "    <tr>\n",
       "      <th>434</th>\n",
       "      <td>1.0</td>\n",
       "      <td>0.0</td>\n",
       "      <td>0.0</td>\n",
       "      <td>0.0</td>\n",
       "      <td>0.0</td>\n",
       "      <td>1.0</td>\n",
       "      <td>1.0</td>\n",
       "      <td>0.0</td>\n",
       "      <td>0.0</td>\n",
       "      <td>0.0</td>\n",
       "      <td>...</td>\n",
       "      <td>1.0</td>\n",
       "      <td>0.0</td>\n",
       "      <td>0.0</td>\n",
       "      <td>1.0</td>\n",
       "      <td>0.0</td>\n",
       "      <td>1.0</td>\n",
       "      <td>0.0</td>\n",
       "      <td>1.0</td>\n",
       "      <td>0.0</td>\n",
       "      <td>0.0</td>\n",
       "    </tr>\n",
       "  </tbody>\n",
       "</table>\n",
       "<p>435 rows × 48 columns</p>\n",
       "</div>"
      ],
      "text/plain": [
       "     handicapped-infants_n  handicapped-infants_p  handicapped-infants_y  \\\n",
       "0                      1.0                    0.0                    0.0   \n",
       "1                      1.0                    0.0                    0.0   \n",
       "2                      0.0                    1.0                    0.0   \n",
       "3                      1.0                    0.0                    0.0   \n",
       "4                      0.0                    0.0                    1.0   \n",
       "..                     ...                    ...                    ...   \n",
       "430                    1.0                    0.0                    0.0   \n",
       "431                    1.0                    0.0                    0.0   \n",
       "432                    1.0                    0.0                    0.0   \n",
       "433                    1.0                    0.0                    0.0   \n",
       "434                    1.0                    0.0                    0.0   \n",
       "\n",
       "     water-project-cost-sharing_n  water-project-cost-sharing_p  \\\n",
       "0                             0.0                           0.0   \n",
       "1                             0.0                           0.0   \n",
       "2                             0.0                           0.0   \n",
       "3                             0.0                           0.0   \n",
       "4                             0.0                           0.0   \n",
       "..                            ...                           ...   \n",
       "430                           1.0                           0.0   \n",
       "431                           1.0                           0.0   \n",
       "432                           0.0                           1.0   \n",
       "433                           1.0                           0.0   \n",
       "434                           0.0                           0.0   \n",
       "\n",
       "     water-project-cost-sharing_y  adoption-of-the-budget-resolution_n  \\\n",
       "0                             1.0                                  1.0   \n",
       "1                             1.0                                  1.0   \n",
       "2                             1.0                                  0.0   \n",
       "3                             1.0                                  0.0   \n",
       "4                             1.0                                  0.0   \n",
       "..                            ...                                  ...   \n",
       "430                           0.0                                  0.0   \n",
       "431                           0.0                                  0.0   \n",
       "432                           0.0                                  1.0   \n",
       "433                           0.0                                  1.0   \n",
       "434                           1.0                                  1.0   \n",
       "\n",
       "     adoption-of-the-budget-resolution_p  adoption-of-the-budget-resolution_y  \\\n",
       "0                                    0.0                                  0.0   \n",
       "1                                    0.0                                  0.0   \n",
       "2                                    0.0                                  1.0   \n",
       "3                                    0.0                                  1.0   \n",
       "4                                    0.0                                  1.0   \n",
       "..                                   ...                                  ...   \n",
       "430                                  0.0                                  1.0   \n",
       "431                                  0.0                                  1.0   \n",
       "432                                  0.0                                  0.0   \n",
       "433                                  0.0                                  0.0   \n",
       "434                                  0.0                                  0.0   \n",
       "\n",
       "     physician-fee-freeze_n  ...  superfund-right-to-sue_y  crime_n  crime_p  \\\n",
       "0                       0.0  ...                       1.0      0.0      0.0   \n",
       "1                       0.0  ...                       1.0      0.0      0.0   \n",
       "2                       0.0  ...                       1.0      0.0      0.0   \n",
       "3                       1.0  ...                       1.0      1.0      0.0   \n",
       "4                       1.0  ...                       1.0      0.0      0.0   \n",
       "..                      ...  ...                       ...      ...      ...   \n",
       "430                     0.0  ...                       1.0      0.0      0.0   \n",
       "431                     1.0  ...                       0.0      1.0      0.0   \n",
       "432                     0.0  ...                       1.0      0.0      0.0   \n",
       "433                     0.0  ...                       1.0      0.0      0.0   \n",
       "434                     0.0  ...                       1.0      0.0      0.0   \n",
       "\n",
       "     crime_y  duty-free-exports_n  duty-free-exports_p  duty-free-exports_y  \\\n",
       "0        1.0                  1.0                  0.0                  0.0   \n",
       "1        1.0                  1.0                  0.0                  0.0   \n",
       "2        1.0                  1.0                  0.0                  0.0   \n",
       "3        0.0                  1.0                  0.0                  0.0   \n",
       "4        1.0                  0.0                  0.0                  1.0   \n",
       "..       ...                  ...                  ...                  ...   \n",
       "430      1.0                  1.0                  0.0                  0.0   \n",
       "431      0.0                  1.0                  0.0                  0.0   \n",
       "432      1.0                  1.0                  0.0                  0.0   \n",
       "433      1.0                  1.0                  0.0                  0.0   \n",
       "434      1.0                  0.0                  1.0                  0.0   \n",
       "\n",
       "     export-administration-act-south-africa_n  \\\n",
       "0                                         0.0   \n",
       "1                                         0.0   \n",
       "2                                         1.0   \n",
       "3                                         0.0   \n",
       "4                                         0.0   \n",
       "..                                        ...   \n",
       "430                                       0.0   \n",
       "431                                       0.0   \n",
       "432                                       0.0   \n",
       "433                                       0.0   \n",
       "434                                       1.0   \n",
       "\n",
       "     export-administration-act-south-africa_p  \\\n",
       "0                                         0.0   \n",
       "1                                         1.0   \n",
       "2                                         0.0   \n",
       "3                                         0.0   \n",
       "4                                         0.0   \n",
       "..                                        ...   \n",
       "430                                       0.0   \n",
       "431                                       0.0   \n",
       "432                                       0.0   \n",
       "433                                       0.0   \n",
       "434                                       0.0   \n",
       "\n",
       "     export-administration-act-south-africa_y  \n",
       "0                                         1.0  \n",
       "1                                         0.0  \n",
       "2                                         0.0  \n",
       "3                                         1.0  \n",
       "4                                         1.0  \n",
       "..                                        ...  \n",
       "430                                       1.0  \n",
       "431                                       1.0  \n",
       "432                                       1.0  \n",
       "433                                       1.0  \n",
       "434                                       0.0  \n",
       "\n",
       "[435 rows x 48 columns]"
      ]
     },
     "execution_count": 7,
     "metadata": {},
     "output_type": "execute_result"
    }
   ],
   "source": [
    "enc = OneHotEncoder()\n",
    "X = enc.fit_transform(X).toarray()\n",
    "X = pd.DataFrame(X, columns=enc.get_feature_names_out())\n",
    "X"
   ]
  },
  {
   "cell_type": "code",
   "execution_count": 8,
   "id": "3adc471f",
   "metadata": {},
   "outputs": [
    {
     "data": {
      "text/plain": [
       "0      republican\n",
       "1      republican\n",
       "2        democrat\n",
       "3        democrat\n",
       "4        democrat\n",
       "          ...    \n",
       "430    republican\n",
       "431      democrat\n",
       "432    republican\n",
       "433    republican\n",
       "434    republican\n",
       "Name: Class, Length: 435, dtype: object"
      ]
     },
     "execution_count": 8,
     "metadata": {},
     "output_type": "execute_result"
    }
   ],
   "source": [
    "Y"
   ]
  },
  {
   "cell_type": "markdown",
   "id": "4cbe750b",
   "metadata": {},
   "source": [
    "## Visualización de los datos"
   ]
  },
  {
   "cell_type": "markdown",
   "id": "6d9f25ae",
   "metadata": {},
   "source": [
    "A continuación se muestra la visualización de cada variable (en este caso de cada votación) agrupadas por la filiación política (demócratas o republicanos)."
   ]
  },
  {
   "cell_type": "code",
   "execution_count": 9,
   "id": "964ecb28",
   "metadata": {},
   "outputs": [
    {
     "data": {
      "text/plain": [
       "<AxesSubplot:xlabel='handicapped-infants', ylabel='count'>"
      ]
     },
     "execution_count": 9,
     "metadata": {},
     "output_type": "execute_result"
    },
    {
     "data": {
      "image/png": "[encoded data removed]",
      "text/plain": [
       "<Figure size 432x288 with 1 Axes>"
      ]
     },
     "metadata": {
      "needs_background": "light"
     },
     "output_type": "display_data"
    }
   ],
   "source": [
    "sns.countplot(x=\"handicapped-infants\", hue=\"Class\", data=data)"
   ]
  },
  {
   "cell_type": "code",
   "execution_count": 10,
   "id": "03d32af8",
   "metadata": {},
   "outputs": [
    {
     "data": {
      "text/plain": [
       "<AxesSubplot:xlabel='water-project-cost-sharing', ylabel='count'>"
      ]
     },
     "execution_count": 10,
     "metadata": {},
     "output_type": "execute_result"
    },
    {
     "data": {
      "image/png": "[encoded data removed]",
      "text/plain": [
       "<Figure size 432x288 with 1 Axes>"
      ]
     },
     "metadata": {
      "needs_background": "light"
     },
     "output_type": "display_data"
    }
   ],
   "source": [
    "sns.countplot(x=\"water-project-cost-sharing\", hue=\"Class\", data=data)"
   ]
  },
  {
   "cell_type": "code",
   "execution_count": 11,
   "id": "a9db6217",
   "metadata": {},
   "outputs": [
    {
     "data": {
      "text/plain": [
       "<AxesSubplot:xlabel='adoption-of-the-budget-resolution', ylabel='count'>"
      ]
     },
     "execution_count": 11,
     "metadata": {},
     "output_type": "execute_result"
    },
    {
     "data": {
      "image/png": "[encoded data removed]",
      "text/plain": [
       "<Figure size 432x288 with 1 Axes>"
      ]
     },
     "metadata": {
      "needs_background": "light"
     },
     "output_type": "display_data"
    }
   ],
   "source": [
    "sns.countplot(x=\"adoption-of-the-budget-resolution\", hue=\"Class\", data=data)"
   ]
  },
  {
   "cell_type": "code",
   "execution_count": 12,
   "id": "1be0860e",
   "metadata": {},
   "outputs": [
    {
     "data": {
      "text/plain": [
       "<AxesSubplot:xlabel='physician-fee-freeze', ylabel='count'>"
      ]
     },
     "execution_count": 12,
     "metadata": {},
     "output_type": "execute_result"
    },
    {
     "data": {
      "image/png": "[encoded data removed]",
      "text/plain": [
       "<Figure size 432x288 with 1 Axes>"
      ]
     },
     "metadata": {
      "needs_background": "light"
     },
     "output_type": "display_data"
    }
   ],
   "source": [
    "sns.countplot(x=\"physician-fee-freeze\", hue=\"Class\", data=data)"
   ]
  },
  {
   "cell_type": "code",
   "execution_count": 13,
   "id": "a3fe2455",
   "metadata": {},
   "outputs": [
    {
     "data": {
      "text/plain": [
       "<AxesSubplot:xlabel='el-salvador-aid', ylabel='count'>"
      ]
     },
     "execution_count": 13,
     "metadata": {},
     "output_type": "execute_result"
    },
    {
     "data": {
      "image/png": "[encoded data removed]",
      "text/plain": [
       "<Figure size 432x288 with 1 Axes>"
      ]
     },
     "metadata": {
      "needs_background": "light"
     },
     "output_type": "display_data"
    }
   ],
   "source": [
    "sns.countplot(x=\"el-salvador-aid\", hue=\"Class\", data=data)"
   ]
  },
  {
   "cell_type": "code",
   "execution_count": 14,
   "id": "29733610",
   "metadata": {},
   "outputs": [
    {
     "data": {
      "text/plain": [
       "<AxesSubplot:xlabel='religious-groups-in-schools', ylabel='count'>"
      ]
     },
     "execution_count": 14,
     "metadata": {},
     "output_type": "execute_result"
    },
    {
     "data": {
      "image/png": "[encoded data removed]",
      "text/plain": [
       "<Figure size 432x288 with 1 Axes>"
      ]
     },
     "metadata": {
      "needs_background": "light"
     },
     "output_type": "display_data"
    }
   ],
   "source": [
    "sns.countplot(x=\"religious-groups-in-schools\", hue=\"Class\", data=data)"
   ]
  },
  {
   "cell_type": "code",
   "execution_count": 15,
   "id": "5cd41dfa",
   "metadata": {},
   "outputs": [
    {
     "data": {
      "text/plain": [
       "<AxesSubplot:xlabel='anti-satellite-test-ban', ylabel='count'>"
      ]
     },
     "execution_count": 15,
     "metadata": {},
     "output_type": "execute_result"
    },
    {
     "data": {
      "image/png": "[encoded data removed]",
      "text/plain": [
       "<Figure size 432x288 with 1 Axes>"
      ]
     },
     "metadata": {
      "needs_background": "light"
     },
     "output_type": "display_data"
    }
   ],
   "source": [
    "sns.countplot(x=\"anti-satellite-test-ban\", hue=\"Class\", data=data)"
   ]
  },
  {
   "cell_type": "code",
   "execution_count": 16,
   "id": "2b5b5dd9",
   "metadata": {},
   "outputs": [
    {
     "data": {
      "text/plain": [
       "<AxesSubplot:xlabel='aid-to-nicaraguan-contras', ylabel='count'>"
      ]
     },
     "execution_count": 16,
     "metadata": {},
     "output_type": "execute_result"
    },
    {
     "data": {
      "image/png": "[encoded data removed]",
      "text/plain": [
       "<Figure size 432x288 with 1 Axes>"
      ]
     },
     "metadata": {
      "needs_background": "light"
     },
     "output_type": "display_data"
    }
   ],
   "source": [
    "sns.countplot(x=\"aid-to-nicaraguan-contras\", hue=\"Class\", data=data)"
   ]
  },
  {
   "cell_type": "code",
   "execution_count": 17,
   "id": "3246c606",
   "metadata": {},
   "outputs": [
    {
     "data": {
      "text/plain": [
       "<AxesSubplot:xlabel='mx-missile', ylabel='count'>"
      ]
     },
     "execution_count": 17,
     "metadata": {},
     "output_type": "execute_result"
    },
    {
     "data": {
      "image/png": "[encoded data removed]",
      "text/plain": [
       "<Figure size 432x288 with 1 Axes>"
      ]
     },
     "metadata": {
      "needs_background": "light"
     },
     "output_type": "display_data"
    }
   ],
   "source": [
    "sns.countplot(x=\"mx-missile\", hue=\"Class\", data=data)"
   ]
  },
  {
   "cell_type": "code",
   "execution_count": 18,
   "id": "33f88830",
   "metadata": {},
   "outputs": [
    {
     "data": {
      "text/plain": [
       "<AxesSubplot:xlabel='immigration', ylabel='count'>"
      ]
     },
     "execution_count": 18,
     "metadata": {},
     "output_type": "execute_result"
    },
    {
     "data": {
      "image/png": "[encoded data removed]",
      "text/plain": [
       "<Figure size 432x288 with 1 Axes>"
      ]
     },
     "metadata": {
      "needs_background": "light"
     },
     "output_type": "display_data"
    }
   ],
   "source": [
    "sns.countplot(x=\"immigration\", hue=\"Class\", data=data)"
   ]
  },
  {
   "cell_type": "code",
   "execution_count": 19,
   "id": "2b247ed5",
   "metadata": {},
   "outputs": [
    {
     "data": {
      "text/plain": [
       "<AxesSubplot:xlabel='synfuels-corporation-cutback', ylabel='count'>"
      ]
     },
     "execution_count": 19,
     "metadata": {},
     "output_type": "execute_result"
    },
    {
     "data": {
      "image/png": "[encoded data removed]",
      "text/plain": [
       "<Figure size 432x288 with 1 Axes>"
      ]
     },
     "metadata": {
      "needs_background": "light"
     },
     "output_type": "display_data"
    }
   ],
   "source": [
    "sns.countplot(x=\"synfuels-corporation-cutback\", hue=\"Class\", data=data)"
   ]
  },
  {
   "cell_type": "code",
   "execution_count": 20,
   "id": "e8608a27",
   "metadata": {},
   "outputs": [
    {
     "data": {
      "text/plain": [
       "<AxesSubplot:xlabel='education-spending', ylabel='count'>"
      ]
     },
     "execution_count": 20,
     "metadata": {},
     "output_type": "execute_result"
    },
    {
     "data": {
      "image/png": "[encoded data removed]",
      "text/plain": [
       "<Figure size 432x288 with 1 Axes>"
      ]
     },
     "metadata": {
      "needs_background": "light"
     },
     "output_type": "display_data"
    }
   ],
   "source": [
    "sns.countplot(x=\"education-spending\", hue=\"Class\", data=data)"
   ]
  },
  {
   "cell_type": "code",
   "execution_count": 21,
   "id": "9fff6ed5",
   "metadata": {},
   "outputs": [
    {
     "data": {
      "text/plain": [
       "<AxesSubplot:xlabel='superfund-right-to-sue', ylabel='count'>"
      ]
     },
     "execution_count": 21,
     "metadata": {},
     "output_type": "execute_result"
    },
    {
     "data": {
      "image/png": "[encoded data removed]",
      "text/plain": [
       "<Figure size 432x288 with 1 Axes>"
      ]
     },
     "metadata": {
      "needs_background": "light"
     },
     "output_type": "display_data"
    }
   ],
   "source": [
    "sns.countplot(x=\"superfund-right-to-sue\", hue=\"Class\", data=data)"
   ]
  },
  {
   "cell_type": "code",
   "execution_count": 22,
   "id": "b79fac36",
   "metadata": {},
   "outputs": [
    {
     "data": {
      "text/plain": [
       "<AxesSubplot:xlabel='crime', ylabel='count'>"
      ]
     },
     "execution_count": 22,
     "metadata": {},
     "output_type": "execute_result"
    },
    {
     "data": {
      "image/png": "[encoded data removed]",
      "text/plain": [
       "<Figure size 432x288 with 1 Axes>"
      ]
     },
     "metadata": {
      "needs_background": "light"
     },
     "output_type": "display_data"
    }
   ],
   "source": [
    "sns.countplot(x=\"crime\", hue=\"Class\", data=data)"
   ]
  },
  {
   "cell_type": "code",
   "execution_count": 23,
   "id": "21299147",
   "metadata": {},
   "outputs": [
    {
     "data": {
      "text/plain": [
       "<AxesSubplot:xlabel='duty-free-exports', ylabel='count'>"
      ]
     },
     "execution_count": 23,
     "metadata": {},
     "output_type": "execute_result"
    },
    {
     "data": {
      "image/png": "[encoded data removed]",
      "text/plain": [
       "<Figure size 432x288 with 1 Axes>"
      ]
     },
     "metadata": {
      "needs_background": "light"
     },
     "output_type": "display_data"
    }
   ],
   "source": [
    "sns.countplot(x=\"duty-free-exports\", hue=\"Class\", data=data)"
   ]
  },
  {
   "cell_type": "code",
   "execution_count": 24,
   "id": "1992504c",
   "metadata": {},
   "outputs": [
    {
     "data": {
      "text/plain": [
       "<AxesSubplot:xlabel='export-administration-act-south-africa', ylabel='count'>"
      ]
     },
     "execution_count": 24,
     "metadata": {},
     "output_type": "execute_result"
    },
    {
     "data": {
      "image/png": "[encoded data removed]",
      "text/plain": [
       "<Figure size 432x288 with 1 Axes>"
      ]
     },
     "metadata": {
      "needs_background": "light"
     },
     "output_type": "display_data"
    }
   ],
   "source": [
    "sns.countplot(x=\"export-administration-act-south-africa\", hue=\"Class\", data=data)"
   ]
  },
  {
   "cell_type": "markdown",
   "id": "bbb6a66d",
   "metadata": {},
   "source": [
    "## Reducción de la dimensionalidad con PCA"
   ]
  },
  {
   "cell_type": "markdown",
   "id": "217f8156",
   "metadata": {},
   "source": [
    "A continuación se aplica una reducción de dimensionalidad utilizando **PCA**. Se va a probar a reducir a 2 y 3 dimensiones. Cada ejecución ira acompañado de un scatter plot."
   ]
  },
  {
   "cell_type": "code",
   "execution_count": 25,
   "id": "d97693ce",
   "metadata": {},
   "outputs": [
    {
     "data": {
      "image/png": "[encoded data removed]",
      "text/plain": [
       "<Figure size 432x288 with 1 Axes>"
      ]
     },
     "metadata": {
      "needs_background": "light"
     },
     "output_type": "display_data"
    }
   ],
   "source": [
    "pca = PCA(n_components=2)\n",
    "pca_x = pd.DataFrame(pca.fit_transform(X), columns=[\"PCA1\", \"PCA2\"])\n",
    "variance_ratio = pca.explained_variance_ratio_\n",
    "\n",
    "ax = sns.scatterplot(\n",
    "    data=pca_x,\n",
    "    x=\"PCA1\",\n",
    "    y=\"PCA2\",\n",
    "    hue=Y,\n",
    "    palette={\n",
    "        'republican': 'red',\n",
    "        'democrat': 'blue'\n",
    "    }\n",
    ")\n",
    "ax.set(\n",
    "    xlabel=f'PCA 1 ({round(variance_ratio[0]*100, 2)}%)',\n",
    "    ylabel=f'PCA 2 ({round(variance_ratio[1]*100, 2)}%)'\n",
    ")\n",
    "plt.show()"
   ]
  },
  {
   "cell_type": "code",
   "execution_count": 26,
   "id": "391057bc",
   "metadata": {},
   "outputs": [
    {
     "data": {
      "application/javascript": [
       "/* Put everything inside the global mpl namespace */\n",
       "/* global mpl */\n",
       "window.mpl = {};\n",
       "\n",
       "mpl.get_websocket_type = function () {\n",
       "    if (typeof WebSocket !== 'undefined') {\n",
       "        return WebSocket;\n",
       "    } else if (typeof MozWebSocket !== 'undefined') {\n",
       "        return MozWebSocket;\n",
       "    } else {\n",
       "        alert(\n",
       "            'Your browser does not have WebSocket support. ' +\n",
       "                'Please try Chrome, Safari or Firefox ≥ 6. ' +\n",
       "                'Firefox 4 and 5 are also supported but you ' +\n",
       "                'have to enable WebSockets in about:config.'\n",
       "        );\n",
       "    }\n",
       "};\n",
       "\n",
       "mpl.figure = function (figure_id, websocket, ondownload, parent_element) {\n",
       "    this.id = figure_id;\n",
       "\n",
       "    this.ws = websocket;\n",
       "\n",
       "    this.supports_binary = this.ws.binaryType !== undefined;\n",
       "\n",
       "    if (!this.supports_binary) {\n",
       "        var warnings = document.getElementById('mpl-warnings');\n",
       "        if (warnings) {\n",
       "            warnings.style.display = 'block';\n",
       "            warnings.textContent =\n",
       "                'This browser does not support binary websocket messages. ' +\n",
       "                'Performance may be slow.';\n",
       "        }\n",
       "    }\n",
       "\n",
       "    this.imageObj = new Image();\n",
       "\n",
       "    this.context = undefined;\n",
       "    this.message = undefined;\n",
       "    this.canvas = undefined;\n",
       "    this.rubberband_canvas = undefined;\n",
       "    this.rubberband_context = undefined;\n",
       "    this.format_dropdown = undefined;\n",
       "\n",
       "    this.image_mode = 'full';\n",
       "\n",
       "    this.root = document.createElement('div');\n",
       "    this.root.setAttribute('style', 'display: inline-block');\n",
       "    this._root_extra_style(this.root);\n",
       "\n",
       "    parent_element.appendChild(this.root);\n",
       "\n",
       "    this._init_header(this);\n",
       "    this._init_canvas(this);\n",
       "    this._init_toolbar(this);\n",
       "\n",
       "    var fig = this;\n",
       "\n",
       "    this.waiting = false;\n",
       "\n",
       "    this.ws.onopen = function () {\n",
       "        fig.send_message('supports_binary', { value: fig.supports_binary });\n",
       "        fig.send_message('send_image_mode', {});\n",
       "        if (fig.ratio !== 1) {\n",
       "            fig.send_message('set_device_pixel_ratio', {\n",
       "                device_pixel_ratio: fig.ratio,\n",
       "            });\n",
       "        }\n",
       "        fig.send_message('refresh', {});\n",
       "    };\n",
       "\n",
       "    this.imageObj.onload = function () {\n",
       "        if (fig.image_mode === 'full') {\n",
       "            // Full images could contain transparency (where diff images\n",
       "            // almost always do), so we need to clear the canvas so that\n",
       "            // there is no ghosting.\n",
       "            fig.context.clearRect(0, 0, fig.canvas.width, fig.canvas.height);\n",
       "        }\n",
       "        fig.context.drawImage(fig.imageObj, 0, 0);\n",
       "    };\n",
       "\n",
       "    this.imageObj.onunload = function () {\n",
       "        fig.ws.close();\n",
       "    };\n",
       "\n",
       "    this.ws.onmessage = this._make_on_message_function(this);\n",
       "\n",
       "    this.ondownload = ondownload;\n",
       "};\n",
       "\n",
       "mpl.figure.prototype._init_header = function () {\n",
       "    var titlebar = document.createElement('div');\n",
       "    titlebar.classList =\n",
       "        'ui-dialog-titlebar ui-widget-header ui-corner-all ui-helper-clearfix';\n",
       "    var titletext = document.createElement('div');\n",
       "    titletext.classList = 'ui-dialog-title';\n",
       "    titletext.setAttribute(\n",
       "        'style',\n",
       "        'width: 100%; text-align: center; padding: 3px;'\n",
       "    );\n",
       "    titlebar.appendChild(titletext);\n",
       "    this.root.appendChild(titlebar);\n",
       "    this.header = titletext;\n",
       "};\n",
       "\n",
       "mpl.figure.prototype._canvas_extra_style = function (_canvas_div) {};\n",
       "\n",
       "mpl.figure.prototype._root_extra_style = function (_canvas_div) {};\n",
       "\n",
       "mpl.figure.prototype._init_canvas = function () {\n",
       "    var fig = this;\n",
       "\n",
       "    var canvas_div = (this.canvas_div = document.createElement('div'));\n",
       "    canvas_div.setAttribute(\n",
       "        'style',\n",
       "        'border: 1px solid #ddd;' +\n",
       "            'box-sizing: content-box;' +\n",
       "            'clear: both;' +\n",
       "            'min-height: 1px;' +\n",
       "            'min-width: 1px;' +\n",
       "            'outline: 0;' +\n",
       "            'overflow: hidden;' +\n",
       "            'position: relative;' +\n",
       "            'resize: both;'\n",
       "    );\n",
       "\n",
       "    function on_keyboard_event_closure(name) {\n",
       "        return function (event) {\n",
       "            return fig.key_event(event, name);\n",
       "        };\n",
       "    }\n",
       "\n",
       "    canvas_div.addEventListener(\n",
       "        'keydown',\n",
       "        on_keyboard_event_closure('key_press')\n",
       "    );\n",
       "    canvas_div.addEventListener(\n",
       "        'keyup',\n",
       "        on_keyboard_event_closure('key_release')\n",
       "    );\n",
       "\n",
       "    this._canvas_extra_style(canvas_div);\n",
       "    this.root.appendChild(canvas_div);\n",
       "\n",
       "    var canvas = (this.canvas = document.createElement('canvas'));\n",
       "    canvas.classList.add('mpl-canvas');\n",
       "    canvas.setAttribute('style', 'box-sizing: content-box;');\n",
       "\n",
       "    this.context = canvas.getContext('2d');\n",
       "\n",
       "    var backingStore =\n",
       "        this.context.backingStorePixelRatio ||\n",
       "        this.context.webkitBackingStorePixelRatio ||\n",
       "        this.context.mozBackingStorePixelRatio ||\n",
       "        this.context.msBackingStorePixelRatio ||\n",
       "        this.context.oBackingStorePixelRatio ||\n",
       "        this.context.backingStorePixelRatio ||\n",
       "        1;\n",
       "\n",
       "    this.ratio = (window.devicePixelRatio || 1) / backingStore;\n",
       "\n",
       "    var rubberband_canvas = (this.rubberband_canvas = document.createElement(\n",
       "        'canvas'\n",
       "    ));\n",
       "    rubberband_canvas.setAttribute(\n",
       "        'style',\n",
       "        'box-sizing: content-box; position: absolute; left: 0; top: 0; z-index: 1;'\n",
       "    );\n",
       "\n",
       "    // Apply a ponyfill if ResizeObserver is not implemented by browser.\n",
       "    if (this.ResizeObserver === undefined) {\n",
       "        if (window.ResizeObserver !== undefined) {\n",
       "            this.ResizeObserver = window.ResizeObserver;\n",
       "        } else {\n",
       "            var obs = _JSXTOOLS_RESIZE_OBSERVER({});\n",
       "            this.ResizeObserver = obs.ResizeObserver;\n",
       "        }\n",
       "    }\n",
       "\n",
       "    this.resizeObserverInstance = new this.ResizeObserver(function (entries) {\n",
       "        var nentries = entries.length;\n",
       "        for (var i = 0; i < nentries; i++) {\n",
       "            var entry = entries[i];\n",
       "            var width, height;\n",
       "            if (entry.contentBoxSize) {\n",
       "                if (entry.contentBoxSize instanceof Array) {\n",
       "                    // Chrome 84 implements new version of spec.\n",
       "                    width = entry.contentBoxSize[0].inlineSize;\n",
       "                    height = entry.contentBoxSize[0].blockSize;\n",
       "                } else {\n",
       "                    // Firefox implements old version of spec.\n",
       "                    width = entry.contentBoxSize.inlineSize;\n",
       "                    height = entry.contentBoxSize.blockSize;\n",
       "                }\n",
       "            } else {\n",
       "                // Chrome <84 implements even older version of spec.\n",
       "                width = entry.contentRect.width;\n",
       "                height = entry.contentRect.height;\n",
       "            }\n",
       "\n",
       "            // Keep the size of the canvas and rubber band canvas in sync with\n",
       "            // the canvas container.\n",
       "            if (entry.devicePixelContentBoxSize) {\n",
       "                // Chrome 84 implements new version of spec.\n",
       "                canvas.setAttribute(\n",
       "                    'width',\n",
       "                    entry.devicePixelContentBoxSize[0].inlineSize\n",
       "                );\n",
       "                canvas.setAttribute(\n",
       "                    'height',\n",
       "                    entry.devicePixelContentBoxSize[0].blockSize\n",
       "                );\n",
       "            } else {\n",
       "                canvas.setAttribute('width', width * fig.ratio);\n",
       "                canvas.setAttribute('height', height * fig.ratio);\n",
       "            }\n",
       "            canvas.setAttribute(\n",
       "                'style',\n",
       "                'width: ' + width + 'px; height: ' + height + 'px;'\n",
       "            );\n",
       "\n",
       "            rubberband_canvas.setAttribute('width', width);\n",
       "            rubberband_canvas.setAttribute('height', height);\n",
       "\n",
       "            // And update the size in Python. We ignore the initial 0/0 size\n",
       "            // that occurs as the element is placed into the DOM, which should\n",
       "            // otherwise not happen due to the minimum size styling.\n",
       "            if (fig.ws.readyState == 1 && width != 0 && height != 0) {\n",
       "                fig.request_resize(width, height);\n",
       "            }\n",
       "        }\n",
       "    });\n",
       "    this.resizeObserverInstance.observe(canvas_div);\n",
       "\n",
       "    function on_mouse_event_closure(name) {\n",
       "        return function (event) {\n",
       "            return fig.mouse_event(event, name);\n",
       "        };\n",
       "    }\n",
       "\n",
       "    rubberband_canvas.addEventListener(\n",
       "        'mousedown',\n",
       "        on_mouse_event_closure('button_press')\n",
       "    );\n",
       "    rubberband_canvas.addEventListener(\n",
       "        'mouseup',\n",
       "        on_mouse_event_closure('button_release')\n",
       "    );\n",
       "    rubberband_canvas.addEventListener(\n",
       "        'dblclick',\n",
       "        on_mouse_event_closure('dblclick')\n",
       "    );\n",
       "    // Throttle sequential mouse events to 1 every 20ms.\n",
       "    rubberband_canvas.addEventListener(\n",
       "        'mousemove',\n",
       "        on_mouse_event_closure('motion_notify')\n",
       "    );\n",
       "\n",
       "    rubberband_canvas.addEventListener(\n",
       "        'mouseenter',\n",
       "        on_mouse_event_closure('figure_enter')\n",
       "    );\n",
       "    rubberband_canvas.addEventListener(\n",
       "        'mouseleave',\n",
       "        on_mouse_event_closure('figure_leave')\n",
       "    );\n",
       "\n",
       "    canvas_div.addEventListener('wheel', function (event) {\n",
       "        if (event.deltaY < 0) {\n",
       "            event.step = 1;\n",
       "        } else {\n",
       "            event.step = -1;\n",
       "        }\n",
       "        on_mouse_event_closure('scroll')(event);\n",
       "    });\n",
       "\n",
       "    canvas_div.appendChild(canvas);\n",
       "    canvas_div.appendChild(rubberband_canvas);\n",
       "\n",
       "    this.rubberband_context = rubberband_canvas.getContext('2d');\n",
       "    this.rubberband_context.strokeStyle = '#000000';\n",
       "\n",
       "    this._resize_canvas = function (width, height, forward) {\n",
       "        if (forward) {\n",
       "            canvas_div.style.width = width + 'px';\n",
       "            canvas_div.style.height = height + 'px';\n",
       "        }\n",
       "    };\n",
       "\n",
       "    // Disable right mouse context menu.\n",
       "    this.rubberband_canvas.addEventListener('contextmenu', function (_e) {\n",
       "        event.preventDefault();\n",
       "        return false;\n",
       "    });\n",
       "\n",
       "    function set_focus() {\n",
       "        canvas.focus();\n",
       "        canvas_div.focus();\n",
       "    }\n",
       "\n",
       "    window.setTimeout(set_focus, 100);\n",
       "};\n",
       "\n",
       "mpl.figure.prototype._init_toolbar = function () {\n",
       "    var fig = this;\n",
       "\n",
       "    var toolbar = document.createElement('div');\n",
       "    toolbar.classList = 'mpl-toolbar';\n",
       "    this.root.appendChild(toolbar);\n",
       "\n",
       "    function on_click_closure(name) {\n",
       "        return function (_event) {\n",
       "            return fig.toolbar_button_onclick(name);\n",
       "        };\n",
       "    }\n",
       "\n",
       "    function on_mouseover_closure(tooltip) {\n",
       "        return function (event) {\n",
       "            if (!event.currentTarget.disabled) {\n",
       "                return fig.toolbar_button_onmouseover(tooltip);\n",
       "            }\n",
       "        };\n",
       "    }\n",
       "\n",
       "    fig.buttons = {};\n",
       "    var buttonGroup = document.createElement('div');\n",
       "    buttonGroup.classList = 'mpl-button-group';\n",
       "    for (var toolbar_ind in mpl.toolbar_items) {\n",
       "        var name = mpl.toolbar_items[toolbar_ind][0];\n",
       "        var tooltip = mpl.toolbar_items[toolbar_ind][1];\n",
       "        var image = mpl.toolbar_items[toolbar_ind][2];\n",
       "        var method_name = mpl.toolbar_items[toolbar_ind][3];\n",
       "\n",
       "        if (!name) {\n",
       "            /* Instead of a spacer, we start a new button group. */\n",
       "            if (buttonGroup.hasChildNodes()) {\n",
       "                toolbar.appendChild(buttonGroup);\n",
       "            }\n",
       "            buttonGroup = document.createElement('div');\n",
       "            buttonGroup.classList = 'mpl-button-group';\n",
       "            continue;\n",
       "        }\n",
       "\n",
       "        var button = (fig.buttons[name] = document.createElement('button'));\n",
       "        button.classList = 'mpl-widget';\n",
       "        button.setAttribute('role', 'button');\n",
       "        button.setAttribute('aria-disabled', 'false');\n",
       "        button.addEventListener('click', on_click_closure(method_name));\n",
       "        button.addEventListener('mouseover', on_mouseover_closure(tooltip));\n",
       "\n",
       "        var icon_img = document.createElement('img');\n",
       "        icon_img.src = '_images/' + image + '.png';\n",
       "        icon_img.srcset = '_images/' + image + '_large.png 2x';\n",
       "        icon_img.alt = tooltip;\n",
       "        button.appendChild(icon_img);\n",
       "\n",
       "        buttonGroup.appendChild(button);\n",
       "    }\n",
       "\n",
       "    if (buttonGroup.hasChildNodes()) {\n",
       "        toolbar.appendChild(buttonGroup);\n",
       "    }\n",
       "\n",
       "    var fmt_picker = document.createElement('select');\n",
       "    fmt_picker.classList = 'mpl-widget';\n",
       "    toolbar.appendChild(fmt_picker);\n",
       "    this.format_dropdown = fmt_picker;\n",
       "\n",
       "    for (var ind in mpl.extensions) {\n",
       "        var fmt = mpl.extensions[ind];\n",
       "        var option = document.createElement('option');\n",
       "        option.selected = fmt === mpl.default_extension;\n",
       "        option.innerHTML = fmt;\n",
       "        fmt_picker.appendChild(option);\n",
       "    }\n",
       "\n",
       "    var status_bar = document.createElement('span');\n",
       "    status_bar.classList = 'mpl-message';\n",
       "    toolbar.appendChild(status_bar);\n",
       "    this.message = status_bar;\n",
       "};\n",
       "\n",
       "mpl.figure.prototype.request_resize = function (x_pixels, y_pixels) {\n",
       "    // Request matplotlib to resize the figure. Matplotlib will then trigger a resize in the client,\n",
       "    // which will in turn request a refresh of the image.\n",
       "    this.send_message('resize', { width: x_pixels, height: y_pixels });\n",
       "};\n",
       "\n",
       "mpl.figure.prototype.send_message = function (type, properties) {\n",
       "    properties['type'] = type;\n",
       "    properties['figure_id'] = this.id;\n",
       "    this.ws.send(JSON.stringify(properties));\n",
       "};\n",
       "\n",
       "mpl.figure.prototype.send_draw_message = function () {\n",
       "    if (!this.waiting) {\n",
       "        this.waiting = true;\n",
       "        this.ws.send(JSON.stringify({ type: 'draw', figure_id: this.id }));\n",
       "    }\n",
       "};\n",
       "\n",
       "mpl.figure.prototype.handle_save = function (fig, _msg) {\n",
       "    var format_dropdown = fig.format_dropdown;\n",
       "    var format = format_dropdown.options[format_dropdown.selectedIndex].value;\n",
       "    fig.ondownload(fig, format);\n",
       "};\n",
       "\n",
       "mpl.figure.prototype.handle_resize = function (fig, msg) {\n",
       "    var size = msg['size'];\n",
       "    if (size[0] !== fig.canvas.width || size[1] !== fig.canvas.height) {\n",
       "        fig._resize_canvas(size[0], size[1], msg['forward']);\n",
       "        fig.send_message('refresh', {});\n",
       "    }\n",
       "};\n",
       "\n",
       "mpl.figure.prototype.handle_rubberband = function (fig, msg) {\n",
       "    var x0 = msg['x0'] / fig.ratio;\n",
       "    var y0 = (fig.canvas.height - msg['y0']) / fig.ratio;\n",
       "    var x1 = msg['x1'] / fig.ratio;\n",
       "    var y1 = (fig.canvas.height - msg['y1']) / fig.ratio;\n",
       "    x0 = Math.floor(x0) + 0.5;\n",
       "    y0 = Math.floor(y0) + 0.5;\n",
       "    x1 = Math.floor(x1) + 0.5;\n",
       "    y1 = Math.floor(y1) + 0.5;\n",
       "    var min_x = Math.min(x0, x1);\n",
       "    var min_y = Math.min(y0, y1);\n",
       "    var width = Math.abs(x1 - x0);\n",
       "    var height = Math.abs(y1 - y0);\n",
       "\n",
       "    fig.rubberband_context.clearRect(\n",
       "        0,\n",
       "        0,\n",
       "        fig.canvas.width / fig.ratio,\n",
       "        fig.canvas.height / fig.ratio\n",
       "    );\n",
       "\n",
       "    fig.rubberband_context.strokeRect(min_x, min_y, width, height);\n",
       "};\n",
       "\n",
       "mpl.figure.prototype.handle_figure_label = function (fig, msg) {\n",
       "    // Updates the figure title.\n",
       "    fig.header.textContent = msg['label'];\n",
       "};\n",
       "\n",
       "mpl.figure.prototype.handle_cursor = function (fig, msg) {\n",
       "    fig.rubberband_canvas.style.cursor = msg['cursor'];\n",
       "};\n",
       "\n",
       "mpl.figure.prototype.handle_message = function (fig, msg) {\n",
       "    fig.message.textContent = msg['message'];\n",
       "};\n",
       "\n",
       "mpl.figure.prototype.handle_draw = function (fig, _msg) {\n",
       "    // Request the server to send over a new figure.\n",
       "    fig.send_draw_message();\n",
       "};\n",
       "\n",
       "mpl.figure.prototype.handle_image_mode = function (fig, msg) {\n",
       "    fig.image_mode = msg['mode'];\n",
       "};\n",
       "\n",
       "mpl.figure.prototype.handle_history_buttons = function (fig, msg) {\n",
       "    for (var key in msg) {\n",
       "        if (!(key in fig.buttons)) {\n",
       "            continue;\n",
       "        }\n",
       "        fig.buttons[key].disabled = !msg[key];\n",
       "        fig.buttons[key].setAttribute('aria-disabled', !msg[key]);\n",
       "    }\n",
       "};\n",
       "\n",
       "mpl.figure.prototype.handle_navigate_mode = function (fig, msg) {\n",
       "    if (msg['mode'] === 'PAN') {\n",
       "        fig.buttons['Pan'].classList.add('active');\n",
       "        fig.buttons['Zoom'].classList.remove('active');\n",
       "    } else if (msg['mode'] === 'ZOOM') {\n",
       "        fig.buttons['Pan'].classList.remove('active');\n",
       "        fig.buttons['Zoom'].classList.add('active');\n",
       "    } else {\n",
       "        fig.buttons['Pan'].classList.remove('active');\n",
       "        fig.buttons['Zoom'].classList.remove('active');\n",
       "    }\n",
       "};\n",
       "\n",
       "mpl.figure.prototype.updated_canvas_event = function () {\n",
       "    // Called whenever the canvas gets updated.\n",
       "    this.send_message('ack', {});\n",
       "};\n",
       "\n",
       "// A function to construct a web socket function for onmessage handling.\n",
       "// Called in the figure constructor.\n",
       "mpl.figure.prototype._make_on_message_function = function (fig) {\n",
       "    return function socket_on_message(evt) {\n",
       "        if (evt.data instanceof Blob) {\n",
       "            var img = evt.data;\n",
       "            if (img.type !== 'image/png') {\n",
       "                /* FIXME: We get \"Resource interpreted as Image but\n",
       "                 * transferred with MIME type text/plain:\" errors on\n",
       "                 * Chrome.  But how to set the MIME type?  It doesn't seem\n",
       "                 * to be part of the websocket stream */\n",
       "                img.type = 'image/png';\n",
       "            }\n",
       "\n",
       "            /* Free the memory for the previous frames */\n",
       "            if (fig.imageObj.src) {\n",
       "                (window.URL || window.webkitURL).revokeObjectURL(\n",
       "                    fig.imageObj.src\n",
       "                );\n",
       "            }\n",
       "\n",
       "            fig.imageObj.src = (window.URL || window.webkitURL).createObjectURL(\n",
       "                img\n",
       "            );\n",
       "            fig.updated_canvas_event();\n",
       "            fig.waiting = false;\n",
       "            return;\n",
       "        } else if (\n",
       "            typeof evt.data === 'string' &&\n",
       "            evt.data.slice(0, 21) === 'data:image/png;base64'\n",
       "        ) {\n",
       "            fig.imageObj.src = evt.data;\n",
       "            fig.updated_canvas_event();\n",
       "            fig.waiting = false;\n",
       "            return;\n",
       "        }\n",
       "\n",
       "        var msg = JSON.parse(evt.data);\n",
       "        var msg_type = msg['type'];\n",
       "\n",
       "        // Call the  \"handle_{type}\" callback, which takes\n",
       "        // the figure and JSON message as its only arguments.\n",
       "        try {\n",
       "            var callback = fig['handle_' + msg_type];\n",
       "        } catch (e) {\n",
       "            console.log(\n",
       "                \"No handler for the '\" + msg_type + \"' message type: \",\n",
       "                msg\n",
       "            );\n",
       "            return;\n",
       "        }\n",
       "\n",
       "        if (callback) {\n",
       "            try {\n",
       "                // console.log(\"Handling '\" + msg_type + \"' message: \", msg);\n",
       "                callback(fig, msg);\n",
       "            } catch (e) {\n",
       "                console.log(\n",
       "                    \"Exception inside the 'handler_\" + msg_type + \"' callback:\",\n",
       "                    e,\n",
       "                    e.stack,\n",
       "                    msg\n",
       "                );\n",
       "            }\n",
       "        }\n",
       "    };\n",
       "};\n",
       "\n",
       "// from https://stackoverflow.com/questions/1114465/getting-mouse-location-in-canvas\n",
       "mpl.findpos = function (e) {\n",
       "    //this section is from http://www.quirksmode.org/js/events_properties.html\n",
       "    var targ;\n",
       "    if (!e) {\n",
       "        e = window.event;\n",
       "    }\n",
       "    if (e.target) {\n",
       "        targ = e.target;\n",
       "    } else if (e.srcElement) {\n",
       "        targ = e.srcElement;\n",
       "    }\n",
       "    if (targ.nodeType === 3) {\n",
       "        // defeat Safari bug\n",
       "        targ = targ.parentNode;\n",
       "    }\n",
       "\n",
       "    // pageX,Y are the mouse positions relative to the document\n",
       "    var boundingRect = targ.getBoundingClientRect();\n",
       "    var x = e.pageX - (boundingRect.left + document.body.scrollLeft);\n",
       "    var y = e.pageY - (boundingRect.top + document.body.scrollTop);\n",
       "\n",
       "    return { x: x, y: y };\n",
       "};\n",
       "\n",
       "/*\n",
       " * return a copy of an object with only non-object keys\n",
       " * we need this to avoid circular references\n",
       " * https://stackoverflow.com/a/24161582/3208463\n",
       " */\n",
       "function simpleKeys(original) {\n",
       "    return Object.keys(original).reduce(function (obj, key) {\n",
       "        if (typeof original[key] !== 'object') {\n",
       "            obj[key] = original[key];\n",
       "        }\n",
       "        return obj;\n",
       "    }, {});\n",
       "}\n",
       "\n",
       "mpl.figure.prototype.mouse_event = function (event, name) {\n",
       "    var canvas_pos = mpl.findpos(event);\n",
       "\n",
       "    if (name === 'button_press') {\n",
       "        this.canvas.focus();\n",
       "        this.canvas_div.focus();\n",
       "    }\n",
       "\n",
       "    var x = canvas_pos.x * this.ratio;\n",
       "    var y = canvas_pos.y * this.ratio;\n",
       "\n",
       "    this.send_message(name, {\n",
       "        x: x,\n",
       "        y: y,\n",
       "        button: event.button,\n",
       "        step: event.step,\n",
       "        guiEvent: simpleKeys(event),\n",
       "    });\n",
       "\n",
       "    /* This prevents the web browser from automatically changing to\n",
       "     * the text insertion cursor when the button is pressed.  We want\n",
       "     * to control all of the cursor setting manually through the\n",
       "     * 'cursor' event from matplotlib */\n",
       "    event.preventDefault();\n",
       "    return false;\n",
       "};\n",
       "\n",
       "mpl.figure.prototype._key_event_extra = function (_event, _name) {\n",
       "    // Handle any extra behaviour associated with a key event\n",
       "};\n",
       "\n",
       "mpl.figure.prototype.key_event = function (event, name) {\n",
       "    // Prevent repeat events\n",
       "    if (name === 'key_press') {\n",
       "        if (event.key === this._key) {\n",
       "            return;\n",
       "        } else {\n",
       "            this._key = event.key;\n",
       "        }\n",
       "    }\n",
       "    if (name === 'key_release') {\n",
       "        this._key = null;\n",
       "    }\n",
       "\n",
       "    var value = '';\n",
       "    if (event.ctrlKey && event.key !== 'Control') {\n",
       "        value += 'ctrl+';\n",
       "    }\n",
       "    else if (event.altKey && event.key !== 'Alt') {\n",
       "        value += 'alt+';\n",
       "    }\n",
       "    else if (event.shiftKey && event.key !== 'Shift') {\n",
       "        value += 'shift+';\n",
       "    }\n",
       "\n",
       "    value += 'k' + event.key;\n",
       "\n",
       "    this._key_event_extra(event, name);\n",
       "\n",
       "    this.send_message(name, { key: value, guiEvent: simpleKeys(event) });\n",
       "    return false;\n",
       "};\n",
       "\n",
       "mpl.figure.prototype.toolbar_button_onclick = function (name) {\n",
       "    if (name === 'download') {\n",
       "        this.handle_save(this, null);\n",
       "    } else {\n",
       "        this.send_message('toolbar_button', { name: name });\n",
       "    }\n",
       "};\n",
       "\n",
       "mpl.figure.prototype.toolbar_button_onmouseover = function (tooltip) {\n",
       "    this.message.textContent = tooltip;\n",
       "};\n",
       "\n",
       "///////////////// REMAINING CONTENT GENERATED BY embed_js.py /////////////////\n",
       "// prettier-ignore\n",
       "var _JSXTOOLS_RESIZE_OBSERVER=function(A){var t,i=new WeakMap,n=new WeakMap,a=new WeakMap,r=new WeakMap,o=new Set;function s(e){if(!(this instanceof s))throw new TypeError(\"Constructor requires 'new' operator\");i.set(this,e)}function h(){throw new TypeError(\"Function is not a constructor\")}function c(e,t,i,n){e=0 in arguments?Number(arguments[0]):0,t=1 in arguments?Number(arguments[1]):0,i=2 in arguments?Number(arguments[2]):0,n=3 in arguments?Number(arguments[3]):0,this.right=(this.x=this.left=e)+(this.width=i),this.bottom=(this.y=this.top=t)+(this.height=n),Object.freeze(this)}function d(){t=requestAnimationFrame(d);var s=new WeakMap,p=new Set;o.forEach((function(t){r.get(t).forEach((function(i){var r=t instanceof window.SVGElement,o=a.get(t),d=r?0:parseFloat(o.paddingTop),f=r?0:parseFloat(o.paddingRight),l=r?0:parseFloat(o.paddingBottom),u=r?0:parseFloat(o.paddingLeft),g=r?0:parseFloat(o.borderTopWidth),m=r?0:parseFloat(o.borderRightWidth),w=r?0:parseFloat(o.borderBottomWidth),b=u+f,F=d+l,v=(r?0:parseFloat(o.borderLeftWidth))+m,W=g+w,y=r?0:t.offsetHeight-W-t.clientHeight,E=r?0:t.offsetWidth-v-t.clientWidth,R=b+v,z=F+W,M=r?t.width:parseFloat(o.width)-R-E,O=r?t.height:parseFloat(o.height)-z-y;if(n.has(t)){var k=n.get(t);if(k[0]===M&&k[1]===O)return}n.set(t,[M,O]);var S=Object.create(h.prototype);S.target=t,S.contentRect=new c(u,d,M,O),s.has(i)||(s.set(i,[]),p.add(i)),s.get(i).push(S)}))})),p.forEach((function(e){i.get(e).call(e,s.get(e),e)}))}return s.prototype.observe=function(i){if(i instanceof window.Element){r.has(i)||(r.set(i,new Set),o.add(i),a.set(i,window.getComputedStyle(i)));var n=r.get(i);n.has(this)||n.add(this),cancelAnimationFrame(t),t=requestAnimationFrame(d)}},s.prototype.unobserve=function(i){if(i instanceof window.Element&&r.has(i)){var n=r.get(i);n.has(this)&&(n.delete(this),n.size||(r.delete(i),o.delete(i))),n.size||r.delete(i),o.size||cancelAnimationFrame(t)}},A.DOMRectReadOnly=c,A.ResizeObserver=s,A.ResizeObserverEntry=h,A}; // eslint-disable-line\n",
       "mpl.toolbar_items = [[\"Home\", \"Reset original view\", \"fa fa-home icon-home\", \"home\"], [\"Back\", \"Back to previous view\", \"fa fa-arrow-left icon-arrow-left\", \"back\"], [\"Forward\", \"Forward to next view\", \"fa fa-arrow-right icon-arrow-right\", \"forward\"], [\"\", \"\", \"\", \"\"], [\"Pan\", \"Left button pans, Right button zooms\\nx/y fixes axis, CTRL fixes aspect\", \"fa fa-arrows icon-move\", \"pan\"], [\"Zoom\", \"Zoom to rectangle\\nx/y fixes axis\", \"fa fa-square-o icon-check-empty\", \"zoom\"], [\"\", \"\", \"\", \"\"], [\"Download\", \"Download plot\", \"fa fa-floppy-o icon-save\", \"download\"]];\n",
       "\n",
       "mpl.extensions = [\"eps\", \"jpeg\", \"pgf\", \"pdf\", \"png\", \"ps\", \"raw\", \"svg\", \"tif\"];\n",
       "\n",
       "mpl.default_extension = \"png\";/* global mpl */\n",
       "\n",
       "var comm_websocket_adapter = function (comm) {\n",
       "    // Create a \"websocket\"-like object which calls the given IPython comm\n",
       "    // object with the appropriate methods. Currently this is a non binary\n",
       "    // socket, so there is still some room for performance tuning.\n",
       "    var ws = {};\n",
       "\n",
       "    ws.binaryType = comm.kernel.ws.binaryType;\n",
       "    ws.readyState = comm.kernel.ws.readyState;\n",
       "    function updateReadyState(_event) {\n",
       "        if (comm.kernel.ws) {\n",
       "            ws.readyState = comm.kernel.ws.readyState;\n",
       "        } else {\n",
       "            ws.readyState = 3; // Closed state.\n",
       "        }\n",
       "    }\n",
       "    comm.kernel.ws.addEventListener('open', updateReadyState);\n",
       "    comm.kernel.ws.addEventListener('close', updateReadyState);\n",
       "    comm.kernel.ws.addEventListener('error', updateReadyState);\n",
       "\n",
       "    ws.close = function () {\n",
       "        comm.close();\n",
       "    };\n",
       "    ws.send = function (m) {\n",
       "        //console.log('sending', m);\n",
       "        comm.send(m);\n",
       "    };\n",
       "    // Register the callback with on_msg.\n",
       "    comm.on_msg(function (msg) {\n",
       "        //console.log('receiving', msg['content']['data'], msg);\n",
       "        var data = msg['content']['data'];\n",
       "        if (data['blob'] !== undefined) {\n",
       "            data = {\n",
       "                data: new Blob(msg['buffers'], { type: data['blob'] }),\n",
       "            };\n",
       "        }\n",
       "        // Pass the mpl event to the overridden (by mpl) onmessage function.\n",
       "        ws.onmessage(data);\n",
       "    });\n",
       "    return ws;\n",
       "};\n",
       "\n",
       "mpl.mpl_figure_comm = function (comm, msg) {\n",
       "    // This is the function which gets called when the mpl process\n",
       "    // starts-up an IPython Comm through the \"matplotlib\" channel.\n",
       "\n",
       "    var id = msg.content.data.id;\n",
       "    // Get hold of the div created by the display call when the Comm\n",
       "    // socket was opened in Python.\n",
       "    var element = document.getElementById(id);\n",
       "    var ws_proxy = comm_websocket_adapter(comm);\n",
       "\n",
       "    function ondownload(figure, _format) {\n",
       "        window.open(figure.canvas.toDataURL());\n",
       "    }\n",
       "\n",
       "    var fig = new mpl.figure(id, ws_proxy, ondownload, element);\n",
       "\n",
       "    // Call onopen now - mpl needs it, as it is assuming we've passed it a real\n",
       "    // web socket which is closed, not our websocket->open comm proxy.\n",
       "    ws_proxy.onopen();\n",
       "\n",
       "    fig.parent_element = element;\n",
       "    fig.cell_info = mpl.find_output_cell(\"<div id='\" + id + \"'></div>\");\n",
       "    if (!fig.cell_info) {\n",
       "        console.error('Failed to find cell for figure', id, fig);\n",
       "        return;\n",
       "    }\n",
       "    fig.cell_info[0].output_area.element.on(\n",
       "        'cleared',\n",
       "        { fig: fig },\n",
       "        fig._remove_fig_handler\n",
       "    );\n",
       "};\n",
       "\n",
       "mpl.figure.prototype.handle_close = function (fig, msg) {\n",
       "    var width = fig.canvas.width / fig.ratio;\n",
       "    fig.cell_info[0].output_area.element.off(\n",
       "        'cleared',\n",
       "        fig._remove_fig_handler\n",
       "    );\n",
       "    fig.resizeObserverInstance.unobserve(fig.canvas_div);\n",
       "\n",
       "    // Update the output cell to use the data from the current canvas.\n",
       "    fig.push_to_output();\n",
       "    var dataURL = fig.canvas.toDataURL();\n",
       "    // Re-enable the keyboard manager in IPython - without this line, in FF,\n",
       "    // the notebook keyboard shortcuts fail.\n",
       "    IPython.keyboard_manager.enable();\n",
       "    fig.parent_element.innerHTML =\n",
       "        '<img src=\"' + dataURL + '\" width=\"' + width + '\">';\n",
       "    fig.close_ws(fig, msg);\n",
       "};\n",
       "\n",
       "mpl.figure.prototype.close_ws = function (fig, msg) {\n",
       "    fig.send_message('closing', msg);\n",
       "    // fig.ws.close()\n",
       "};\n",
       "\n",
       "mpl.figure.prototype.push_to_output = function (_remove_interactive) {\n",
       "    // Turn the data on the canvas into data in the output cell.\n",
       "    var width = this.canvas.width / this.ratio;\n",
       "    var dataURL = this.canvas.toDataURL();\n",
       "    this.cell_info[1]['text/html'] =\n",
       "        '<img src=\"' + dataURL + '\" width=\"' + width + '\">';\n",
       "};\n",
       "\n",
       "mpl.figure.prototype.updated_canvas_event = function () {\n",
       "    // Tell IPython that the notebook contents must change.\n",
       "    IPython.notebook.set_dirty(true);\n",
       "    this.send_message('ack', {});\n",
       "    var fig = this;\n",
       "    // Wait a second, then push the new image to the DOM so\n",
       "    // that it is saved nicely (might be nice to debounce this).\n",
       "    setTimeout(function () {\n",
       "        fig.push_to_output();\n",
       "    }, 1000);\n",
       "};\n",
       "\n",
       "mpl.figure.prototype._init_toolbar = function () {\n",
       "    var fig = this;\n",
       "\n",
       "    var toolbar = document.createElement('div');\n",
       "    toolbar.classList = 'btn-toolbar';\n",
       "    this.root.appendChild(toolbar);\n",
       "\n",
       "    function on_click_closure(name) {\n",
       "        return function (_event) {\n",
       "            return fig.toolbar_button_onclick(name);\n",
       "        };\n",
       "    }\n",
       "\n",
       "    function on_mouseover_closure(tooltip) {\n",
       "        return function (event) {\n",
       "            if (!event.currentTarget.disabled) {\n",
       "                return fig.toolbar_button_onmouseover(tooltip);\n",
       "            }\n",
       "        };\n",
       "    }\n",
       "\n",
       "    fig.buttons = {};\n",
       "    var buttonGroup = document.createElement('div');\n",
       "    buttonGroup.classList = 'btn-group';\n",
       "    var button;\n",
       "    for (var toolbar_ind in mpl.toolbar_items) {\n",
       "        var name = mpl.toolbar_items[toolbar_ind][0];\n",
       "        var tooltip = mpl.toolbar_items[toolbar_ind][1];\n",
       "        var image = mpl.toolbar_items[toolbar_ind][2];\n",
       "        var method_name = mpl.toolbar_items[toolbar_ind][3];\n",
       "\n",
       "        if (!name) {\n",
       "            /* Instead of a spacer, we start a new button group. */\n",
       "            if (buttonGroup.hasChildNodes()) {\n",
       "                toolbar.appendChild(buttonGroup);\n",
       "            }\n",
       "            buttonGroup = document.createElement('div');\n",
       "            buttonGroup.classList = 'btn-group';\n",
       "            continue;\n",
       "        }\n",
       "\n",
       "        button = fig.buttons[name] = document.createElement('button');\n",
       "        button.classList = 'btn btn-default';\n",
       "        button.href = '#';\n",
       "        button.title = name;\n",
       "        button.innerHTML = '<i class=\"fa ' + image + ' fa-lg\"></i>';\n",
       "        button.addEventListener('click', on_click_closure(method_name));\n",
       "        button.addEventListener('mouseover', on_mouseover_closure(tooltip));\n",
       "        buttonGroup.appendChild(button);\n",
       "    }\n",
       "\n",
       "    if (buttonGroup.hasChildNodes()) {\n",
       "        toolbar.appendChild(buttonGroup);\n",
       "    }\n",
       "\n",
       "    // Add the status bar.\n",
       "    var status_bar = document.createElement('span');\n",
       "    status_bar.classList = 'mpl-message pull-right';\n",
       "    toolbar.appendChild(status_bar);\n",
       "    this.message = status_bar;\n",
       "\n",
       "    // Add the close button to the window.\n",
       "    var buttongrp = document.createElement('div');\n",
       "    buttongrp.classList = 'btn-group inline pull-right';\n",
       "    button = document.createElement('button');\n",
       "    button.classList = 'btn btn-mini btn-primary';\n",
       "    button.href = '#';\n",
       "    button.title = 'Stop Interaction';\n",
       "    button.innerHTML = '<i class=\"fa fa-power-off icon-remove icon-large\"></i>';\n",
       "    button.addEventListener('click', function (_evt) {\n",
       "        fig.handle_close(fig, {});\n",
       "    });\n",
       "    button.addEventListener(\n",
       "        'mouseover',\n",
       "        on_mouseover_closure('Stop Interaction')\n",
       "    );\n",
       "    buttongrp.appendChild(button);\n",
       "    var titlebar = this.root.querySelector('.ui-dialog-titlebar');\n",
       "    titlebar.insertBefore(buttongrp, titlebar.firstChild);\n",
       "};\n",
       "\n",
       "mpl.figure.prototype._remove_fig_handler = function (event) {\n",
       "    var fig = event.data.fig;\n",
       "    if (event.target !== this) {\n",
       "        // Ignore bubbled events from children.\n",
       "        return;\n",
       "    }\n",
       "    fig.close_ws(fig, {});\n",
       "};\n",
       "\n",
       "mpl.figure.prototype._root_extra_style = function (el) {\n",
       "    el.style.boxSizing = 'content-box'; // override notebook setting of border-box.\n",
       "};\n",
       "\n",
       "mpl.figure.prototype._canvas_extra_style = function (el) {\n",
       "    // this is important to make the div 'focusable\n",
       "    el.setAttribute('tabindex', 0);\n",
       "    // reach out to IPython and tell the keyboard manager to turn it's self\n",
       "    // off when our div gets focus\n",
       "\n",
       "    // location in version 3\n",
       "    if (IPython.notebook.keyboard_manager) {\n",
       "        IPython.notebook.keyboard_manager.register_events(el);\n",
       "    } else {\n",
       "        // location in version 2\n",
       "        IPython.keyboard_manager.register_events(el);\n",
       "    }\n",
       "};\n",
       "\n",
       "mpl.figure.prototype._key_event_extra = function (event, _name) {\n",
       "    // Check for shift+enter\n",
       "    if (event.shiftKey && event.which === 13) {\n",
       "        this.canvas_div.blur();\n",
       "        // select the cell after this one\n",
       "        var index = IPython.notebook.find_cell_index(this.cell_info[0]);\n",
       "        IPython.notebook.select(index + 1);\n",
       "    }\n",
       "};\n",
       "\n",
       "mpl.figure.prototype.handle_save = function (fig, _msg) {\n",
       "    fig.ondownload(fig, null);\n",
       "};\n",
       "\n",
       "mpl.find_output_cell = function (html_output) {\n",
       "    // Return the cell and output element which can be found *uniquely* in the notebook.\n",
       "    // Note - this is a bit hacky, but it is done because the \"notebook_saving.Notebook\"\n",
       "    // IPython event is triggered only after the cells have been serialised, which for\n",
       "    // our purposes (turning an active figure into a static one), is too late.\n",
       "    var cells = IPython.notebook.get_cells();\n",
       "    var ncells = cells.length;\n",
       "    for (var i = 0; i < ncells; i++) {\n",
       "        var cell = cells[i];\n",
       "        if (cell.cell_type === 'code') {\n",
       "            for (var j = 0; j < cell.output_area.outputs.length; j++) {\n",
       "                var data = cell.output_area.outputs[j];\n",
       "                if (data.data) {\n",
       "                    // IPython >= 3 moved mimebundle to data attribute of output\n",
       "                    data = data.data;\n",
       "                }\n",
       "                if (data['text/html'] === html_output) {\n",
       "                    return [cell, data, j];\n",
       "                }\n",
       "            }\n",
       "        }\n",
       "    }\n",
       "};\n",
       "\n",
       "// Register the function which deals with the matplotlib target/channel.\n",
       "// The kernel may be null if the page has been refreshed.\n",
       "if (IPython.notebook.kernel !== null) {\n",
       "    IPython.notebook.kernel.comm_manager.register_target(\n",
       "        'matplotlib',\n",
       "        mpl.mpl_figure_comm\n",
       "    );\n",
       "}\n"
      ],
      "text/plain": [
       "<IPython.core.display.Javascript object>"
      ]
     },
     "metadata": {},
     "output_type": "display_data"
    },
    {
     "data": {
      "text/html": [
       "<img src=\"data:image/png;base64,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\" width=\"432\">"
      ],
      "text/plain": [
       "<IPython.core.display.HTML object>"
      ]
     },
     "metadata": {},
     "output_type": "display_data"
    }
   ],
   "source": [
    "%matplotlib notebook\n",
    "pca_3_d = PCA(n_components=3)\n",
    "pca_x_3_d = pd.DataFrame(pca_3_d.fit_transform(X), columns=[\"PCA1\", \"PCA2\", \"PCA3\"])\n",
    "variance_ratio_3d = pca_3_d.explained_variance_ratio_\n",
    "\n",
    "fig1 = plt.figure()\n",
    "ax1 = fig1.add_subplot(projection='3d')\n",
    "\n",
    "for label, color in zip(['democrat', 'republican'], ['blue', 'red']):\n",
    "    ax1.scatter(\n",
    "        pca_x_3_d.iloc[(Y == label).values, 0],\n",
    "        pca_x_3_d.iloc[(Y == label).values, 1],\n",
    "        pca_x_3_d.iloc[(Y == label).values, 2],\n",
    "        c=color,\n",
    "        label=label\n",
    "    )\n",
    "ax1.set_xlabel(f'PCA 1 ({round(variance_ratio_3d[0]*100, 2)}%)')\n",
    "ax1.set_ylabel(f'PCA 2 ({round(variance_ratio_3d[1]*100, 2)}%)')\n",
    "ax1.set_zlabel(f'PCA 3 ({round(variance_ratio_3d[2]*100, 2)}%)')\n",
    "\n",
    "ax1.legend()\n",
    "plt.show()"
   ]
  },
  {
   "cell_type": "markdown",
   "id": "0edc99d4",
   "metadata": {},
   "source": [
    "Para que la reducción de componentes sea lo suficiente buena, la suma de la varianza explicada tendría que estar alrededor del 70%. Pero como se puede ver, la reducción a 2 y 3 componentes principales, que son las únicas que podemos representar gráficamente, no sería adecuada."
   ]
  },
  {
   "cell_type": "markdown",
   "id": "004babd1",
   "metadata": {},
   "source": [
    "## Estimación de parámetros con Grid Search y Random Search"
   ]
  },
  {
   "cell_type": "markdown",
   "id": "b41b0952",
   "metadata": {},
   "source": [
    "En este apartado se pretende buscar los mejores parámetros utilizando los estimadores Grid Search y Random search para los clasificadores **Decision Tree**, **SVM** y **kNN** de **scikit-learn**."
   ]
  },
  {
   "cell_type": "markdown",
   "id": "b6ffc6a0",
   "metadata": {},
   "source": [
    "### Grid Search"
   ]
  },
  {
   "cell_type": "markdown",
   "id": "265b92fc",
   "metadata": {},
   "source": [
    "**Grid Search**, o búsqueda por rejilla, se basa en probar todas las opciones posibles que se han definido en la rejilla y quedarse con la mejor combinación que suponga una mejor métrica. La métrica se puede definir al inicializar la búsqueda y en este caso se utilizará la tasa de acierto o CCR\n",
    "\n",
    "Primero se empieza con el clasificador de **Decision Tree**. Se han indicado varios valores para la máxima profundidad, el mínimo de instancias para hacer un split, y el mínimo de instancias en una hoja."
   ]
  },
  {
   "cell_type": "code",
   "execution_count": 27,
   "id": "00c3b3c5",
   "metadata": {},
   "outputs": [],
   "source": [
    "param_grid_tree = {\n",
    "    'max_depth': [3, 4, 5, 6, 7, 8],\n",
    "    'min_samples_split': [2, 3, 4, 5, 6],\n",
    "    'min_samples_leaf':  [1, 2, 3, 4, 5]\n",
    "}\n",
    "\n",
    "grid_search_tree_clf = GridSearchCV(\n",
    "    DecisionTreeClassifier(random_state=42),\n",
    "    param_grid=param_grid_tree,\n",
    "    scoring='accuracy',\n",
    "    n_jobs=-1\n",
    ")"
   ]
  },
  {
   "cell_type": "markdown",
   "id": "559edc1f",
   "metadata": {},
   "source": [
    "Se ejecuta el **Grid Search** con el dataset que tenemos y se obtiene que el mejor **árbol de decisión** con ese dataset y con los parámetros que se habían fijado anteriormente, tiene una profundidad máxima de 4, un mínimo de instancias por split de 2 y un mínimo de instancias por hoja de 1."
   ]
  },
  {
   "cell_type": "code",
   "execution_count": 28,
   "id": "a484705f",
   "metadata": {},
   "outputs": [
    {
     "data": {
      "text/plain": [
       "DecisionTreeClassifier(max_depth=4, random_state=42)"
      ]
     },
     "execution_count": 28,
     "metadata": {},
     "output_type": "execute_result"
    }
   ],
   "source": [
    "grid_search_tree_clf.fit(X, Y)\n",
    "grid_search_tree_clf.best_estimator_"
   ]
  },
  {
   "cell_type": "markdown",
   "id": "97dc2691",
   "metadata": {},
   "source": [
    "A continuación se utiliza **SVM** con **Grid Search**. Se ha indicado un rango de valores para el elemento de penalización C, el tipo de kernel, el grado del polinomio y el coeficiente gamma del kernel."
   ]
  },
  {
   "cell_type": "code",
   "execution_count": 29,
   "id": "40c86320",
   "metadata": {},
   "outputs": [],
   "source": [
    "param_grid_smv = {\n",
    "    'C': [1e-1, 1, 10, 25, 50, 100],\n",
    "    'kernel': ['poly', 'rbf'],\n",
    "    'degree': [2, 3, 4, 5, 6],\n",
    "    'gamma': [1e-1, 1, 10, 25, 50, 100]\n",
    "}\n",
    "\n",
    "grid_search_svm_clf = GridSearchCV(\n",
    "    SVC(random_state=42),\n",
    "    param_grid=param_grid_smv,\n",
    "    scoring='accuracy',\n",
    "    n_jobs=-1,\n",
    ")"
   ]
  },
  {
   "cell_type": "markdown",
   "id": "97855903",
   "metadata": {},
   "source": [
    "Se ejecuta el **Grid Search** con el dataset que tenemos y se obtiene que el mejor modelo de **SVM** con ese dataset y con los parámetros que se habían fijado anteriormente, tiene una penalización C de 0.1, un kernel polinomial, un grado polinomial de 5 y un coeficiente gamma de 0.1"
   ]
  },
  {
   "cell_type": "code",
   "execution_count": 30,
   "id": "2f3dceb0",
   "metadata": {},
   "outputs": [
    {
     "name": "stdout",
     "output_type": "stream",
     "text": [
      "SVC(C=0.1, degree=5, gamma=0.1, kernel='poly', random_state=42)\n"
     ]
    }
   ],
   "source": [
    "grid_search_svm_clf.fit(X, Y)\n",
    "print(grid_search_svm_clf.best_estimator_)"
   ]
  },
  {
   "cell_type": "markdown",
   "id": "b04f34d1",
   "metadata": {},
   "source": [
    "A continuación se utiliza **kNN** con **Grid Search**. Se ha indicado un rango de valores para el número de vecinos y el parámetro de la potencia para la métrica de Minkowski, donde 1 es la distancia de Manhattan y 2 la distancia euclídea"
   ]
  },
  {
   "cell_type": "code",
   "execution_count": 31,
   "id": "f72c5ed8",
   "metadata": {},
   "outputs": [],
   "source": [
    "param_grid_knn = {\n",
    "    'n_neighbors': [1, 3, 5, 7, 9, 11],\n",
    "    'p': [1, 2]\n",
    "}\n",
    "\n",
    "grid_search_knn_clf = GridSearchCV(\n",
    "    KNeighborsClassifier(),\n",
    "    param_grid=param_grid_knn,\n",
    "    scoring='accuracy',\n",
    "    n_jobs=-1\n",
    ")"
   ]
  },
  {
   "cell_type": "markdown",
   "id": "414b73aa",
   "metadata": {},
   "source": [
    "Se ejecuta el **Grid Search** con el dataset que tenemos y se obtiene que el mejor modelo de **kNN** con ese dataset y con los parámetros que se habían fijado anteriormente, el número de vecinos es de 2 y la métrica de distancia utilizada es la de Manhattan"
   ]
  },
  {
   "cell_type": "code",
   "execution_count": 32,
   "id": "393116a2",
   "metadata": {},
   "outputs": [
    {
     "name": "stdout",
     "output_type": "stream",
     "text": [
      "KNeighborsClassifier(p=1)\n"
     ]
    }
   ],
   "source": [
    "grid_search_knn_clf.fit(X, Y)\n",
    "print(grid_search_knn_clf.best_estimator_)"
   ]
  },
  {
   "cell_type": "markdown",
   "id": "63ec8ef6",
   "metadata": {},
   "source": [
    "### Random search"
   ]
  },
  {
   "cell_type": "markdown",
   "id": "58cb8980",
   "metadata": {},
   "source": [
    "**Random search**, o búsqueda aleatoria, se basa en probar x combinaciones de parámetros que se han escogido de manera pseudo-aleatoria y quedarse con la mejor combinación que suponga una mejor métrica. La métrica se puede definir al inicializar la búsqueda y en este caso se utilizará la tasa de acierto o CCR"
   ]
  },
  {
   "cell_type": "markdown",
   "id": "5576b2bd",
   "metadata": {},
   "source": [
    "Primero se empieza con el clasificador de **Decision Tree**. Se han indicado varios valores para la máxima profundidad, el mínimo de instancias para hacer un split, y el mínimo de instancias en una hoja."
   ]
  },
  {
   "cell_type": "code",
   "execution_count": 33,
   "id": "bc6cfcd9",
   "metadata": {},
   "outputs": [],
   "source": [
    "param_random_tree = {\n",
    "    'max_depth': [3, 4, 5, 6, 7, 8],\n",
    "    'min_samples_split': [2, 3, 4, 5, 6],\n",
    "    'min_samples_leaf':  [1, 2, 3, 4, 5]\n",
    "}\n",
    "\n",
    "random_search_tree_clf = RandomizedSearchCV(\n",
    "    DecisionTreeClassifier(random_state=42),\n",
    "    param_random_tree,\n",
    "    scoring='accuracy',\n",
    "    random_state=42,\n",
    "    n_jobs=-1\n",
    ")"
   ]
  },
  {
   "cell_type": "markdown",
   "id": "5e6ac72c",
   "metadata": {},
   "source": [
    "Se ejecuta el **Random Search** con el dataset que tenemos y se obtiene que el mejor **árbol de decisión** con ese dataset y con los parámetros que se habían fijado anteriormente, tiene una profundidad máxima de 4, un mínimo de instancias por split de 3 y un mínimo de instancias por hoja de 2."
   ]
  },
  {
   "cell_type": "code",
   "execution_count": 34,
   "id": "537ba83e",
   "metadata": {},
   "outputs": [
    {
     "name": "stdout",
     "output_type": "stream",
     "text": [
      "DecisionTreeClassifier(max_depth=4, min_samples_leaf=2, min_samples_split=3,\n",
      "                       random_state=42)\n"
     ]
    }
   ],
   "source": [
    "random_search_tree_clf.fit(X, Y)\n",
    "print(random_search_tree_clf.best_estimator_)"
   ]
  },
  {
   "cell_type": "markdown",
   "id": "2191cb8a",
   "metadata": {},
   "source": [
    "A continuación se utiliza **SVM** con **Random Search**. Se ha indicado un rango de valores para el elemento de penalización C, el tipo de kernel, el grado del polinomio y el coeficiente gamma del kernel."
   ]
  },
  {
   "cell_type": "code",
   "execution_count": 35,
   "id": "e792f4f4",
   "metadata": {},
   "outputs": [],
   "source": [
    "param_random_smv = {\n",
    "    'C': uniform(1e-5, 100),\n",
    "    'kernel': ['poly', 'rbf'],\n",
    "    'degree': [2, 3, 4, 5, 6],\n",
    "    'gamma': uniform(1e-5, 100)\n",
    "}\n",
    "\n",
    "random_search_svm_clf = RandomizedSearchCV(\n",
    "    SVC(random_state=42),\n",
    "    param_random_smv,\n",
    "    scoring='accuracy',\n",
    "    random_state=42,\n",
    "    n_jobs=-1,\n",
    ")"
   ]
  },
  {
   "cell_type": "markdown",
   "id": "31d42883",
   "metadata": {},
   "source": [
    "Se ejecuta el **Random Search** con el dataset que tenemos y se obtiene que el mejor modelo de **SVM** con ese dataset y con los parámetros que se habían fijado anteriormente, tiene una penalización C de 59.24146688620425, un kernel polinomial, un grado polinomial de 4 y un coeficiente gamma de 85.99405067363206."
   ]
  },
  {
   "cell_type": "code",
   "execution_count": 36,
   "id": "8cccfc1f",
   "metadata": {},
   "outputs": [
    {
     "name": "stdout",
     "output_type": "stream",
     "text": [
      "SVC(C=59.24146688620425, degree=4, gamma=85.99405067363206, kernel='poly',\n",
      "    random_state=42)\n"
     ]
    }
   ],
   "source": [
    "random_search_svm_clf.fit(X, Y)\n",
    "print(random_search_svm_clf.best_estimator_)"
   ]
  },
  {
   "cell_type": "markdown",
   "id": "d2c32c55",
   "metadata": {},
   "source": [
    "Por último se utiliza **kNN** con **Random Search**. Se ha indicado un rango de valores para el número de vecinos y el parámetro de la potencia para la métrica de Minkowski, donde 1 es la distancia de Manhattan y 2 la distancia euclídea"
   ]
  },
  {
   "cell_type": "code",
   "execution_count": 37,
   "id": "c558fac3",
   "metadata": {},
   "outputs": [],
   "source": [
    "param_random_knn = {\n",
    "    'n_neighbors': [1, 3, 5, 7, 9, 11],\n",
    "    'p': [1, 2]\n",
    "}\n",
    "\n",
    "random_search_knn_clf = RandomizedSearchCV(\n",
    "    KNeighborsClassifier(),\n",
    "    param_random_knn,\n",
    "    scoring='accuracy',\n",
    "    random_state=42,\n",
    "    n_jobs=-1\n",
    ")"
   ]
  },
  {
   "cell_type": "markdown",
   "id": "475f5301",
   "metadata": {},
   "source": [
    "Se ejecuta el **Random Search** con el dataset que tenemos y se obtiene que el mejor modelo de **kNN** con ese dataset y con los parámetros que se habían fijado anteriormente, el número de vecinos es de 5 y la métrica de distancia utilizada es la euclídea."
   ]
  },
  {
   "cell_type": "code",
   "execution_count": 38,
   "id": "bfedea2f",
   "metadata": {},
   "outputs": [
    {
     "name": "stdout",
     "output_type": "stream",
     "text": [
      "KNeighborsClassifier()\n"
     ]
    }
   ],
   "source": [
    "random_search_knn_clf.fit(X, Y)\n",
    "print(random_search_knn_clf.best_estimator_)"
   ]
  },
  {
   "cell_type": "markdown",
   "id": "55bdd49e",
   "metadata": {},
   "source": [
    "## Validación cruzada"
   ]
  },
  {
   "cell_type": "markdown",
   "id": "fadb02ab",
   "metadata": {},
   "source": [
    "En este apartado se va a ejecutar una **validación cruzada** con 10 folds estratificados, ya que estamos ante dataset desbalanceado, y se van a utilizar los mejores parámetros obtenidos en el **Grid Search**."
   ]
  },
  {
   "cell_type": "code",
   "execution_count": 39,
   "id": "a874e9a7",
   "metadata": {},
   "outputs": [],
   "source": [
    "stratified_folds = StratifiedKFold(n_splits=10, shuffle=True, random_state=42)"
   ]
  },
  {
   "cell_type": "code",
   "execution_count": 40,
   "id": "a33f3e8d",
   "metadata": {},
   "outputs": [
    {
     "name": "stdout",
     "output_type": "stream",
     "text": [
      "[0.95454545 0.97727273 0.95454545 0.90909091 0.93181818 0.95348837\n",
      " 1.         1.         0.97674419 0.8372093 ]\n",
      "0.9494714587737845\n"
     ]
    }
   ],
   "source": [
    "tree_clf = DecisionTreeClassifier(\n",
    "    random_state=42,\n",
    "    max_depth=4,\n",
    "    min_samples_split=2,\n",
    "    min_samples_leaf=1\n",
    ")\n",
    "cross_val_tree = cross_val_score(\n",
    "    tree_clf,\n",
    "    X,\n",
    "    Y,\n",
    "    cv=stratified_folds,\n",
    "    scoring='accuracy',\n",
    "    n_jobs=-1\n",
    ")\n",
    "print(cross_val_tree)\n",
    "print(cross_val_tree.mean())"
   ]
  },
  {
   "cell_type": "code",
   "execution_count": 41,
   "id": "47f44fd4",
   "metadata": {},
   "outputs": [
    {
     "name": "stdout",
     "output_type": "stream",
     "text": [
      "[0.95454545 1.         0.97727273 0.95454545 0.93181818 0.90697674\n",
      " 1.         1.         1.         0.88372093]\n",
      "0.9608879492600423\n"
     ]
    }
   ],
   "source": [
    "svm_clf = SVC(\n",
    "    C=0.1,\n",
    "    degree=5,\n",
    "    gamma=0.1,\n",
    "    kernel='poly',\n",
    "    random_state=42\n",
    ")\n",
    "cross_val_svm = cross_val_score(\n",
    "    svm_clf,\n",
    "    X,\n",
    "    Y,\n",
    "    cv=stratified_folds,\n",
    "    scoring='accuracy',\n",
    "    n_jobs=-1\n",
    ")\n",
    "print(cross_val_svm)\n",
    "print(cross_val_svm.mean())"
   ]
  },
  {
   "cell_type": "code",
   "execution_count": 42,
   "id": "a5fd7fb9",
   "metadata": {},
   "outputs": [
    {
     "name": "stdout",
     "output_type": "stream",
     "text": [
      "[0.88636364 0.95454545 0.97727273 0.93181818 0.93181818 0.88372093\n",
      " 1.         0.97674419 0.97674419 0.8372093 ]\n",
      "0.9356236786469344\n"
     ]
    }
   ],
   "source": [
    "knn_clf = KNeighborsClassifier(\n",
    "    n_neighbors=5,\n",
    "    p=1\n",
    ")\n",
    "cross_val_knn = cross_val_score(\n",
    "    knn_clf,\n",
    "    X,\n",
    "    Y,\n",
    "    cv=stratified_folds,\n",
    "    scoring='accuracy',\n",
    "    n_jobs=-1\n",
    ")\n",
    "print(cross_val_knn)\n",
    "print(cross_val_knn.mean())"
   ]
  },
  {
   "cell_type": "markdown",
   "id": "96d2e6f4",
   "metadata": {},
   "source": [
    "Se observa que el clasificador **SVM** tiene el mejor rendimiento ya que tiene la mayor tasa de acierto media respecto a los clasificadores **Decision Tree** y **kNN**"
   ]
  }
 ],
 "metadata": {
  "kernelspec": {
   "display_name": "Python 3 (ipykernel)",
   "language": "python",
   "name": "python3"
  },
  "language_info": {
   "codemirror_mode": {
    "name": "ipython",
    "version": 3
   },
   "file_extension": ".py",
   "mimetype": "text/x-python",
   "name": "python",
   "nbconvert_exporter": "python",
   "pygments_lexer": "ipython3",
   "version": "3.8.12"
  }
 },
 "nbformat": 4,
 "nbformat_minor": 5
}
